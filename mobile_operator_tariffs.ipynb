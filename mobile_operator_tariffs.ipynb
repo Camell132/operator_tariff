{
 "cells": [
  {
   "cell_type": "markdown",
   "metadata": {},
   "source": [
    "# Определение перспективного тарифа для телеком-компании"
   ]
  },
  {
   "cell_type": "markdown",
   "metadata": {},
   "source": [
    "Вы аналитик компании «Мегалайн» — федерального оператора сотовой связи. Клиентам предлагают два тарифных плана: «Смарт» и «Ультра». Чтобы скорректировать рекламный бюджет, коммерческий департамент хочет понять, какой тариф приносит больше денег.\n",
    "Вам предстоит сделать предварительный анализ тарифов на небольшой выборке клиентов. В вашем распоряжении данные 500 пользователей «Мегалайна»: кто они, откуда, каким тарифом пользуются, сколько звонков и сообщений каждый отправил за 2018 год. Нужно проанализировать поведение клиентов и сделать вывод — какой тариф лучше.\n",
    "\n",
    "**Цель исследования** — определение наиболее прибыльного тарифа и проверка двух гипотез:\n",
    "\n",
    "1. Средняя выручка пользователей тарифов «Ультра» и «Смарт» различаются;\n",
    "2. Средняя выручка пользователей из Москвы отличается от выручки пользователей из других регионов."
   ]
  },
  {
   "cell_type": "markdown",
   "metadata": {},
   "source": [
    "### Описание тарифов"
   ]
  },
  {
   "cell_type": "markdown",
   "metadata": {},
   "source": [
    "**Тариф «Смарт»**\n",
    "\n",
    "- Ежемесячная плата: 550 рублей\n",
    "- Включено 500 минут разговора, 50 сообщений и 15 Гб интернет-трафика\n",
    "- Стоимость услуг сверх тарифного пакета: \n",
    "   - минута разговора: 3 рубля («Мегалайн» всегда округляет вверх значения минут и мегабайтов. Если пользователь проговорил всего 1 секунду, в тарифе засчитывается целая минута); \n",
    "   - сообщение: 3 рубля; \n",
    "   - 1 Гб интернет-трафика: 200 рублей.\n",
    "\n",
    "**Тариф «Ультра»**\n",
    "\n",
    "- Ежемесячная плата: 1950 рублей\n",
    "- Включено 3000 минут разговора, 1000 сообщений и 30 Гб интернет-трафика\n",
    "- Стоимость услуг сверх тарифного пакета: \n",
    "   - минута разговора: 1 рубль; \n",
    "   - сообщение: 1 рубль; \n",
    "   - 1 Гб интернет-трафика: 150 рублей."
   ]
  },
  {
   "cell_type": "markdown",
   "metadata": {},
   "source": [
    "**Примечание:**\n",
    "\n",
    "«Мегалайн» всегда округляет секунды до минут, а мегабайты — до гигабайт. Каждый звонок округляется отдельно: даже если он длился всего 1 секунду, будет засчитан как 1 минута.\n",
    "Для веб-трафика отдельные сессии не считаются. Вместо этого общая сумма за месяц округляется в бо́льшую сторону. Если абонент использует 1025 мегабайт в этом месяце, с него возьмут плату за 2 гигабайта."
   ]
  },
  {
   "cell_type": "markdown",
   "metadata": {},
   "source": [
    "**Ход исследования**\n",
    "\n",
    "Данные о звонках находятся в файле `calls.csv`, информация об интернет-сессиях в `internet.csv`, данные о сообщениях в `messages.csv`, информация о тарифах в `tariffs.csv`, информация о пользователях в `users.csv`. О качестве данных ничего не известно. Поэтому перед проверкой гипотез понадобится обзор данных. \n",
    "\n",
    "На этапе предобработки необходимо будет определить и обработать пропуски, проверить наличие дубликатов, привести данные в столбцах к нужным типам, оценить данные на наличие в них аномалий.\n",
    "\n",
    "Необходимо дополнить таблицу и для каждого пользователя посчитать:\n",
    "- количество сделанных звонков и израсходованных минут разговора по месяцам;\n",
    "- количество отправленных сообщений по месяцам;\n",
    "- объем израсходованного интернет-трафика по месяцам;\n",
    "- помесячную выручку с каждого пользователя (вычтите бесплатный лимит из суммарного количества звонков, сообщений и интернет-трафика; остаток умножьте на значение из тарифного плана; прибавьте абонентскую плату, соответствующую тарифному плану).\n",
    "\n",
    "На этапе анализа данных необходимо будет описать поведение клиентов оператора, исходя из выборки. Сколько минут разговора, сколько сообщений и какой объём интернет-трафика требуется пользователям каждого тарифа в месяц? Посчитать среднее количество, дисперсию и стандартное отклонение. Построить гистограммы. Описать распределения.\n",
    "\n",
    "Выполнить проверку гипотез.\n",
    " \n",
    "Таким образом, исследование пройдёт в пять этапов:\n",
    " 1. Обзор данных;\n",
    " 2. Предобработка данных;\n",
    " 3. Расчёты и добавление результатов в таблицу;\n",
    " 4. Исследовательский анализ данных;\n",
    " 5. Проверка гипотез."
   ]
  },
  {
   "cell_type": "markdown",
   "metadata": {},
   "source": [
    "## Шаг 1. Обзор данных"
   ]
  },
  {
   "cell_type": "code",
   "execution_count": 1,
   "metadata": {},
   "outputs": [],
   "source": [
    "import pandas as pd\n",
    "import numpy as np\n",
    "import matplotlib.pyplot as plt\n",
    "import math\n",
    "from scipy import stats as st"
   ]
  },
  {
   "cell_type": "code",
   "execution_count": 2,
   "metadata": {},
   "outputs": [
    {
     "name": "stdout",
     "output_type": "stream",
     "text": [
      "__________________________________\n"
     ]
    },
    {
     "data": {
      "text/html": [
       "<div>\n",
       "<style scoped>\n",
       "    .dataframe tbody tr th:only-of-type {\n",
       "        vertical-align: middle;\n",
       "    }\n",
       "\n",
       "    .dataframe tbody tr th {\n",
       "        vertical-align: top;\n",
       "    }\n",
       "\n",
       "    .dataframe thead th {\n",
       "        text-align: right;\n",
       "    }\n",
       "</style>\n",
       "<table border=\"1\" class=\"dataframe\">\n",
       "  <thead>\n",
       "    <tr style=\"text-align: right;\">\n",
       "      <th></th>\n",
       "      <th>id</th>\n",
       "      <th>call_date</th>\n",
       "      <th>duration</th>\n",
       "      <th>user_id</th>\n",
       "    </tr>\n",
       "  </thead>\n",
       "  <tbody>\n",
       "    <tr>\n",
       "      <td>0</td>\n",
       "      <td>1000_0</td>\n",
       "      <td>2018-07-25</td>\n",
       "      <td>0.00</td>\n",
       "      <td>1000</td>\n",
       "    </tr>\n",
       "    <tr>\n",
       "      <td>1</td>\n",
       "      <td>1000_1</td>\n",
       "      <td>2018-08-17</td>\n",
       "      <td>0.00</td>\n",
       "      <td>1000</td>\n",
       "    </tr>\n",
       "    <tr>\n",
       "      <td>2</td>\n",
       "      <td>1000_2</td>\n",
       "      <td>2018-06-11</td>\n",
       "      <td>2.85</td>\n",
       "      <td>1000</td>\n",
       "    </tr>\n",
       "    <tr>\n",
       "      <td>3</td>\n",
       "      <td>1000_3</td>\n",
       "      <td>2018-09-21</td>\n",
       "      <td>13.80</td>\n",
       "      <td>1000</td>\n",
       "    </tr>\n",
       "    <tr>\n",
       "      <td>4</td>\n",
       "      <td>1000_4</td>\n",
       "      <td>2018-12-15</td>\n",
       "      <td>5.18</td>\n",
       "      <td>1000</td>\n",
       "    </tr>\n",
       "    <tr>\n",
       "      <td>5</td>\n",
       "      <td>1000_5</td>\n",
       "      <td>2018-11-02</td>\n",
       "      <td>0.00</td>\n",
       "      <td>1000</td>\n",
       "    </tr>\n",
       "    <tr>\n",
       "      <td>6</td>\n",
       "      <td>1000_6</td>\n",
       "      <td>2018-10-18</td>\n",
       "      <td>0.00</td>\n",
       "      <td>1000</td>\n",
       "    </tr>\n",
       "    <tr>\n",
       "      <td>7</td>\n",
       "      <td>1000_7</td>\n",
       "      <td>2018-08-22</td>\n",
       "      <td>18.31</td>\n",
       "      <td>1000</td>\n",
       "    </tr>\n",
       "    <tr>\n",
       "      <td>8</td>\n",
       "      <td>1000_8</td>\n",
       "      <td>2018-09-15</td>\n",
       "      <td>18.44</td>\n",
       "      <td>1000</td>\n",
       "    </tr>\n",
       "    <tr>\n",
       "      <td>9</td>\n",
       "      <td>1000_9</td>\n",
       "      <td>2018-08-15</td>\n",
       "      <td>0.00</td>\n",
       "      <td>1000</td>\n",
       "    </tr>\n",
       "  </tbody>\n",
       "</table>\n",
       "</div>"
      ],
      "text/plain": [
       "       id   call_date  duration  user_id\n",
       "0  1000_0  2018-07-25      0.00     1000\n",
       "1  1000_1  2018-08-17      0.00     1000\n",
       "2  1000_2  2018-06-11      2.85     1000\n",
       "3  1000_3  2018-09-21     13.80     1000\n",
       "4  1000_4  2018-12-15      5.18     1000\n",
       "5  1000_5  2018-11-02      0.00     1000\n",
       "6  1000_6  2018-10-18      0.00     1000\n",
       "7  1000_7  2018-08-22     18.31     1000\n",
       "8  1000_8  2018-09-15     18.44     1000\n",
       "9  1000_9  2018-08-15      0.00     1000"
      ]
     },
     "metadata": {},
     "output_type": "display_data"
    },
    {
     "name": "stdout",
     "output_type": "stream",
     "text": [
      "<class 'pandas.core.frame.DataFrame'>\n",
      "RangeIndex: 202607 entries, 0 to 202606\n",
      "Data columns (total 4 columns):\n",
      "id           202607 non-null object\n",
      "call_date    202607 non-null object\n",
      "duration     202607 non-null float64\n",
      "user_id      202607 non-null int64\n",
      "dtypes: float64(1), int64(1), object(2)\n",
      "memory usage: 6.2+ MB\n"
     ]
    },
    {
     "data": {
      "text/html": [
       "<div>\n",
       "<style scoped>\n",
       "    .dataframe tbody tr th:only-of-type {\n",
       "        vertical-align: middle;\n",
       "    }\n",
       "\n",
       "    .dataframe tbody tr th {\n",
       "        vertical-align: top;\n",
       "    }\n",
       "\n",
       "    .dataframe thead th {\n",
       "        text-align: right;\n",
       "    }\n",
       "</style>\n",
       "<table border=\"1\" class=\"dataframe\">\n",
       "  <thead>\n",
       "    <tr style=\"text-align: right;\">\n",
       "      <th></th>\n",
       "      <th>duration</th>\n",
       "      <th>user_id</th>\n",
       "    </tr>\n",
       "  </thead>\n",
       "  <tbody>\n",
       "    <tr>\n",
       "      <td>count</td>\n",
       "      <td>202607.000000</td>\n",
       "      <td>202607.000000</td>\n",
       "    </tr>\n",
       "    <tr>\n",
       "      <td>mean</td>\n",
       "      <td>6.755887</td>\n",
       "      <td>1253.940619</td>\n",
       "    </tr>\n",
       "    <tr>\n",
       "      <td>std</td>\n",
       "      <td>5.843365</td>\n",
       "      <td>144.722751</td>\n",
       "    </tr>\n",
       "    <tr>\n",
       "      <td>min</td>\n",
       "      <td>0.000000</td>\n",
       "      <td>1000.000000</td>\n",
       "    </tr>\n",
       "    <tr>\n",
       "      <td>25%</td>\n",
       "      <td>1.300000</td>\n",
       "      <td>1126.000000</td>\n",
       "    </tr>\n",
       "    <tr>\n",
       "      <td>50%</td>\n",
       "      <td>6.000000</td>\n",
       "      <td>1260.000000</td>\n",
       "    </tr>\n",
       "    <tr>\n",
       "      <td>75%</td>\n",
       "      <td>10.700000</td>\n",
       "      <td>1379.000000</td>\n",
       "    </tr>\n",
       "    <tr>\n",
       "      <td>max</td>\n",
       "      <td>38.000000</td>\n",
       "      <td>1499.000000</td>\n",
       "    </tr>\n",
       "  </tbody>\n",
       "</table>\n",
       "</div>"
      ],
      "text/plain": [
       "            duration        user_id\n",
       "count  202607.000000  202607.000000\n",
       "mean        6.755887    1253.940619\n",
       "std         5.843365     144.722751\n",
       "min         0.000000    1000.000000\n",
       "25%         1.300000    1126.000000\n",
       "50%         6.000000    1260.000000\n",
       "75%        10.700000    1379.000000\n",
       "max        38.000000    1499.000000"
      ]
     },
     "metadata": {},
     "output_type": "display_data"
    },
    {
     "name": "stdout",
     "output_type": "stream",
     "text": [
      "__________________________________\n"
     ]
    },
    {
     "data": {
      "text/html": [
       "<div>\n",
       "<style scoped>\n",
       "    .dataframe tbody tr th:only-of-type {\n",
       "        vertical-align: middle;\n",
       "    }\n",
       "\n",
       "    .dataframe tbody tr th {\n",
       "        vertical-align: top;\n",
       "    }\n",
       "\n",
       "    .dataframe thead th {\n",
       "        text-align: right;\n",
       "    }\n",
       "</style>\n",
       "<table border=\"1\" class=\"dataframe\">\n",
       "  <thead>\n",
       "    <tr style=\"text-align: right;\">\n",
       "      <th></th>\n",
       "      <th>id</th>\n",
       "      <th>mb_used</th>\n",
       "      <th>session_date</th>\n",
       "      <th>user_id</th>\n",
       "    </tr>\n",
       "  </thead>\n",
       "  <tbody>\n",
       "    <tr>\n",
       "      <td>0</td>\n",
       "      <td>1000_0</td>\n",
       "      <td>112.95</td>\n",
       "      <td>2018-11-25</td>\n",
       "      <td>1000</td>\n",
       "    </tr>\n",
       "    <tr>\n",
       "      <td>1</td>\n",
       "      <td>1000_1</td>\n",
       "      <td>1052.81</td>\n",
       "      <td>2018-09-07</td>\n",
       "      <td>1000</td>\n",
       "    </tr>\n",
       "    <tr>\n",
       "      <td>2</td>\n",
       "      <td>1000_2</td>\n",
       "      <td>1197.26</td>\n",
       "      <td>2018-06-25</td>\n",
       "      <td>1000</td>\n",
       "    </tr>\n",
       "    <tr>\n",
       "      <td>3</td>\n",
       "      <td>1000_3</td>\n",
       "      <td>550.27</td>\n",
       "      <td>2018-08-22</td>\n",
       "      <td>1000</td>\n",
       "    </tr>\n",
       "    <tr>\n",
       "      <td>4</td>\n",
       "      <td>1000_4</td>\n",
       "      <td>302.56</td>\n",
       "      <td>2018-09-24</td>\n",
       "      <td>1000</td>\n",
       "    </tr>\n",
       "    <tr>\n",
       "      <td>5</td>\n",
       "      <td>1000_5</td>\n",
       "      <td>399.97</td>\n",
       "      <td>2018-10-02</td>\n",
       "      <td>1000</td>\n",
       "    </tr>\n",
       "    <tr>\n",
       "      <td>6</td>\n",
       "      <td>1000_6</td>\n",
       "      <td>540.08</td>\n",
       "      <td>2018-09-07</td>\n",
       "      <td>1000</td>\n",
       "    </tr>\n",
       "    <tr>\n",
       "      <td>7</td>\n",
       "      <td>1000_7</td>\n",
       "      <td>415.70</td>\n",
       "      <td>2018-07-11</td>\n",
       "      <td>1000</td>\n",
       "    </tr>\n",
       "    <tr>\n",
       "      <td>8</td>\n",
       "      <td>1000_8</td>\n",
       "      <td>505.40</td>\n",
       "      <td>2018-10-08</td>\n",
       "      <td>1000</td>\n",
       "    </tr>\n",
       "    <tr>\n",
       "      <td>9</td>\n",
       "      <td>1000_9</td>\n",
       "      <td>345.54</td>\n",
       "      <td>2018-09-03</td>\n",
       "      <td>1000</td>\n",
       "    </tr>\n",
       "  </tbody>\n",
       "</table>\n",
       "</div>"
      ],
      "text/plain": [
       "       id  mb_used session_date  user_id\n",
       "0  1000_0   112.95   2018-11-25     1000\n",
       "1  1000_1  1052.81   2018-09-07     1000\n",
       "2  1000_2  1197.26   2018-06-25     1000\n",
       "3  1000_3   550.27   2018-08-22     1000\n",
       "4  1000_4   302.56   2018-09-24     1000\n",
       "5  1000_5   399.97   2018-10-02     1000\n",
       "6  1000_6   540.08   2018-09-07     1000\n",
       "7  1000_7   415.70   2018-07-11     1000\n",
       "8  1000_8   505.40   2018-10-08     1000\n",
       "9  1000_9   345.54   2018-09-03     1000"
      ]
     },
     "metadata": {},
     "output_type": "display_data"
    },
    {
     "name": "stdout",
     "output_type": "stream",
     "text": [
      "<class 'pandas.core.frame.DataFrame'>\n",
      "RangeIndex: 149396 entries, 0 to 149395\n",
      "Data columns (total 4 columns):\n",
      "id              149396 non-null object\n",
      "mb_used         149396 non-null float64\n",
      "session_date    149396 non-null object\n",
      "user_id         149396 non-null int64\n",
      "dtypes: float64(1), int64(1), object(2)\n",
      "memory usage: 4.6+ MB\n"
     ]
    },
    {
     "data": {
      "text/html": [
       "<div>\n",
       "<style scoped>\n",
       "    .dataframe tbody tr th:only-of-type {\n",
       "        vertical-align: middle;\n",
       "    }\n",
       "\n",
       "    .dataframe tbody tr th {\n",
       "        vertical-align: top;\n",
       "    }\n",
       "\n",
       "    .dataframe thead th {\n",
       "        text-align: right;\n",
       "    }\n",
       "</style>\n",
       "<table border=\"1\" class=\"dataframe\">\n",
       "  <thead>\n",
       "    <tr style=\"text-align: right;\">\n",
       "      <th></th>\n",
       "      <th>mb_used</th>\n",
       "      <th>user_id</th>\n",
       "    </tr>\n",
       "  </thead>\n",
       "  <tbody>\n",
       "    <tr>\n",
       "      <td>count</td>\n",
       "      <td>149396.000000</td>\n",
       "      <td>149396.000000</td>\n",
       "    </tr>\n",
       "    <tr>\n",
       "      <td>mean</td>\n",
       "      <td>370.192426</td>\n",
       "      <td>1252.099842</td>\n",
       "    </tr>\n",
       "    <tr>\n",
       "      <td>std</td>\n",
       "      <td>278.300951</td>\n",
       "      <td>144.050823</td>\n",
       "    </tr>\n",
       "    <tr>\n",
       "      <td>min</td>\n",
       "      <td>0.000000</td>\n",
       "      <td>1000.000000</td>\n",
       "    </tr>\n",
       "    <tr>\n",
       "      <td>25%</td>\n",
       "      <td>138.187500</td>\n",
       "      <td>1130.000000</td>\n",
       "    </tr>\n",
       "    <tr>\n",
       "      <td>50%</td>\n",
       "      <td>348.015000</td>\n",
       "      <td>1251.000000</td>\n",
       "    </tr>\n",
       "    <tr>\n",
       "      <td>75%</td>\n",
       "      <td>559.552500</td>\n",
       "      <td>1380.000000</td>\n",
       "    </tr>\n",
       "    <tr>\n",
       "      <td>max</td>\n",
       "      <td>1724.830000</td>\n",
       "      <td>1499.000000</td>\n",
       "    </tr>\n",
       "  </tbody>\n",
       "</table>\n",
       "</div>"
      ],
      "text/plain": [
       "             mb_used        user_id\n",
       "count  149396.000000  149396.000000\n",
       "mean      370.192426    1252.099842\n",
       "std       278.300951     144.050823\n",
       "min         0.000000    1000.000000\n",
       "25%       138.187500    1130.000000\n",
       "50%       348.015000    1251.000000\n",
       "75%       559.552500    1380.000000\n",
       "max      1724.830000    1499.000000"
      ]
     },
     "metadata": {},
     "output_type": "display_data"
    },
    {
     "name": "stdout",
     "output_type": "stream",
     "text": [
      "__________________________________\n"
     ]
    },
    {
     "data": {
      "text/html": [
       "<div>\n",
       "<style scoped>\n",
       "    .dataframe tbody tr th:only-of-type {\n",
       "        vertical-align: middle;\n",
       "    }\n",
       "\n",
       "    .dataframe tbody tr th {\n",
       "        vertical-align: top;\n",
       "    }\n",
       "\n",
       "    .dataframe thead th {\n",
       "        text-align: right;\n",
       "    }\n",
       "</style>\n",
       "<table border=\"1\" class=\"dataframe\">\n",
       "  <thead>\n",
       "    <tr style=\"text-align: right;\">\n",
       "      <th></th>\n",
       "      <th>id</th>\n",
       "      <th>message_date</th>\n",
       "      <th>user_id</th>\n",
       "    </tr>\n",
       "  </thead>\n",
       "  <tbody>\n",
       "    <tr>\n",
       "      <td>0</td>\n",
       "      <td>1000_0</td>\n",
       "      <td>2018-06-27</td>\n",
       "      <td>1000</td>\n",
       "    </tr>\n",
       "    <tr>\n",
       "      <td>1</td>\n",
       "      <td>1000_1</td>\n",
       "      <td>2018-10-08</td>\n",
       "      <td>1000</td>\n",
       "    </tr>\n",
       "    <tr>\n",
       "      <td>2</td>\n",
       "      <td>1000_2</td>\n",
       "      <td>2018-08-04</td>\n",
       "      <td>1000</td>\n",
       "    </tr>\n",
       "    <tr>\n",
       "      <td>3</td>\n",
       "      <td>1000_3</td>\n",
       "      <td>2018-06-16</td>\n",
       "      <td>1000</td>\n",
       "    </tr>\n",
       "    <tr>\n",
       "      <td>4</td>\n",
       "      <td>1000_4</td>\n",
       "      <td>2018-12-05</td>\n",
       "      <td>1000</td>\n",
       "    </tr>\n",
       "    <tr>\n",
       "      <td>5</td>\n",
       "      <td>1000_5</td>\n",
       "      <td>2018-06-20</td>\n",
       "      <td>1000</td>\n",
       "    </tr>\n",
       "    <tr>\n",
       "      <td>6</td>\n",
       "      <td>1000_6</td>\n",
       "      <td>2018-11-19</td>\n",
       "      <td>1000</td>\n",
       "    </tr>\n",
       "    <tr>\n",
       "      <td>7</td>\n",
       "      <td>1000_7</td>\n",
       "      <td>2018-10-29</td>\n",
       "      <td>1000</td>\n",
       "    </tr>\n",
       "    <tr>\n",
       "      <td>8</td>\n",
       "      <td>1000_8</td>\n",
       "      <td>2018-06-25</td>\n",
       "      <td>1000</td>\n",
       "    </tr>\n",
       "    <tr>\n",
       "      <td>9</td>\n",
       "      <td>1000_9</td>\n",
       "      <td>2018-12-18</td>\n",
       "      <td>1000</td>\n",
       "    </tr>\n",
       "  </tbody>\n",
       "</table>\n",
       "</div>"
      ],
      "text/plain": [
       "       id message_date  user_id\n",
       "0  1000_0   2018-06-27     1000\n",
       "1  1000_1   2018-10-08     1000\n",
       "2  1000_2   2018-08-04     1000\n",
       "3  1000_3   2018-06-16     1000\n",
       "4  1000_4   2018-12-05     1000\n",
       "5  1000_5   2018-06-20     1000\n",
       "6  1000_6   2018-11-19     1000\n",
       "7  1000_7   2018-10-29     1000\n",
       "8  1000_8   2018-06-25     1000\n",
       "9  1000_9   2018-12-18     1000"
      ]
     },
     "metadata": {},
     "output_type": "display_data"
    },
    {
     "name": "stdout",
     "output_type": "stream",
     "text": [
      "<class 'pandas.core.frame.DataFrame'>\n",
      "RangeIndex: 123036 entries, 0 to 123035\n",
      "Data columns (total 3 columns):\n",
      "id              123036 non-null object\n",
      "message_date    123036 non-null object\n",
      "user_id         123036 non-null int64\n",
      "dtypes: int64(1), object(2)\n",
      "memory usage: 2.8+ MB\n"
     ]
    },
    {
     "data": {
      "text/html": [
       "<div>\n",
       "<style scoped>\n",
       "    .dataframe tbody tr th:only-of-type {\n",
       "        vertical-align: middle;\n",
       "    }\n",
       "\n",
       "    .dataframe tbody tr th {\n",
       "        vertical-align: top;\n",
       "    }\n",
       "\n",
       "    .dataframe thead th {\n",
       "        text-align: right;\n",
       "    }\n",
       "</style>\n",
       "<table border=\"1\" class=\"dataframe\">\n",
       "  <thead>\n",
       "    <tr style=\"text-align: right;\">\n",
       "      <th></th>\n",
       "      <th>user_id</th>\n",
       "    </tr>\n",
       "  </thead>\n",
       "  <tbody>\n",
       "    <tr>\n",
       "      <td>count</td>\n",
       "      <td>123036.000000</td>\n",
       "    </tr>\n",
       "    <tr>\n",
       "      <td>mean</td>\n",
       "      <td>1256.989410</td>\n",
       "    </tr>\n",
       "    <tr>\n",
       "      <td>std</td>\n",
       "      <td>143.523967</td>\n",
       "    </tr>\n",
       "    <tr>\n",
       "      <td>min</td>\n",
       "      <td>1000.000000</td>\n",
       "    </tr>\n",
       "    <tr>\n",
       "      <td>25%</td>\n",
       "      <td>1134.000000</td>\n",
       "    </tr>\n",
       "    <tr>\n",
       "      <td>50%</td>\n",
       "      <td>1271.000000</td>\n",
       "    </tr>\n",
       "    <tr>\n",
       "      <td>75%</td>\n",
       "      <td>1381.000000</td>\n",
       "    </tr>\n",
       "    <tr>\n",
       "      <td>max</td>\n",
       "      <td>1499.000000</td>\n",
       "    </tr>\n",
       "  </tbody>\n",
       "</table>\n",
       "</div>"
      ],
      "text/plain": [
       "             user_id\n",
       "count  123036.000000\n",
       "mean     1256.989410\n",
       "std       143.523967\n",
       "min      1000.000000\n",
       "25%      1134.000000\n",
       "50%      1271.000000\n",
       "75%      1381.000000\n",
       "max      1499.000000"
      ]
     },
     "metadata": {},
     "output_type": "display_data"
    },
    {
     "name": "stdout",
     "output_type": "stream",
     "text": [
      "__________________________________\n"
     ]
    },
    {
     "data": {
      "text/html": [
       "<div>\n",
       "<style scoped>\n",
       "    .dataframe tbody tr th:only-of-type {\n",
       "        vertical-align: middle;\n",
       "    }\n",
       "\n",
       "    .dataframe tbody tr th {\n",
       "        vertical-align: top;\n",
       "    }\n",
       "\n",
       "    .dataframe thead th {\n",
       "        text-align: right;\n",
       "    }\n",
       "</style>\n",
       "<table border=\"1\" class=\"dataframe\">\n",
       "  <thead>\n",
       "    <tr style=\"text-align: right;\">\n",
       "      <th></th>\n",
       "      <th>messages_included</th>\n",
       "      <th>mb_per_month_included</th>\n",
       "      <th>minutes_included</th>\n",
       "      <th>rub_monthly_fee</th>\n",
       "      <th>rub_per_gb</th>\n",
       "      <th>rub_per_message</th>\n",
       "      <th>rub_per_minute</th>\n",
       "      <th>tariff_name</th>\n",
       "    </tr>\n",
       "  </thead>\n",
       "  <tbody>\n",
       "    <tr>\n",
       "      <td>0</td>\n",
       "      <td>50</td>\n",
       "      <td>15360</td>\n",
       "      <td>500</td>\n",
       "      <td>550</td>\n",
       "      <td>200</td>\n",
       "      <td>3</td>\n",
       "      <td>3</td>\n",
       "      <td>smart</td>\n",
       "    </tr>\n",
       "    <tr>\n",
       "      <td>1</td>\n",
       "      <td>1000</td>\n",
       "      <td>30720</td>\n",
       "      <td>3000</td>\n",
       "      <td>1950</td>\n",
       "      <td>150</td>\n",
       "      <td>1</td>\n",
       "      <td>1</td>\n",
       "      <td>ultra</td>\n",
       "    </tr>\n",
       "  </tbody>\n",
       "</table>\n",
       "</div>"
      ],
      "text/plain": [
       "   messages_included  mb_per_month_included  minutes_included  \\\n",
       "0                 50                  15360               500   \n",
       "1               1000                  30720              3000   \n",
       "\n",
       "   rub_monthly_fee  rub_per_gb  rub_per_message  rub_per_minute tariff_name  \n",
       "0              550         200                3               3       smart  \n",
       "1             1950         150                1               1       ultra  "
      ]
     },
     "metadata": {},
     "output_type": "display_data"
    },
    {
     "name": "stdout",
     "output_type": "stream",
     "text": [
      "<class 'pandas.core.frame.DataFrame'>\n",
      "RangeIndex: 2 entries, 0 to 1\n",
      "Data columns (total 8 columns):\n",
      "messages_included        2 non-null int64\n",
      "mb_per_month_included    2 non-null int64\n",
      "minutes_included         2 non-null int64\n",
      "rub_monthly_fee          2 non-null int64\n",
      "rub_per_gb               2 non-null int64\n",
      "rub_per_message          2 non-null int64\n",
      "rub_per_minute           2 non-null int64\n",
      "tariff_name              2 non-null object\n",
      "dtypes: int64(7), object(1)\n",
      "memory usage: 256.0+ bytes\n"
     ]
    },
    {
     "data": {
      "text/html": [
       "<div>\n",
       "<style scoped>\n",
       "    .dataframe tbody tr th:only-of-type {\n",
       "        vertical-align: middle;\n",
       "    }\n",
       "\n",
       "    .dataframe tbody tr th {\n",
       "        vertical-align: top;\n",
       "    }\n",
       "\n",
       "    .dataframe thead th {\n",
       "        text-align: right;\n",
       "    }\n",
       "</style>\n",
       "<table border=\"1\" class=\"dataframe\">\n",
       "  <thead>\n",
       "    <tr style=\"text-align: right;\">\n",
       "      <th></th>\n",
       "      <th>messages_included</th>\n",
       "      <th>mb_per_month_included</th>\n",
       "      <th>minutes_included</th>\n",
       "      <th>rub_monthly_fee</th>\n",
       "      <th>rub_per_gb</th>\n",
       "      <th>rub_per_message</th>\n",
       "      <th>rub_per_minute</th>\n",
       "    </tr>\n",
       "  </thead>\n",
       "  <tbody>\n",
       "    <tr>\n",
       "      <td>count</td>\n",
       "      <td>2.000000</td>\n",
       "      <td>2.000000</td>\n",
       "      <td>2.000000</td>\n",
       "      <td>2.000000</td>\n",
       "      <td>2.000000</td>\n",
       "      <td>2.000000</td>\n",
       "      <td>2.000000</td>\n",
       "    </tr>\n",
       "    <tr>\n",
       "      <td>mean</td>\n",
       "      <td>525.000000</td>\n",
       "      <td>23040.000000</td>\n",
       "      <td>1750.000000</td>\n",
       "      <td>1250.000000</td>\n",
       "      <td>175.000000</td>\n",
       "      <td>2.000000</td>\n",
       "      <td>2.000000</td>\n",
       "    </tr>\n",
       "    <tr>\n",
       "      <td>std</td>\n",
       "      <td>671.751442</td>\n",
       "      <td>10861.160159</td>\n",
       "      <td>1767.766953</td>\n",
       "      <td>989.949494</td>\n",
       "      <td>35.355339</td>\n",
       "      <td>1.414214</td>\n",
       "      <td>1.414214</td>\n",
       "    </tr>\n",
       "    <tr>\n",
       "      <td>min</td>\n",
       "      <td>50.000000</td>\n",
       "      <td>15360.000000</td>\n",
       "      <td>500.000000</td>\n",
       "      <td>550.000000</td>\n",
       "      <td>150.000000</td>\n",
       "      <td>1.000000</td>\n",
       "      <td>1.000000</td>\n",
       "    </tr>\n",
       "    <tr>\n",
       "      <td>25%</td>\n",
       "      <td>287.500000</td>\n",
       "      <td>19200.000000</td>\n",
       "      <td>1125.000000</td>\n",
       "      <td>900.000000</td>\n",
       "      <td>162.500000</td>\n",
       "      <td>1.500000</td>\n",
       "      <td>1.500000</td>\n",
       "    </tr>\n",
       "    <tr>\n",
       "      <td>50%</td>\n",
       "      <td>525.000000</td>\n",
       "      <td>23040.000000</td>\n",
       "      <td>1750.000000</td>\n",
       "      <td>1250.000000</td>\n",
       "      <td>175.000000</td>\n",
       "      <td>2.000000</td>\n",
       "      <td>2.000000</td>\n",
       "    </tr>\n",
       "    <tr>\n",
       "      <td>75%</td>\n",
       "      <td>762.500000</td>\n",
       "      <td>26880.000000</td>\n",
       "      <td>2375.000000</td>\n",
       "      <td>1600.000000</td>\n",
       "      <td>187.500000</td>\n",
       "      <td>2.500000</td>\n",
       "      <td>2.500000</td>\n",
       "    </tr>\n",
       "    <tr>\n",
       "      <td>max</td>\n",
       "      <td>1000.000000</td>\n",
       "      <td>30720.000000</td>\n",
       "      <td>3000.000000</td>\n",
       "      <td>1950.000000</td>\n",
       "      <td>200.000000</td>\n",
       "      <td>3.000000</td>\n",
       "      <td>3.000000</td>\n",
       "    </tr>\n",
       "  </tbody>\n",
       "</table>\n",
       "</div>"
      ],
      "text/plain": [
       "       messages_included  mb_per_month_included  minutes_included  \\\n",
       "count           2.000000               2.000000          2.000000   \n",
       "mean          525.000000           23040.000000       1750.000000   \n",
       "std           671.751442           10861.160159       1767.766953   \n",
       "min            50.000000           15360.000000        500.000000   \n",
       "25%           287.500000           19200.000000       1125.000000   \n",
       "50%           525.000000           23040.000000       1750.000000   \n",
       "75%           762.500000           26880.000000       2375.000000   \n",
       "max          1000.000000           30720.000000       3000.000000   \n",
       "\n",
       "       rub_monthly_fee  rub_per_gb  rub_per_message  rub_per_minute  \n",
       "count         2.000000    2.000000         2.000000        2.000000  \n",
       "mean       1250.000000  175.000000         2.000000        2.000000  \n",
       "std         989.949494   35.355339         1.414214        1.414214  \n",
       "min         550.000000  150.000000         1.000000        1.000000  \n",
       "25%         900.000000  162.500000         1.500000        1.500000  \n",
       "50%        1250.000000  175.000000         2.000000        2.000000  \n",
       "75%        1600.000000  187.500000         2.500000        2.500000  \n",
       "max        1950.000000  200.000000         3.000000        3.000000  "
      ]
     },
     "metadata": {},
     "output_type": "display_data"
    },
    {
     "name": "stdout",
     "output_type": "stream",
     "text": [
      "__________________________________\n"
     ]
    },
    {
     "data": {
      "text/html": [
       "<div>\n",
       "<style scoped>\n",
       "    .dataframe tbody tr th:only-of-type {\n",
       "        vertical-align: middle;\n",
       "    }\n",
       "\n",
       "    .dataframe tbody tr th {\n",
       "        vertical-align: top;\n",
       "    }\n",
       "\n",
       "    .dataframe thead th {\n",
       "        text-align: right;\n",
       "    }\n",
       "</style>\n",
       "<table border=\"1\" class=\"dataframe\">\n",
       "  <thead>\n",
       "    <tr style=\"text-align: right;\">\n",
       "      <th></th>\n",
       "      <th>user_id</th>\n",
       "      <th>age</th>\n",
       "      <th>churn_date</th>\n",
       "      <th>city</th>\n",
       "      <th>first_name</th>\n",
       "      <th>last_name</th>\n",
       "      <th>reg_date</th>\n",
       "      <th>tariff</th>\n",
       "    </tr>\n",
       "  </thead>\n",
       "  <tbody>\n",
       "    <tr>\n",
       "      <td>0</td>\n",
       "      <td>1000</td>\n",
       "      <td>52</td>\n",
       "      <td>NaN</td>\n",
       "      <td>Краснодар</td>\n",
       "      <td>Рафаил</td>\n",
       "      <td>Верещагин</td>\n",
       "      <td>2018-05-25</td>\n",
       "      <td>ultra</td>\n",
       "    </tr>\n",
       "    <tr>\n",
       "      <td>1</td>\n",
       "      <td>1001</td>\n",
       "      <td>41</td>\n",
       "      <td>NaN</td>\n",
       "      <td>Москва</td>\n",
       "      <td>Иван</td>\n",
       "      <td>Ежов</td>\n",
       "      <td>2018-11-01</td>\n",
       "      <td>smart</td>\n",
       "    </tr>\n",
       "    <tr>\n",
       "      <td>2</td>\n",
       "      <td>1002</td>\n",
       "      <td>59</td>\n",
       "      <td>NaN</td>\n",
       "      <td>Стерлитамак</td>\n",
       "      <td>Евгений</td>\n",
       "      <td>Абрамович</td>\n",
       "      <td>2018-06-17</td>\n",
       "      <td>smart</td>\n",
       "    </tr>\n",
       "    <tr>\n",
       "      <td>3</td>\n",
       "      <td>1003</td>\n",
       "      <td>23</td>\n",
       "      <td>NaN</td>\n",
       "      <td>Москва</td>\n",
       "      <td>Белла</td>\n",
       "      <td>Белякова</td>\n",
       "      <td>2018-08-17</td>\n",
       "      <td>ultra</td>\n",
       "    </tr>\n",
       "    <tr>\n",
       "      <td>4</td>\n",
       "      <td>1004</td>\n",
       "      <td>68</td>\n",
       "      <td>NaN</td>\n",
       "      <td>Новокузнецк</td>\n",
       "      <td>Татьяна</td>\n",
       "      <td>Авдеенко</td>\n",
       "      <td>2018-05-14</td>\n",
       "      <td>ultra</td>\n",
       "    </tr>\n",
       "    <tr>\n",
       "      <td>5</td>\n",
       "      <td>1005</td>\n",
       "      <td>67</td>\n",
       "      <td>NaN</td>\n",
       "      <td>Набережные Челны</td>\n",
       "      <td>Афанасий</td>\n",
       "      <td>Горлов</td>\n",
       "      <td>2018-01-25</td>\n",
       "      <td>smart</td>\n",
       "    </tr>\n",
       "    <tr>\n",
       "      <td>6</td>\n",
       "      <td>1006</td>\n",
       "      <td>21</td>\n",
       "      <td>NaN</td>\n",
       "      <td>Ульяновск</td>\n",
       "      <td>Леонид</td>\n",
       "      <td>Ермолаев</td>\n",
       "      <td>2018-02-26</td>\n",
       "      <td>smart</td>\n",
       "    </tr>\n",
       "    <tr>\n",
       "      <td>7</td>\n",
       "      <td>1007</td>\n",
       "      <td>65</td>\n",
       "      <td>NaN</td>\n",
       "      <td>Москва</td>\n",
       "      <td>Юна</td>\n",
       "      <td>Березина</td>\n",
       "      <td>2018-04-19</td>\n",
       "      <td>smart</td>\n",
       "    </tr>\n",
       "    <tr>\n",
       "      <td>8</td>\n",
       "      <td>1008</td>\n",
       "      <td>63</td>\n",
       "      <td>NaN</td>\n",
       "      <td>Челябинск</td>\n",
       "      <td>Рустэм</td>\n",
       "      <td>Пономарёв</td>\n",
       "      <td>2018-12-19</td>\n",
       "      <td>smart</td>\n",
       "    </tr>\n",
       "    <tr>\n",
       "      <td>9</td>\n",
       "      <td>1009</td>\n",
       "      <td>24</td>\n",
       "      <td>NaN</td>\n",
       "      <td>Пермь</td>\n",
       "      <td>Василиса</td>\n",
       "      <td>Блинова</td>\n",
       "      <td>2018-03-22</td>\n",
       "      <td>smart</td>\n",
       "    </tr>\n",
       "  </tbody>\n",
       "</table>\n",
       "</div>"
      ],
      "text/plain": [
       "   user_id  age churn_date              city first_name  last_name  \\\n",
       "0     1000   52        NaN         Краснодар     Рафаил  Верещагин   \n",
       "1     1001   41        NaN            Москва       Иван       Ежов   \n",
       "2     1002   59        NaN       Стерлитамак    Евгений  Абрамович   \n",
       "3     1003   23        NaN            Москва      Белла   Белякова   \n",
       "4     1004   68        NaN       Новокузнецк    Татьяна   Авдеенко   \n",
       "5     1005   67        NaN  Набережные Челны   Афанасий     Горлов   \n",
       "6     1006   21        NaN         Ульяновск     Леонид   Ермолаев   \n",
       "7     1007   65        NaN            Москва        Юна   Березина   \n",
       "8     1008   63        NaN         Челябинск     Рустэм  Пономарёв   \n",
       "9     1009   24        NaN             Пермь   Василиса    Блинова   \n",
       "\n",
       "     reg_date tariff  \n",
       "0  2018-05-25  ultra  \n",
       "1  2018-11-01  smart  \n",
       "2  2018-06-17  smart  \n",
       "3  2018-08-17  ultra  \n",
       "4  2018-05-14  ultra  \n",
       "5  2018-01-25  smart  \n",
       "6  2018-02-26  smart  \n",
       "7  2018-04-19  smart  \n",
       "8  2018-12-19  smart  \n",
       "9  2018-03-22  smart  "
      ]
     },
     "metadata": {},
     "output_type": "display_data"
    },
    {
     "name": "stdout",
     "output_type": "stream",
     "text": [
      "<class 'pandas.core.frame.DataFrame'>\n",
      "RangeIndex: 500 entries, 0 to 499\n",
      "Data columns (total 8 columns):\n",
      "user_id       500 non-null int64\n",
      "age           500 non-null int64\n",
      "churn_date    38 non-null object\n",
      "city          500 non-null object\n",
      "first_name    500 non-null object\n",
      "last_name     500 non-null object\n",
      "reg_date      500 non-null object\n",
      "tariff        500 non-null object\n",
      "dtypes: int64(2), object(6)\n",
      "memory usage: 31.4+ KB\n"
     ]
    },
    {
     "data": {
      "text/html": [
       "<div>\n",
       "<style scoped>\n",
       "    .dataframe tbody tr th:only-of-type {\n",
       "        vertical-align: middle;\n",
       "    }\n",
       "\n",
       "    .dataframe tbody tr th {\n",
       "        vertical-align: top;\n",
       "    }\n",
       "\n",
       "    .dataframe thead th {\n",
       "        text-align: right;\n",
       "    }\n",
       "</style>\n",
       "<table border=\"1\" class=\"dataframe\">\n",
       "  <thead>\n",
       "    <tr style=\"text-align: right;\">\n",
       "      <th></th>\n",
       "      <th>user_id</th>\n",
       "      <th>age</th>\n",
       "    </tr>\n",
       "  </thead>\n",
       "  <tbody>\n",
       "    <tr>\n",
       "      <td>count</td>\n",
       "      <td>500.000000</td>\n",
       "      <td>500.00000</td>\n",
       "    </tr>\n",
       "    <tr>\n",
       "      <td>mean</td>\n",
       "      <td>1249.500000</td>\n",
       "      <td>46.58800</td>\n",
       "    </tr>\n",
       "    <tr>\n",
       "      <td>std</td>\n",
       "      <td>144.481833</td>\n",
       "      <td>16.66763</td>\n",
       "    </tr>\n",
       "    <tr>\n",
       "      <td>min</td>\n",
       "      <td>1000.000000</td>\n",
       "      <td>18.00000</td>\n",
       "    </tr>\n",
       "    <tr>\n",
       "      <td>25%</td>\n",
       "      <td>1124.750000</td>\n",
       "      <td>32.00000</td>\n",
       "    </tr>\n",
       "    <tr>\n",
       "      <td>50%</td>\n",
       "      <td>1249.500000</td>\n",
       "      <td>46.00000</td>\n",
       "    </tr>\n",
       "    <tr>\n",
       "      <td>75%</td>\n",
       "      <td>1374.250000</td>\n",
       "      <td>62.00000</td>\n",
       "    </tr>\n",
       "    <tr>\n",
       "      <td>max</td>\n",
       "      <td>1499.000000</td>\n",
       "      <td>75.00000</td>\n",
       "    </tr>\n",
       "  </tbody>\n",
       "</table>\n",
       "</div>"
      ],
      "text/plain": [
       "           user_id        age\n",
       "count   500.000000  500.00000\n",
       "mean   1249.500000   46.58800\n",
       "std     144.481833   16.66763\n",
       "min    1000.000000   18.00000\n",
       "25%    1124.750000   32.00000\n",
       "50%    1249.500000   46.00000\n",
       "75%    1374.250000   62.00000\n",
       "max    1499.000000   75.00000"
      ]
     },
     "metadata": {},
     "output_type": "display_data"
    }
   ],
   "source": [
    "calls = pd.read_csv('/datasets/calls.csv')\n",
    "internet = pd.read_csv('/datasets/internet.csv').drop(['Unnamed: 0'],axis = 1)\n",
    "messages = pd.read_csv('/datasets/messages.csv')\n",
    "tariffs = pd.read_csv('/datasets/tariffs.csv')\n",
    "users = pd.read_csv('/datasets/users.csv')\n",
    "list_of_dfs = [calls, internet, messages, tariffs, users]\n",
    "for df in list_of_dfs:\n",
    "    print('__________________________________')\n",
    "    display(df.head(10))\n",
    "    df.info()\n",
    "    display(df.describe())"
   ]
  },
  {
   "cell_type": "markdown",
   "metadata": {},
   "source": [
    "Таблица **users** (информация о пользователях):\n",
    "\n",
    "* `user_id` — уникальный идентификатор пользователя\n",
    "* `first_name` — имя пользователя\n",
    "* `last_name` — фамилия пользователя\n",
    "* `age` — возраст пользователя (годы)\n",
    "* `reg_date` — дата подключения тарифа (день, месяц, год)\n",
    "* `churn_date` — дата прекращения пользования тарифом (если значение пропущено, то тариф ещё действовал на момент выгрузки данных)\n",
    "* `city` — город проживания пользователя\n",
    "* `tariff` — название тарифного плана\n",
    "\n",
    "Таблица **calls** (информация о звонках):\n",
    "\n",
    "* `id` — уникальный номер звонка\n",
    "* `call_date` — дата звонка\n",
    "* `duration` — длительность звонка в минутах\n",
    "* `user_id` — идентификатор пользователя, сделавшего звонок\n",
    "\n",
    "Таблица **messages** (информация о сообщениях):\n",
    "\n",
    "* `id` — уникальный номер сообщения\n",
    "* `message_date` — дата сообщения\n",
    "* `user_id` — идентификатор пользователя, отправившего сообщение\n",
    "\n",
    "Таблица **internet** (информация об интернет-сессиях):\n",
    "\n",
    "* `id` — уникальный номер сессии\n",
    "* `mb_used` — объём потраченного за сессию интернет-трафика (в мегабайтах)\n",
    "* `session_date` — дата интернет-сессии\n",
    "* `user_id` — идентификатор пользователя\n",
    "\n",
    "Таблица **tariffs** (информация о тарифах):\n",
    "\n",
    "* `tariff_name` — название тарифа\n",
    "* `rub_monthly_fee` — ежемесячная абонентская плата в рублях\n",
    "* `minutes_included` — количество минут разговора в месяц, включённых в абонентскую плату\n",
    "* `messages_included` — количество сообщений в месяц, включённых в абонентскую плату\n",
    "* `mb_per_month_included` — объём интернет-трафика, включённого в абонентскую плату (в мегабайтах)\n",
    "* `rub_per_minute` — стоимость минуты разговора сверх тарифного пакета (например, если в тарифе 100 минут разговора в месяц, то со 101 минуты будет взиматься плата)\n",
    "* `rub_per_message` — стоимость отправки сообщения сверх тарифного пакета\n",
    "* `rub_per_gb` — стоимость дополнительного гигабайта интернет-трафика сверх тарифного пакета (1 гигабайт = 1024 мегабайта)\n",
    "\n",
    "**Замечания к данным:**\n",
    "1. Пропуски в таблице **users** в столбце `churn_date` связаны с тем, что тариф ещё действует. Заменим пропуски нулём;\n",
    "2. В столбцах с датами заменить тип данных на Datetime;\n",
    "2. Необходимо округлить значения в столбцах с минутами и мегабайтами в большую сторону в соответствии с правилами оператора, а затем преобразовать их в целочисленный тип;\n",
    "3. Проверить, есть ли в данных дубликаты и удалить их;\n",
    "4. Проверить категориальные значения и количественные значения в датафрейме."
   ]
  },
  {
   "cell_type": "markdown",
   "metadata": {},
   "source": [
    "**Вывод**\n",
    "\n",
    "Предварительно можно утверждать, что, данных достаточно для проверки гипотез. Следует их предобработать, проверить наличие дубликатов и устранить проблемы в данных."
   ]
  },
  {
   "cell_type": "markdown",
   "metadata": {},
   "source": [
    "## Шаг 2. Предобработка данных"
   ]
  },
  {
   "cell_type": "markdown",
   "metadata": {},
   "source": [
    "Рассмотрим отдельно каждую таблицу"
   ]
  },
  {
   "cell_type": "markdown",
   "metadata": {},
   "source": [
    "#### 2.1. Таблица `users`"
   ]
  },
  {
   "cell_type": "code",
   "execution_count": 3,
   "metadata": {},
   "outputs": [
    {
     "name": "stdout",
     "output_type": "stream",
     "text": [
      "<class 'pandas.core.frame.DataFrame'>\n",
      "RangeIndex: 500 entries, 0 to 499\n",
      "Data columns (total 8 columns):\n",
      "user_id       500 non-null int64\n",
      "age           500 non-null int64\n",
      "churn_date    38 non-null object\n",
      "city          500 non-null object\n",
      "first_name    500 non-null object\n",
      "last_name     500 non-null object\n",
      "reg_date      500 non-null object\n",
      "tariff        500 non-null object\n",
      "dtypes: int64(2), object(6)\n",
      "memory usage: 31.4+ KB\n"
     ]
    },
    {
     "data": {
      "text/html": [
       "<div>\n",
       "<style scoped>\n",
       "    .dataframe tbody tr th:only-of-type {\n",
       "        vertical-align: middle;\n",
       "    }\n",
       "\n",
       "    .dataframe tbody tr th {\n",
       "        vertical-align: top;\n",
       "    }\n",
       "\n",
       "    .dataframe thead th {\n",
       "        text-align: right;\n",
       "    }\n",
       "</style>\n",
       "<table border=\"1\" class=\"dataframe\">\n",
       "  <thead>\n",
       "    <tr style=\"text-align: right;\">\n",
       "      <th></th>\n",
       "      <th>user_id</th>\n",
       "      <th>age</th>\n",
       "    </tr>\n",
       "  </thead>\n",
       "  <tbody>\n",
       "    <tr>\n",
       "      <td>count</td>\n",
       "      <td>500.000000</td>\n",
       "      <td>500.00000</td>\n",
       "    </tr>\n",
       "    <tr>\n",
       "      <td>mean</td>\n",
       "      <td>1249.500000</td>\n",
       "      <td>46.58800</td>\n",
       "    </tr>\n",
       "    <tr>\n",
       "      <td>std</td>\n",
       "      <td>144.481833</td>\n",
       "      <td>16.66763</td>\n",
       "    </tr>\n",
       "    <tr>\n",
       "      <td>min</td>\n",
       "      <td>1000.000000</td>\n",
       "      <td>18.00000</td>\n",
       "    </tr>\n",
       "    <tr>\n",
       "      <td>25%</td>\n",
       "      <td>1124.750000</td>\n",
       "      <td>32.00000</td>\n",
       "    </tr>\n",
       "    <tr>\n",
       "      <td>50%</td>\n",
       "      <td>1249.500000</td>\n",
       "      <td>46.00000</td>\n",
       "    </tr>\n",
       "    <tr>\n",
       "      <td>75%</td>\n",
       "      <td>1374.250000</td>\n",
       "      <td>62.00000</td>\n",
       "    </tr>\n",
       "    <tr>\n",
       "      <td>max</td>\n",
       "      <td>1499.000000</td>\n",
       "      <td>75.00000</td>\n",
       "    </tr>\n",
       "  </tbody>\n",
       "</table>\n",
       "</div>"
      ],
      "text/plain": [
       "           user_id        age\n",
       "count   500.000000  500.00000\n",
       "mean   1249.500000   46.58800\n",
       "std     144.481833   16.66763\n",
       "min    1000.000000   18.00000\n",
       "25%    1124.750000   32.00000\n",
       "50%    1249.500000   46.00000\n",
       "75%    1374.250000   62.00000\n",
       "max    1499.000000   75.00000"
      ]
     },
     "metadata": {},
     "output_type": "display_data"
    }
   ],
   "source": [
    "users.info()\n",
    "users.head(10)\n",
    "display(users.describe())"
   ]
  },
  {
   "cell_type": "markdown",
   "metadata": {},
   "source": [
    "Рассмотрим столбец `user_id`. Оценим число уникальных значений в столбце. Все значения в этом столбце должны быть уникальными."
   ]
  },
  {
   "cell_type": "code",
   "execution_count": 4,
   "metadata": {},
   "outputs": [
    {
     "data": {
      "text/plain": [
       "500"
      ]
     },
     "execution_count": 4,
     "metadata": {},
     "output_type": "execute_result"
    }
   ],
   "source": [
    "len(users['user_id'].unique())"
   ]
  },
  {
   "cell_type": "code",
   "execution_count": 5,
   "metadata": {},
   "outputs": [
    {
     "data": {
      "text/plain": [
       "count     500.000000\n",
       "mean     1249.500000\n",
       "std       144.481833\n",
       "min      1000.000000\n",
       "25%      1124.750000\n",
       "50%      1249.500000\n",
       "75%      1374.250000\n",
       "max      1499.000000\n",
       "Name: user_id, dtype: float64"
      ]
     },
     "execution_count": 5,
     "metadata": {},
     "output_type": "execute_result"
    }
   ],
   "source": [
    "users['user_id'].describe()"
   ]
  },
  {
   "cell_type": "markdown",
   "metadata": {},
   "source": [
    "Столбец в порядке. Всего 500 уникальных значений id от 1000 до 1499."
   ]
  },
  {
   "cell_type": "markdown",
   "metadata": {},
   "source": [
    "Рассмотрим столбец `age`"
   ]
  },
  {
   "cell_type": "code",
   "execution_count": 6,
   "metadata": {},
   "outputs": [
    {
     "data": {
      "text/plain": [
       "count    500.00000\n",
       "mean      46.58800\n",
       "std       16.66763\n",
       "min       18.00000\n",
       "25%       32.00000\n",
       "50%       46.00000\n",
       "75%       62.00000\n",
       "max       75.00000\n",
       "Name: age, dtype: float64"
      ]
     },
     "execution_count": 6,
     "metadata": {},
     "output_type": "execute_result"
    }
   ],
   "source": [
    "users['age'].describe()"
   ]
  },
  {
   "cell_type": "markdown",
   "metadata": {},
   "source": [
    "Столбец `age` также в порядке, в нем хранятся значения от 18 до 75. Пропусков нет."
   ]
  },
  {
   "cell_type": "markdown",
   "metadata": {},
   "source": [
    "Рассмотрим столбец `churn_date`"
   ]
  },
  {
   "cell_type": "code",
   "execution_count": 7,
   "metadata": {},
   "outputs": [
    {
     "data": {
      "text/plain": [
       "count             38\n",
       "unique            33\n",
       "top       2018-10-03\n",
       "freq               2\n",
       "Name: churn_date, dtype: object"
      ]
     },
     "execution_count": 7,
     "metadata": {},
     "output_type": "execute_result"
    }
   ],
   "source": [
    "users['churn_date'].describe()"
   ]
  },
  {
   "cell_type": "markdown",
   "metadata": {},
   "source": [
    "В столбце много пропусков, но они связаны с тем, что тариф все ещё действует, поэтому оставим пропуски как есть.\n",
    "Изменим тип данных на Datetime"
   ]
  },
  {
   "cell_type": "code",
   "execution_count": 8,
   "metadata": {},
   "outputs": [
    {
     "data": {
      "text/html": [
       "<div>\n",
       "<style scoped>\n",
       "    .dataframe tbody tr th:only-of-type {\n",
       "        vertical-align: middle;\n",
       "    }\n",
       "\n",
       "    .dataframe tbody tr th {\n",
       "        vertical-align: top;\n",
       "    }\n",
       "\n",
       "    .dataframe thead th {\n",
       "        text-align: right;\n",
       "    }\n",
       "</style>\n",
       "<table border=\"1\" class=\"dataframe\">\n",
       "  <thead>\n",
       "    <tr style=\"text-align: right;\">\n",
       "      <th></th>\n",
       "      <th>user_id</th>\n",
       "      <th>age</th>\n",
       "      <th>churn_date</th>\n",
       "      <th>city</th>\n",
       "      <th>first_name</th>\n",
       "      <th>last_name</th>\n",
       "      <th>reg_date</th>\n",
       "      <th>tariff</th>\n",
       "    </tr>\n",
       "  </thead>\n",
       "  <tbody>\n",
       "    <tr>\n",
       "      <td>19</td>\n",
       "      <td>1019</td>\n",
       "      <td>63</td>\n",
       "      <td>2018-10-05</td>\n",
       "      <td>Томск</td>\n",
       "      <td>Игнатий</td>\n",
       "      <td>Круглов</td>\n",
       "      <td>2018-05-16</td>\n",
       "      <td>ultra</td>\n",
       "    </tr>\n",
       "    <tr>\n",
       "      <td>20</td>\n",
       "      <td>1020</td>\n",
       "      <td>59</td>\n",
       "      <td>2018-12-18</td>\n",
       "      <td>Чита</td>\n",
       "      <td>Тала</td>\n",
       "      <td>Костина</td>\n",
       "      <td>2018-10-22</td>\n",
       "      <td>smart</td>\n",
       "    </tr>\n",
       "    <tr>\n",
       "      <td>34</td>\n",
       "      <td>1034</td>\n",
       "      <td>66</td>\n",
       "      <td>2018-11-21</td>\n",
       "      <td>Вологда</td>\n",
       "      <td>Святослав</td>\n",
       "      <td>Бондарев</td>\n",
       "      <td>2018-08-26</td>\n",
       "      <td>smart</td>\n",
       "    </tr>\n",
       "    <tr>\n",
       "      <td>50</td>\n",
       "      <td>1050</td>\n",
       "      <td>44</td>\n",
       "      <td>2018-10-03</td>\n",
       "      <td>Тюмень</td>\n",
       "      <td>Рузана</td>\n",
       "      <td>Аничкина</td>\n",
       "      <td>2018-06-16</td>\n",
       "      <td>ultra</td>\n",
       "    </tr>\n",
       "    <tr>\n",
       "      <td>51</td>\n",
       "      <td>1051</td>\n",
       "      <td>37</td>\n",
       "      <td>2018-10-14</td>\n",
       "      <td>Москва</td>\n",
       "      <td>Кристина</td>\n",
       "      <td>Сомова</td>\n",
       "      <td>2018-05-28</td>\n",
       "      <td>smart</td>\n",
       "    </tr>\n",
       "    <tr>\n",
       "      <td>56</td>\n",
       "      <td>1056</td>\n",
       "      <td>73</td>\n",
       "      <td>2018-10-14</td>\n",
       "      <td>Иркутск</td>\n",
       "      <td>Радислав</td>\n",
       "      <td>Артемьев</td>\n",
       "      <td>2018-04-13</td>\n",
       "      <td>smart</td>\n",
       "    </tr>\n",
       "    <tr>\n",
       "      <td>62</td>\n",
       "      <td>1062</td>\n",
       "      <td>24</td>\n",
       "      <td>2018-12-09</td>\n",
       "      <td>Москва</td>\n",
       "      <td>Александр</td>\n",
       "      <td>Коршунов</td>\n",
       "      <td>2018-11-16</td>\n",
       "      <td>smart</td>\n",
       "    </tr>\n",
       "    <tr>\n",
       "      <td>63</td>\n",
       "      <td>1063</td>\n",
       "      <td>45</td>\n",
       "      <td>2018-12-11</td>\n",
       "      <td>Тула</td>\n",
       "      <td>Таира</td>\n",
       "      <td>Климова</td>\n",
       "      <td>2018-04-12</td>\n",
       "      <td>ultra</td>\n",
       "    </tr>\n",
       "    <tr>\n",
       "      <td>64</td>\n",
       "      <td>1064</td>\n",
       "      <td>55</td>\n",
       "      <td>2018-12-26</td>\n",
       "      <td>Якутск</td>\n",
       "      <td>Динара</td>\n",
       "      <td>Алфеева</td>\n",
       "      <td>2018-03-17</td>\n",
       "      <td>smart</td>\n",
       "    </tr>\n",
       "    <tr>\n",
       "      <td>65</td>\n",
       "      <td>1065</td>\n",
       "      <td>53</td>\n",
       "      <td>2018-12-09</td>\n",
       "      <td>Москва</td>\n",
       "      <td>Роза</td>\n",
       "      <td>Игнатова</td>\n",
       "      <td>2018-03-08</td>\n",
       "      <td>smart</td>\n",
       "    </tr>\n",
       "  </tbody>\n",
       "</table>\n",
       "</div>"
      ],
      "text/plain": [
       "    user_id  age churn_date     city first_name last_name    reg_date tariff\n",
       "19     1019   63 2018-10-05    Томск    Игнатий   Круглов  2018-05-16  ultra\n",
       "20     1020   59 2018-12-18     Чита       Тала   Костина  2018-10-22  smart\n",
       "34     1034   66 2018-11-21  Вологда  Святослав  Бондарев  2018-08-26  smart\n",
       "50     1050   44 2018-10-03   Тюмень     Рузана  Аничкина  2018-06-16  ultra\n",
       "51     1051   37 2018-10-14   Москва   Кристина    Сомова  2018-05-28  smart\n",
       "56     1056   73 2018-10-14  Иркутск   Радислав  Артемьев  2018-04-13  smart\n",
       "62     1062   24 2018-12-09   Москва  Александр  Коршунов  2018-11-16  smart\n",
       "63     1063   45 2018-12-11     Тула      Таира   Климова  2018-04-12  ultra\n",
       "64     1064   55 2018-12-26   Якутск     Динара   Алфеева  2018-03-17  smart\n",
       "65     1065   53 2018-12-09   Москва       Роза  Игнатова  2018-03-08  smart"
      ]
     },
     "metadata": {},
     "output_type": "display_data"
    }
   ],
   "source": [
    "users['churn_date'] = pd.to_datetime(users['churn_date'], format='%Y-%m-%d')\n",
    "display(users.query('churn_date.isna() == False').head(10))"
   ]
  },
  {
   "cell_type": "code",
   "execution_count": 9,
   "metadata": {},
   "outputs": [
    {
     "name": "stdout",
     "output_type": "stream",
     "text": [
      "<class 'pandas.core.frame.DataFrame'>\n",
      "RangeIndex: 500 entries, 0 to 499\n",
      "Data columns (total 8 columns):\n",
      "user_id       500 non-null int64\n",
      "age           500 non-null int64\n",
      "churn_date    38 non-null datetime64[ns]\n",
      "city          500 non-null object\n",
      "first_name    500 non-null object\n",
      "last_name     500 non-null object\n",
      "reg_date      500 non-null object\n",
      "tariff        500 non-null object\n",
      "dtypes: datetime64[ns](1), int64(2), object(5)\n",
      "memory usage: 31.4+ KB\n"
     ]
    }
   ],
   "source": [
    "users.info()"
   ]
  },
  {
   "cell_type": "markdown",
   "metadata": {},
   "source": [
    "Изменение типа данных проведено успешно"
   ]
  },
  {
   "cell_type": "markdown",
   "metadata": {},
   "source": [
    "Рассмотрим столбец `city`"
   ]
  },
  {
   "cell_type": "code",
   "execution_count": 10,
   "metadata": {},
   "outputs": [
    {
     "data": {
      "text/plain": [
       "count        500\n",
       "unique        76\n",
       "top       Москва\n",
       "freq          99\n",
       "Name: city, dtype: object"
      ]
     },
     "execution_count": 10,
     "metadata": {},
     "output_type": "execute_result"
    }
   ],
   "source": [
    "users['city'].describe()"
   ]
  },
  {
   "cell_type": "markdown",
   "metadata": {},
   "source": [
    "Рассмотрим список уникальных значений на наличие скрытых дубликатов."
   ]
  },
  {
   "cell_type": "code",
   "execution_count": 11,
   "metadata": {},
   "outputs": [
    {
     "data": {
      "text/plain": [
       "array(['Краснодар', 'Москва', 'Стерлитамак', 'Новокузнецк',\n",
       "       'Набережные Челны', 'Ульяновск', 'Челябинск', 'Пермь', 'Тюмень',\n",
       "       'Самара', 'Санкт-Петербург', 'Иваново', 'Чебоксары', 'Омск', 'Уфа',\n",
       "       'Томск', 'Чита', 'Мурманск', 'Петрозаводск', 'Тверь',\n",
       "       'Екатеринбург', 'Махачкала', 'Вологда', 'Череповец', 'Ярославль',\n",
       "       'Сочи', 'Хабаровск', 'Ставрополь', 'Рязань', 'Улан-Удэ', 'Тула',\n",
       "       'Саратов', 'Ростов-на-Дону', 'Казань', 'Иркутск', 'Курск',\n",
       "       'Калуга', 'Якутск', 'Астрахань', 'Химки', 'Владикавказ',\n",
       "       'Волгоград', 'Саранск', 'Ижевск', 'Новосибирск', 'Брянск',\n",
       "       'Тольятти', 'Нижний Тагил', 'Орёл', 'Белгород', 'Воронеж',\n",
       "       'Волжский', 'Курган', 'Барнаул', 'Красноярск', 'Архангельск',\n",
       "       'Липецк', 'Кемерово', 'Киров', 'Сургут', 'Пенза', 'Магнитогорск',\n",
       "       'Нижний Новгород', 'Кострома', 'Владивосток', 'Тамбов', 'Балашиха',\n",
       "       'Севастополь', 'Калининград', 'Оренбург', 'Смоленск',\n",
       "       'Нижневартовск', 'Владимир', 'Новороссийск', 'Грозный', 'Подольск'],\n",
       "      dtype=object)"
      ]
     },
     "execution_count": 11,
     "metadata": {},
     "output_type": "execute_result"
    }
   ],
   "source": [
    "users['city'].unique()"
   ]
  },
  {
   "cell_type": "markdown",
   "metadata": {},
   "source": [
    "Скрытых повторов нет, данные в порядке"
   ]
  },
  {
   "cell_type": "markdown",
   "metadata": {},
   "source": [
    "Столбцы `first_name` и `last_name` рассматривать не имеет смысла, они могут быть любыми и в исследовании не участвуют."
   ]
  },
  {
   "cell_type": "markdown",
   "metadata": {},
   "source": [
    "Рассмотрим столбец `reg_date` и изменим тип данных на Datetime"
   ]
  },
  {
   "cell_type": "code",
   "execution_count": 12,
   "metadata": {},
   "outputs": [
    {
     "data": {
      "text/plain": [
       "count            500\n",
       "unique           270\n",
       "top       2018-05-28\n",
       "freq               8\n",
       "Name: reg_date, dtype: object"
      ]
     },
     "execution_count": 12,
     "metadata": {},
     "output_type": "execute_result"
    }
   ],
   "source": [
    "users['reg_date'].describe()"
   ]
  },
  {
   "cell_type": "code",
   "execution_count": 13,
   "metadata": {},
   "outputs": [
    {
     "data": {
      "text/html": [
       "<div>\n",
       "<style scoped>\n",
       "    .dataframe tbody tr th:only-of-type {\n",
       "        vertical-align: middle;\n",
       "    }\n",
       "\n",
       "    .dataframe tbody tr th {\n",
       "        vertical-align: top;\n",
       "    }\n",
       "\n",
       "    .dataframe thead th {\n",
       "        text-align: right;\n",
       "    }\n",
       "</style>\n",
       "<table border=\"1\" class=\"dataframe\">\n",
       "  <thead>\n",
       "    <tr style=\"text-align: right;\">\n",
       "      <th></th>\n",
       "      <th>user_id</th>\n",
       "      <th>age</th>\n",
       "      <th>churn_date</th>\n",
       "      <th>city</th>\n",
       "      <th>first_name</th>\n",
       "      <th>last_name</th>\n",
       "      <th>reg_date</th>\n",
       "      <th>tariff</th>\n",
       "    </tr>\n",
       "  </thead>\n",
       "  <tbody>\n",
       "    <tr>\n",
       "      <td>0</td>\n",
       "      <td>1000</td>\n",
       "      <td>52</td>\n",
       "      <td>NaT</td>\n",
       "      <td>Краснодар</td>\n",
       "      <td>Рафаил</td>\n",
       "      <td>Верещагин</td>\n",
       "      <td>2018-05-25</td>\n",
       "      <td>ultra</td>\n",
       "    </tr>\n",
       "    <tr>\n",
       "      <td>1</td>\n",
       "      <td>1001</td>\n",
       "      <td>41</td>\n",
       "      <td>NaT</td>\n",
       "      <td>Москва</td>\n",
       "      <td>Иван</td>\n",
       "      <td>Ежов</td>\n",
       "      <td>2018-11-01</td>\n",
       "      <td>smart</td>\n",
       "    </tr>\n",
       "    <tr>\n",
       "      <td>2</td>\n",
       "      <td>1002</td>\n",
       "      <td>59</td>\n",
       "      <td>NaT</td>\n",
       "      <td>Стерлитамак</td>\n",
       "      <td>Евгений</td>\n",
       "      <td>Абрамович</td>\n",
       "      <td>2018-06-17</td>\n",
       "      <td>smart</td>\n",
       "    </tr>\n",
       "    <tr>\n",
       "      <td>3</td>\n",
       "      <td>1003</td>\n",
       "      <td>23</td>\n",
       "      <td>NaT</td>\n",
       "      <td>Москва</td>\n",
       "      <td>Белла</td>\n",
       "      <td>Белякова</td>\n",
       "      <td>2018-08-17</td>\n",
       "      <td>ultra</td>\n",
       "    </tr>\n",
       "    <tr>\n",
       "      <td>4</td>\n",
       "      <td>1004</td>\n",
       "      <td>68</td>\n",
       "      <td>NaT</td>\n",
       "      <td>Новокузнецк</td>\n",
       "      <td>Татьяна</td>\n",
       "      <td>Авдеенко</td>\n",
       "      <td>2018-05-14</td>\n",
       "      <td>ultra</td>\n",
       "    </tr>\n",
       "    <tr>\n",
       "      <td>5</td>\n",
       "      <td>1005</td>\n",
       "      <td>67</td>\n",
       "      <td>NaT</td>\n",
       "      <td>Набережные Челны</td>\n",
       "      <td>Афанасий</td>\n",
       "      <td>Горлов</td>\n",
       "      <td>2018-01-25</td>\n",
       "      <td>smart</td>\n",
       "    </tr>\n",
       "    <tr>\n",
       "      <td>6</td>\n",
       "      <td>1006</td>\n",
       "      <td>21</td>\n",
       "      <td>NaT</td>\n",
       "      <td>Ульяновск</td>\n",
       "      <td>Леонид</td>\n",
       "      <td>Ермолаев</td>\n",
       "      <td>2018-02-26</td>\n",
       "      <td>smart</td>\n",
       "    </tr>\n",
       "    <tr>\n",
       "      <td>7</td>\n",
       "      <td>1007</td>\n",
       "      <td>65</td>\n",
       "      <td>NaT</td>\n",
       "      <td>Москва</td>\n",
       "      <td>Юна</td>\n",
       "      <td>Березина</td>\n",
       "      <td>2018-04-19</td>\n",
       "      <td>smart</td>\n",
       "    </tr>\n",
       "    <tr>\n",
       "      <td>8</td>\n",
       "      <td>1008</td>\n",
       "      <td>63</td>\n",
       "      <td>NaT</td>\n",
       "      <td>Челябинск</td>\n",
       "      <td>Рустэм</td>\n",
       "      <td>Пономарёв</td>\n",
       "      <td>2018-12-19</td>\n",
       "      <td>smart</td>\n",
       "    </tr>\n",
       "    <tr>\n",
       "      <td>9</td>\n",
       "      <td>1009</td>\n",
       "      <td>24</td>\n",
       "      <td>NaT</td>\n",
       "      <td>Пермь</td>\n",
       "      <td>Василиса</td>\n",
       "      <td>Блинова</td>\n",
       "      <td>2018-03-22</td>\n",
       "      <td>smart</td>\n",
       "    </tr>\n",
       "  </tbody>\n",
       "</table>\n",
       "</div>"
      ],
      "text/plain": [
       "   user_id  age churn_date              city first_name  last_name   reg_date  \\\n",
       "0     1000   52        NaT         Краснодар     Рафаил  Верещагин 2018-05-25   \n",
       "1     1001   41        NaT            Москва       Иван       Ежов 2018-11-01   \n",
       "2     1002   59        NaT       Стерлитамак    Евгений  Абрамович 2018-06-17   \n",
       "3     1003   23        NaT            Москва      Белла   Белякова 2018-08-17   \n",
       "4     1004   68        NaT       Новокузнецк    Татьяна   Авдеенко 2018-05-14   \n",
       "5     1005   67        NaT  Набережные Челны   Афанасий     Горлов 2018-01-25   \n",
       "6     1006   21        NaT         Ульяновск     Леонид   Ермолаев 2018-02-26   \n",
       "7     1007   65        NaT            Москва        Юна   Березина 2018-04-19   \n",
       "8     1008   63        NaT         Челябинск     Рустэм  Пономарёв 2018-12-19   \n",
       "9     1009   24        NaT             Пермь   Василиса    Блинова 2018-03-22   \n",
       "\n",
       "  tariff  \n",
       "0  ultra  \n",
       "1  smart  \n",
       "2  smart  \n",
       "3  ultra  \n",
       "4  ultra  \n",
       "5  smart  \n",
       "6  smart  \n",
       "7  smart  \n",
       "8  smart  \n",
       "9  smart  "
      ]
     },
     "execution_count": 13,
     "metadata": {},
     "output_type": "execute_result"
    }
   ],
   "source": [
    "users['reg_date'] = pd.to_datetime(users['reg_date'], format='%Y-%m-%d')\n",
    "users.head(10)"
   ]
  },
  {
   "cell_type": "code",
   "execution_count": 14,
   "metadata": {},
   "outputs": [
    {
     "name": "stdout",
     "output_type": "stream",
     "text": [
      "<class 'pandas.core.frame.DataFrame'>\n",
      "RangeIndex: 500 entries, 0 to 499\n",
      "Data columns (total 8 columns):\n",
      "user_id       500 non-null int64\n",
      "age           500 non-null int64\n",
      "churn_date    38 non-null datetime64[ns]\n",
      "city          500 non-null object\n",
      "first_name    500 non-null object\n",
      "last_name     500 non-null object\n",
      "reg_date      500 non-null datetime64[ns]\n",
      "tariff        500 non-null object\n",
      "dtypes: datetime64[ns](2), int64(2), object(4)\n",
      "memory usage: 31.4+ KB\n"
     ]
    }
   ],
   "source": [
    "users.info()"
   ]
  },
  {
   "cell_type": "markdown",
   "metadata": {},
   "source": [
    "Изменение типа данных проведено успешно"
   ]
  },
  {
   "cell_type": "markdown",
   "metadata": {},
   "source": [
    "Рассмотрим столбец `tariff`. Рассмотрим уникальные значения и их число в таблице."
   ]
  },
  {
   "cell_type": "code",
   "execution_count": 15,
   "metadata": {},
   "outputs": [
    {
     "data": {
      "text/plain": [
       "smart    351\n",
       "ultra    149\n",
       "Name: tariff, dtype: int64"
      ]
     },
     "execution_count": 15,
     "metadata": {},
     "output_type": "execute_result"
    }
   ],
   "source": [
    "users['tariff'].value_counts()"
   ]
  },
  {
   "cell_type": "markdown",
   "metadata": {},
   "source": [
    "Рассмотрим всю таблицу снова"
   ]
  },
  {
   "cell_type": "code",
   "execution_count": 16,
   "metadata": {},
   "outputs": [
    {
     "name": "stdout",
     "output_type": "stream",
     "text": [
      "<class 'pandas.core.frame.DataFrame'>\n",
      "RangeIndex: 500 entries, 0 to 499\n",
      "Data columns (total 8 columns):\n",
      "user_id       500 non-null int64\n",
      "age           500 non-null int64\n",
      "churn_date    38 non-null datetime64[ns]\n",
      "city          500 non-null object\n",
      "first_name    500 non-null object\n",
      "last_name     500 non-null object\n",
      "reg_date      500 non-null datetime64[ns]\n",
      "tariff        500 non-null object\n",
      "dtypes: datetime64[ns](2), int64(2), object(4)\n",
      "memory usage: 31.4+ KB\n"
     ]
    }
   ],
   "source": [
    "users.info()"
   ]
  },
  {
   "cell_type": "markdown",
   "metadata": {},
   "source": [
    "Данные в порядке"
   ]
  },
  {
   "cell_type": "markdown",
   "metadata": {},
   "source": [
    "#### 2.2. Таблица `calls`"
   ]
  },
  {
   "cell_type": "code",
   "execution_count": 17,
   "metadata": {},
   "outputs": [
    {
     "name": "stdout",
     "output_type": "stream",
     "text": [
      "<class 'pandas.core.frame.DataFrame'>\n",
      "RangeIndex: 202607 entries, 0 to 202606\n",
      "Data columns (total 4 columns):\n",
      "id           202607 non-null object\n",
      "call_date    202607 non-null object\n",
      "duration     202607 non-null float64\n",
      "user_id      202607 non-null int64\n",
      "dtypes: float64(1), int64(1), object(2)\n",
      "memory usage: 6.2+ MB\n"
     ]
    },
    {
     "data": {
      "text/plain": [
       "None"
      ]
     },
     "metadata": {},
     "output_type": "display_data"
    },
    {
     "data": {
      "text/html": [
       "<div>\n",
       "<style scoped>\n",
       "    .dataframe tbody tr th:only-of-type {\n",
       "        vertical-align: middle;\n",
       "    }\n",
       "\n",
       "    .dataframe tbody tr th {\n",
       "        vertical-align: top;\n",
       "    }\n",
       "\n",
       "    .dataframe thead th {\n",
       "        text-align: right;\n",
       "    }\n",
       "</style>\n",
       "<table border=\"1\" class=\"dataframe\">\n",
       "  <thead>\n",
       "    <tr style=\"text-align: right;\">\n",
       "      <th></th>\n",
       "      <th>id</th>\n",
       "      <th>call_date</th>\n",
       "      <th>duration</th>\n",
       "      <th>user_id</th>\n",
       "    </tr>\n",
       "  </thead>\n",
       "  <tbody>\n",
       "    <tr>\n",
       "      <td>0</td>\n",
       "      <td>1000_0</td>\n",
       "      <td>2018-07-25</td>\n",
       "      <td>0.00</td>\n",
       "      <td>1000</td>\n",
       "    </tr>\n",
       "    <tr>\n",
       "      <td>1</td>\n",
       "      <td>1000_1</td>\n",
       "      <td>2018-08-17</td>\n",
       "      <td>0.00</td>\n",
       "      <td>1000</td>\n",
       "    </tr>\n",
       "    <tr>\n",
       "      <td>2</td>\n",
       "      <td>1000_2</td>\n",
       "      <td>2018-06-11</td>\n",
       "      <td>2.85</td>\n",
       "      <td>1000</td>\n",
       "    </tr>\n",
       "    <tr>\n",
       "      <td>3</td>\n",
       "      <td>1000_3</td>\n",
       "      <td>2018-09-21</td>\n",
       "      <td>13.80</td>\n",
       "      <td>1000</td>\n",
       "    </tr>\n",
       "    <tr>\n",
       "      <td>4</td>\n",
       "      <td>1000_4</td>\n",
       "      <td>2018-12-15</td>\n",
       "      <td>5.18</td>\n",
       "      <td>1000</td>\n",
       "    </tr>\n",
       "    <tr>\n",
       "      <td>5</td>\n",
       "      <td>1000_5</td>\n",
       "      <td>2018-11-02</td>\n",
       "      <td>0.00</td>\n",
       "      <td>1000</td>\n",
       "    </tr>\n",
       "    <tr>\n",
       "      <td>6</td>\n",
       "      <td>1000_6</td>\n",
       "      <td>2018-10-18</td>\n",
       "      <td>0.00</td>\n",
       "      <td>1000</td>\n",
       "    </tr>\n",
       "    <tr>\n",
       "      <td>7</td>\n",
       "      <td>1000_7</td>\n",
       "      <td>2018-08-22</td>\n",
       "      <td>18.31</td>\n",
       "      <td>1000</td>\n",
       "    </tr>\n",
       "    <tr>\n",
       "      <td>8</td>\n",
       "      <td>1000_8</td>\n",
       "      <td>2018-09-15</td>\n",
       "      <td>18.44</td>\n",
       "      <td>1000</td>\n",
       "    </tr>\n",
       "    <tr>\n",
       "      <td>9</td>\n",
       "      <td>1000_9</td>\n",
       "      <td>2018-08-15</td>\n",
       "      <td>0.00</td>\n",
       "      <td>1000</td>\n",
       "    </tr>\n",
       "  </tbody>\n",
       "</table>\n",
       "</div>"
      ],
      "text/plain": [
       "       id   call_date  duration  user_id\n",
       "0  1000_0  2018-07-25      0.00     1000\n",
       "1  1000_1  2018-08-17      0.00     1000\n",
       "2  1000_2  2018-06-11      2.85     1000\n",
       "3  1000_3  2018-09-21     13.80     1000\n",
       "4  1000_4  2018-12-15      5.18     1000\n",
       "5  1000_5  2018-11-02      0.00     1000\n",
       "6  1000_6  2018-10-18      0.00     1000\n",
       "7  1000_7  2018-08-22     18.31     1000\n",
       "8  1000_8  2018-09-15     18.44     1000\n",
       "9  1000_9  2018-08-15      0.00     1000"
      ]
     },
     "metadata": {},
     "output_type": "display_data"
    },
    {
     "data": {
      "text/html": [
       "<div>\n",
       "<style scoped>\n",
       "    .dataframe tbody tr th:only-of-type {\n",
       "        vertical-align: middle;\n",
       "    }\n",
       "\n",
       "    .dataframe tbody tr th {\n",
       "        vertical-align: top;\n",
       "    }\n",
       "\n",
       "    .dataframe thead th {\n",
       "        text-align: right;\n",
       "    }\n",
       "</style>\n",
       "<table border=\"1\" class=\"dataframe\">\n",
       "  <thead>\n",
       "    <tr style=\"text-align: right;\">\n",
       "      <th></th>\n",
       "      <th>duration</th>\n",
       "      <th>user_id</th>\n",
       "    </tr>\n",
       "  </thead>\n",
       "  <tbody>\n",
       "    <tr>\n",
       "      <td>count</td>\n",
       "      <td>202607.000000</td>\n",
       "      <td>202607.000000</td>\n",
       "    </tr>\n",
       "    <tr>\n",
       "      <td>mean</td>\n",
       "      <td>6.755887</td>\n",
       "      <td>1253.940619</td>\n",
       "    </tr>\n",
       "    <tr>\n",
       "      <td>std</td>\n",
       "      <td>5.843365</td>\n",
       "      <td>144.722751</td>\n",
       "    </tr>\n",
       "    <tr>\n",
       "      <td>min</td>\n",
       "      <td>0.000000</td>\n",
       "      <td>1000.000000</td>\n",
       "    </tr>\n",
       "    <tr>\n",
       "      <td>25%</td>\n",
       "      <td>1.300000</td>\n",
       "      <td>1126.000000</td>\n",
       "    </tr>\n",
       "    <tr>\n",
       "      <td>50%</td>\n",
       "      <td>6.000000</td>\n",
       "      <td>1260.000000</td>\n",
       "    </tr>\n",
       "    <tr>\n",
       "      <td>75%</td>\n",
       "      <td>10.700000</td>\n",
       "      <td>1379.000000</td>\n",
       "    </tr>\n",
       "    <tr>\n",
       "      <td>max</td>\n",
       "      <td>38.000000</td>\n",
       "      <td>1499.000000</td>\n",
       "    </tr>\n",
       "  </tbody>\n",
       "</table>\n",
       "</div>"
      ],
      "text/plain": [
       "            duration        user_id\n",
       "count  202607.000000  202607.000000\n",
       "mean        6.755887    1253.940619\n",
       "std         5.843365     144.722751\n",
       "min         0.000000    1000.000000\n",
       "25%         1.300000    1126.000000\n",
       "50%         6.000000    1260.000000\n",
       "75%        10.700000    1379.000000\n",
       "max        38.000000    1499.000000"
      ]
     },
     "metadata": {},
     "output_type": "display_data"
    }
   ],
   "source": [
    "display(calls.info())\n",
    "display(calls.head(10))\n",
    "display(calls.describe())"
   ]
  },
  {
   "cell_type": "markdown",
   "metadata": {},
   "source": [
    "Рассмотрим столбец `id`"
   ]
  },
  {
   "cell_type": "code",
   "execution_count": 18,
   "metadata": {},
   "outputs": [
    {
     "data": {
      "text/plain": [
       "1100_463    1\n",
       "1251_339    1\n",
       "1330_101    1\n",
       "1340_522    1\n",
       "1154_200    1\n",
       "           ..\n",
       "1462_199    1\n",
       "1380_328    1\n",
       "1232_0      1\n",
       "1375_769    1\n",
       "1353_364    1\n",
       "Name: id, Length: 202607, dtype: int64"
      ]
     },
     "execution_count": 18,
     "metadata": {},
     "output_type": "execute_result"
    }
   ],
   "source": [
    "calls['id'].value_counts()"
   ]
  },
  {
   "cell_type": "markdown",
   "metadata": {},
   "source": [
    "Всего 202607 значений и все уникальные."
   ]
  },
  {
   "cell_type": "markdown",
   "metadata": {},
   "source": [
    "Рассмотрим столбец `call_date` и заменим тип данных на Datetime"
   ]
  },
  {
   "cell_type": "code",
   "execution_count": 19,
   "metadata": {},
   "outputs": [
    {
     "data": {
      "text/plain": [
       "count         202607\n",
       "unique           365\n",
       "top       2018-12-31\n",
       "freq            1435\n",
       "Name: call_date, dtype: object"
      ]
     },
     "execution_count": 19,
     "metadata": {},
     "output_type": "execute_result"
    }
   ],
   "source": [
    "calls['call_date'].describe()"
   ]
  },
  {
   "cell_type": "markdown",
   "metadata": {},
   "source": [
    "365 уникальных значений по числу дней в году"
   ]
  },
  {
   "cell_type": "code",
   "execution_count": 20,
   "metadata": {},
   "outputs": [
    {
     "name": "stdout",
     "output_type": "stream",
     "text": [
      "<class 'pandas.core.frame.DataFrame'>\n",
      "RangeIndex: 202607 entries, 0 to 202606\n",
      "Data columns (total 4 columns):\n",
      "id           202607 non-null object\n",
      "call_date    202607 non-null datetime64[ns]\n",
      "duration     202607 non-null float64\n",
      "user_id      202607 non-null int64\n",
      "dtypes: datetime64[ns](1), float64(1), int64(1), object(1)\n",
      "memory usage: 6.2+ MB\n"
     ]
    }
   ],
   "source": [
    "calls['call_date'] = pd.to_datetime(calls['call_date'], format='%Y-%m-%d')\n",
    "calls.info()"
   ]
  },
  {
   "cell_type": "markdown",
   "metadata": {},
   "source": [
    "Изменение типа данных проведено успешно"
   ]
  },
  {
   "cell_type": "markdown",
   "metadata": {},
   "source": [
    "Рассмотрим столбец `duration`, округлим в большую сторону и изменим тип данных на целочисленный"
   ]
  },
  {
   "cell_type": "code",
   "execution_count": 21,
   "metadata": {},
   "outputs": [
    {
     "data": {
      "text/plain": [
       "count    202607.000000\n",
       "mean          6.755887\n",
       "std           5.843365\n",
       "min           0.000000\n",
       "25%           1.300000\n",
       "50%           6.000000\n",
       "75%          10.700000\n",
       "max          38.000000\n",
       "Name: duration, dtype: float64"
      ]
     },
     "execution_count": 21,
     "metadata": {},
     "output_type": "execute_result"
    }
   ],
   "source": [
    "calls['duration'].describe()"
   ]
  },
  {
   "cell_type": "markdown",
   "metadata": {},
   "source": [
    "Выбросов нет. Длительность вызовов от 0 до 38 минут (0 минут - это пропущенные звонки)"
   ]
  },
  {
   "cell_type": "markdown",
   "metadata": {},
   "source": [
    "Проведем округление в большую сторону и изменим тип данных"
   ]
  },
  {
   "cell_type": "code",
   "execution_count": 22,
   "metadata": {},
   "outputs": [
    {
     "data": {
      "text/plain": [
       "0          0\n",
       "1          0\n",
       "2          3\n",
       "3         14\n",
       "4          6\n",
       "          ..\n",
       "202602     1\n",
       "202603    19\n",
       "202604    11\n",
       "202605     5\n",
       "202606    20\n",
       "Name: duration, Length: 202607, dtype: int64"
      ]
     },
     "metadata": {},
     "output_type": "display_data"
    }
   ],
   "source": [
    "calls['duration'] = calls['duration'].apply(math.ceil).astype(int)\n",
    "display(calls['duration'])"
   ]
  },
  {
   "cell_type": "markdown",
   "metadata": {},
   "source": [
    "Рассмотрим столбец `user_id`"
   ]
  },
  {
   "cell_type": "code",
   "execution_count": 23,
   "metadata": {},
   "outputs": [
    {
     "data": {
      "text/plain": [
       "1377    1760\n",
       "1168    1692\n",
       "1375    1560\n",
       "1453    1440\n",
       "1196    1240\n",
       "        ... \n",
       "1397      33\n",
       "1442      28\n",
       "1373      24\n",
       "1016      20\n",
       "1257      14\n",
       "Name: user_id, Length: 492, dtype: int64"
      ]
     },
     "execution_count": 23,
     "metadata": {},
     "output_type": "execute_result"
    }
   ],
   "source": [
    "calls['user_id'].value_counts()"
   ]
  },
  {
   "cell_type": "markdown",
   "metadata": {},
   "source": [
    "Некоторые абоненты делали свыше 1000 звонков в год. Это могут быть колл-центры. 8 абонентов за год не разговаривали ни разу, что вполне может быть"
   ]
  },
  {
   "cell_type": "markdown",
   "metadata": {},
   "source": [
    "Рассмотрим таблицу снова"
   ]
  },
  {
   "cell_type": "code",
   "execution_count": 24,
   "metadata": {},
   "outputs": [
    {
     "name": "stdout",
     "output_type": "stream",
     "text": [
      "<class 'pandas.core.frame.DataFrame'>\n",
      "RangeIndex: 202607 entries, 0 to 202606\n",
      "Data columns (total 4 columns):\n",
      "id           202607 non-null object\n",
      "call_date    202607 non-null datetime64[ns]\n",
      "duration     202607 non-null int64\n",
      "user_id      202607 non-null int64\n",
      "dtypes: datetime64[ns](1), int64(2), object(1)\n",
      "memory usage: 6.2+ MB\n"
     ]
    }
   ],
   "source": [
    "calls.info()"
   ]
  },
  {
   "cell_type": "markdown",
   "metadata": {},
   "source": [
    "#### 2.3. Таблица `messages`"
   ]
  },
  {
   "cell_type": "code",
   "execution_count": 25,
   "metadata": {},
   "outputs": [
    {
     "name": "stdout",
     "output_type": "stream",
     "text": [
      "<class 'pandas.core.frame.DataFrame'>\n",
      "RangeIndex: 123036 entries, 0 to 123035\n",
      "Data columns (total 3 columns):\n",
      "id              123036 non-null object\n",
      "message_date    123036 non-null object\n",
      "user_id         123036 non-null int64\n",
      "dtypes: int64(1), object(2)\n",
      "memory usage: 2.8+ MB\n"
     ]
    },
    {
     "data": {
      "text/html": [
       "<div>\n",
       "<style scoped>\n",
       "    .dataframe tbody tr th:only-of-type {\n",
       "        vertical-align: middle;\n",
       "    }\n",
       "\n",
       "    .dataframe tbody tr th {\n",
       "        vertical-align: top;\n",
       "    }\n",
       "\n",
       "    .dataframe thead th {\n",
       "        text-align: right;\n",
       "    }\n",
       "</style>\n",
       "<table border=\"1\" class=\"dataframe\">\n",
       "  <thead>\n",
       "    <tr style=\"text-align: right;\">\n",
       "      <th></th>\n",
       "      <th>id</th>\n",
       "      <th>message_date</th>\n",
       "      <th>user_id</th>\n",
       "    </tr>\n",
       "  </thead>\n",
       "  <tbody>\n",
       "    <tr>\n",
       "      <td>0</td>\n",
       "      <td>1000_0</td>\n",
       "      <td>2018-06-27</td>\n",
       "      <td>1000</td>\n",
       "    </tr>\n",
       "    <tr>\n",
       "      <td>1</td>\n",
       "      <td>1000_1</td>\n",
       "      <td>2018-10-08</td>\n",
       "      <td>1000</td>\n",
       "    </tr>\n",
       "    <tr>\n",
       "      <td>2</td>\n",
       "      <td>1000_2</td>\n",
       "      <td>2018-08-04</td>\n",
       "      <td>1000</td>\n",
       "    </tr>\n",
       "    <tr>\n",
       "      <td>3</td>\n",
       "      <td>1000_3</td>\n",
       "      <td>2018-06-16</td>\n",
       "      <td>1000</td>\n",
       "    </tr>\n",
       "    <tr>\n",
       "      <td>4</td>\n",
       "      <td>1000_4</td>\n",
       "      <td>2018-12-05</td>\n",
       "      <td>1000</td>\n",
       "    </tr>\n",
       "    <tr>\n",
       "      <td>5</td>\n",
       "      <td>1000_5</td>\n",
       "      <td>2018-06-20</td>\n",
       "      <td>1000</td>\n",
       "    </tr>\n",
       "    <tr>\n",
       "      <td>6</td>\n",
       "      <td>1000_6</td>\n",
       "      <td>2018-11-19</td>\n",
       "      <td>1000</td>\n",
       "    </tr>\n",
       "    <tr>\n",
       "      <td>7</td>\n",
       "      <td>1000_7</td>\n",
       "      <td>2018-10-29</td>\n",
       "      <td>1000</td>\n",
       "    </tr>\n",
       "    <tr>\n",
       "      <td>8</td>\n",
       "      <td>1000_8</td>\n",
       "      <td>2018-06-25</td>\n",
       "      <td>1000</td>\n",
       "    </tr>\n",
       "    <tr>\n",
       "      <td>9</td>\n",
       "      <td>1000_9</td>\n",
       "      <td>2018-12-18</td>\n",
       "      <td>1000</td>\n",
       "    </tr>\n",
       "  </tbody>\n",
       "</table>\n",
       "</div>"
      ],
      "text/plain": [
       "       id message_date  user_id\n",
       "0  1000_0   2018-06-27     1000\n",
       "1  1000_1   2018-10-08     1000\n",
       "2  1000_2   2018-08-04     1000\n",
       "3  1000_3   2018-06-16     1000\n",
       "4  1000_4   2018-12-05     1000\n",
       "5  1000_5   2018-06-20     1000\n",
       "6  1000_6   2018-11-19     1000\n",
       "7  1000_7   2018-10-29     1000\n",
       "8  1000_8   2018-06-25     1000\n",
       "9  1000_9   2018-12-18     1000"
      ]
     },
     "metadata": {},
     "output_type": "display_data"
    }
   ],
   "source": [
    "messages.info()\n",
    "display(messages.head(10))"
   ]
  },
  {
   "cell_type": "markdown",
   "metadata": {},
   "source": [
    "Рассмотрим столбец `id`"
   ]
  },
  {
   "cell_type": "code",
   "execution_count": 26,
   "metadata": {},
   "outputs": [
    {
     "data": {
      "text/plain": [
       "1424_484    1\n",
       "1145_495    1\n",
       "1004_237    1\n",
       "1033_35     1\n",
       "1266_195    1\n",
       "           ..\n",
       "1165_391    1\n",
       "1423_333    1\n",
       "1418_69     1\n",
       "1468_6      1\n",
       "1353_364    1\n",
       "Name: id, Length: 123036, dtype: int64"
      ]
     },
     "execution_count": 26,
     "metadata": {},
     "output_type": "execute_result"
    }
   ],
   "source": [
    "messages['id'].value_counts()"
   ]
  },
  {
   "cell_type": "markdown",
   "metadata": {},
   "source": [
    "Всего 123036 уникальных записей"
   ]
  },
  {
   "cell_type": "markdown",
   "metadata": {},
   "source": [
    "Рассмотрим столбец `message_date` и заменим тип данных на Datetime."
   ]
  },
  {
   "cell_type": "code",
   "execution_count": 27,
   "metadata": {},
   "outputs": [
    {
     "data": {
      "text/plain": [
       "count         123036\n",
       "unique           364\n",
       "top       2018-12-31\n",
       "freq             859\n",
       "Name: message_date, dtype: object"
      ]
     },
     "execution_count": 27,
     "metadata": {},
     "output_type": "execute_result"
    }
   ],
   "source": [
    "messages['message_date'].describe()"
   ]
  },
  {
   "cell_type": "markdown",
   "metadata": {},
   "source": [
    "364 уникальных значений из 365 дней. Данные за 1 день отсутствуют"
   ]
  },
  {
   "cell_type": "code",
   "execution_count": 28,
   "metadata": {},
   "outputs": [
    {
     "data": {
      "text/plain": [
       "count                  123036\n",
       "unique                    364\n",
       "top       2018-12-31 00:00:00\n",
       "freq                      859\n",
       "first     2018-01-02 00:00:00\n",
       "last      2018-12-31 00:00:00\n",
       "Name: message_date, dtype: object"
      ]
     },
     "execution_count": 28,
     "metadata": {},
     "output_type": "execute_result"
    }
   ],
   "source": [
    "messages['message_date'] = pd.to_datetime(messages['message_date'], format='%Y-%m-%d')\n",
    "messages['message_date'].describe()"
   ]
  },
  {
   "cell_type": "markdown",
   "metadata": {},
   "source": [
    "Нет данных за 1 января. Это не должно помешать исследованию"
   ]
  },
  {
   "cell_type": "code",
   "execution_count": 29,
   "metadata": {},
   "outputs": [
    {
     "name": "stdout",
     "output_type": "stream",
     "text": [
      "<class 'pandas.core.frame.DataFrame'>\n",
      "RangeIndex: 123036 entries, 0 to 123035\n",
      "Data columns (total 3 columns):\n",
      "id              123036 non-null object\n",
      "message_date    123036 non-null datetime64[ns]\n",
      "user_id         123036 non-null int64\n",
      "dtypes: datetime64[ns](1), int64(1), object(1)\n",
      "memory usage: 2.8+ MB\n"
     ]
    }
   ],
   "source": [
    "messages.info()"
   ]
  },
  {
   "cell_type": "markdown",
   "metadata": {},
   "source": [
    "Рассмотрим столбец `user_id`"
   ]
  },
  {
   "cell_type": "code",
   "execution_count": 30,
   "metadata": {},
   "outputs": [
    {
     "data": {
      "text/plain": [
       "1277    1463\n",
       "1089    1408\n",
       "1231    1384\n",
       "1385    1380\n",
       "1356    1224\n",
       "        ... \n",
       "1389       6\n",
       "1279       5\n",
       "1074       3\n",
       "1159       2\n",
       "1141       1\n",
       "Name: user_id, Length: 426, dtype: int64"
      ]
     },
     "execution_count": 30,
     "metadata": {},
     "output_type": "execute_result"
    }
   ],
   "source": [
    "messages['user_id'].value_counts()"
   ]
  },
  {
   "cell_type": "markdown",
   "metadata": {},
   "source": [
    "Некоторые абоненты отсылали свыше 1000 сообщений в год. Это могут быть какие-то рассылки. 74 абонента за год не посылали ни одного сообщения (вполне возможно, сейчас многие пользуются только мессенджерами)"
   ]
  },
  {
   "cell_type": "markdown",
   "metadata": {},
   "source": [
    "Проверим всю таблицу снова"
   ]
  },
  {
   "cell_type": "code",
   "execution_count": 31,
   "metadata": {},
   "outputs": [
    {
     "name": "stdout",
     "output_type": "stream",
     "text": [
      "<class 'pandas.core.frame.DataFrame'>\n",
      "RangeIndex: 123036 entries, 0 to 123035\n",
      "Data columns (total 3 columns):\n",
      "id              123036 non-null object\n",
      "message_date    123036 non-null datetime64[ns]\n",
      "user_id         123036 non-null int64\n",
      "dtypes: datetime64[ns](1), int64(1), object(1)\n",
      "memory usage: 2.8+ MB\n"
     ]
    }
   ],
   "source": [
    "messages.info()"
   ]
  },
  {
   "cell_type": "markdown",
   "metadata": {},
   "source": [
    "#### 2.4. Таблица `internet`"
   ]
  },
  {
   "cell_type": "code",
   "execution_count": 32,
   "metadata": {},
   "outputs": [
    {
     "name": "stdout",
     "output_type": "stream",
     "text": [
      "<class 'pandas.core.frame.DataFrame'>\n",
      "RangeIndex: 149396 entries, 0 to 149395\n",
      "Data columns (total 4 columns):\n",
      "id              149396 non-null object\n",
      "mb_used         149396 non-null float64\n",
      "session_date    149396 non-null object\n",
      "user_id         149396 non-null int64\n",
      "dtypes: float64(1), int64(1), object(2)\n",
      "memory usage: 4.6+ MB\n"
     ]
    },
    {
     "data": {
      "text/html": [
       "<div>\n",
       "<style scoped>\n",
       "    .dataframe tbody tr th:only-of-type {\n",
       "        vertical-align: middle;\n",
       "    }\n",
       "\n",
       "    .dataframe tbody tr th {\n",
       "        vertical-align: top;\n",
       "    }\n",
       "\n",
       "    .dataframe thead th {\n",
       "        text-align: right;\n",
       "    }\n",
       "</style>\n",
       "<table border=\"1\" class=\"dataframe\">\n",
       "  <thead>\n",
       "    <tr style=\"text-align: right;\">\n",
       "      <th></th>\n",
       "      <th>id</th>\n",
       "      <th>mb_used</th>\n",
       "      <th>session_date</th>\n",
       "      <th>user_id</th>\n",
       "    </tr>\n",
       "  </thead>\n",
       "  <tbody>\n",
       "    <tr>\n",
       "      <td>0</td>\n",
       "      <td>1000_0</td>\n",
       "      <td>112.95</td>\n",
       "      <td>2018-11-25</td>\n",
       "      <td>1000</td>\n",
       "    </tr>\n",
       "    <tr>\n",
       "      <td>1</td>\n",
       "      <td>1000_1</td>\n",
       "      <td>1052.81</td>\n",
       "      <td>2018-09-07</td>\n",
       "      <td>1000</td>\n",
       "    </tr>\n",
       "    <tr>\n",
       "      <td>2</td>\n",
       "      <td>1000_2</td>\n",
       "      <td>1197.26</td>\n",
       "      <td>2018-06-25</td>\n",
       "      <td>1000</td>\n",
       "    </tr>\n",
       "    <tr>\n",
       "      <td>3</td>\n",
       "      <td>1000_3</td>\n",
       "      <td>550.27</td>\n",
       "      <td>2018-08-22</td>\n",
       "      <td>1000</td>\n",
       "    </tr>\n",
       "    <tr>\n",
       "      <td>4</td>\n",
       "      <td>1000_4</td>\n",
       "      <td>302.56</td>\n",
       "      <td>2018-09-24</td>\n",
       "      <td>1000</td>\n",
       "    </tr>\n",
       "    <tr>\n",
       "      <td>5</td>\n",
       "      <td>1000_5</td>\n",
       "      <td>399.97</td>\n",
       "      <td>2018-10-02</td>\n",
       "      <td>1000</td>\n",
       "    </tr>\n",
       "    <tr>\n",
       "      <td>6</td>\n",
       "      <td>1000_6</td>\n",
       "      <td>540.08</td>\n",
       "      <td>2018-09-07</td>\n",
       "      <td>1000</td>\n",
       "    </tr>\n",
       "    <tr>\n",
       "      <td>7</td>\n",
       "      <td>1000_7</td>\n",
       "      <td>415.70</td>\n",
       "      <td>2018-07-11</td>\n",
       "      <td>1000</td>\n",
       "    </tr>\n",
       "    <tr>\n",
       "      <td>8</td>\n",
       "      <td>1000_8</td>\n",
       "      <td>505.40</td>\n",
       "      <td>2018-10-08</td>\n",
       "      <td>1000</td>\n",
       "    </tr>\n",
       "    <tr>\n",
       "      <td>9</td>\n",
       "      <td>1000_9</td>\n",
       "      <td>345.54</td>\n",
       "      <td>2018-09-03</td>\n",
       "      <td>1000</td>\n",
       "    </tr>\n",
       "  </tbody>\n",
       "</table>\n",
       "</div>"
      ],
      "text/plain": [
       "       id  mb_used session_date  user_id\n",
       "0  1000_0   112.95   2018-11-25     1000\n",
       "1  1000_1  1052.81   2018-09-07     1000\n",
       "2  1000_2  1197.26   2018-06-25     1000\n",
       "3  1000_3   550.27   2018-08-22     1000\n",
       "4  1000_4   302.56   2018-09-24     1000\n",
       "5  1000_5   399.97   2018-10-02     1000\n",
       "6  1000_6   540.08   2018-09-07     1000\n",
       "7  1000_7   415.70   2018-07-11     1000\n",
       "8  1000_8   505.40   2018-10-08     1000\n",
       "9  1000_9   345.54   2018-09-03     1000"
      ]
     },
     "metadata": {},
     "output_type": "display_data"
    },
    {
     "data": {
      "text/html": [
       "<div>\n",
       "<style scoped>\n",
       "    .dataframe tbody tr th:only-of-type {\n",
       "        vertical-align: middle;\n",
       "    }\n",
       "\n",
       "    .dataframe tbody tr th {\n",
       "        vertical-align: top;\n",
       "    }\n",
       "\n",
       "    .dataframe thead th {\n",
       "        text-align: right;\n",
       "    }\n",
       "</style>\n",
       "<table border=\"1\" class=\"dataframe\">\n",
       "  <thead>\n",
       "    <tr style=\"text-align: right;\">\n",
       "      <th></th>\n",
       "      <th>mb_used</th>\n",
       "      <th>user_id</th>\n",
       "    </tr>\n",
       "  </thead>\n",
       "  <tbody>\n",
       "    <tr>\n",
       "      <td>count</td>\n",
       "      <td>149396.000000</td>\n",
       "      <td>149396.000000</td>\n",
       "    </tr>\n",
       "    <tr>\n",
       "      <td>mean</td>\n",
       "      <td>370.192426</td>\n",
       "      <td>1252.099842</td>\n",
       "    </tr>\n",
       "    <tr>\n",
       "      <td>std</td>\n",
       "      <td>278.300951</td>\n",
       "      <td>144.050823</td>\n",
       "    </tr>\n",
       "    <tr>\n",
       "      <td>min</td>\n",
       "      <td>0.000000</td>\n",
       "      <td>1000.000000</td>\n",
       "    </tr>\n",
       "    <tr>\n",
       "      <td>25%</td>\n",
       "      <td>138.187500</td>\n",
       "      <td>1130.000000</td>\n",
       "    </tr>\n",
       "    <tr>\n",
       "      <td>50%</td>\n",
       "      <td>348.015000</td>\n",
       "      <td>1251.000000</td>\n",
       "    </tr>\n",
       "    <tr>\n",
       "      <td>75%</td>\n",
       "      <td>559.552500</td>\n",
       "      <td>1380.000000</td>\n",
       "    </tr>\n",
       "    <tr>\n",
       "      <td>max</td>\n",
       "      <td>1724.830000</td>\n",
       "      <td>1499.000000</td>\n",
       "    </tr>\n",
       "  </tbody>\n",
       "</table>\n",
       "</div>"
      ],
      "text/plain": [
       "             mb_used        user_id\n",
       "count  149396.000000  149396.000000\n",
       "mean      370.192426    1252.099842\n",
       "std       278.300951     144.050823\n",
       "min         0.000000    1000.000000\n",
       "25%       138.187500    1130.000000\n",
       "50%       348.015000    1251.000000\n",
       "75%       559.552500    1380.000000\n",
       "max      1724.830000    1499.000000"
      ]
     },
     "metadata": {},
     "output_type": "display_data"
    }
   ],
   "source": [
    "internet.info()\n",
    "display(internet.head(10))\n",
    "display(internet.describe())"
   ]
  },
  {
   "cell_type": "markdown",
   "metadata": {},
   "source": [
    "Рассмотрим столбец `id`"
   ]
  },
  {
   "cell_type": "code",
   "execution_count": 33,
   "metadata": {},
   "outputs": [
    {
     "data": {
      "text/plain": [
       "1212_22     1\n",
       "1193_250    1\n",
       "1299_322    1\n",
       "1492_83     1\n",
       "1292_533    1\n",
       "           ..\n",
       "1482_358    1\n",
       "1254_44     1\n",
       "1109_3      1\n",
       "1270_96     1\n",
       "1353_364    1\n",
       "Name: id, Length: 149396, dtype: int64"
      ]
     },
     "execution_count": 33,
     "metadata": {},
     "output_type": "execute_result"
    }
   ],
   "source": [
    "internet['id'].value_counts()"
   ]
  },
  {
   "cell_type": "markdown",
   "metadata": {},
   "source": [
    "Всего 149396 уникальных id. Повторов нет."
   ]
  },
  {
   "cell_type": "markdown",
   "metadata": {},
   "source": [
    "Рассмотрим столбец `session_date` и заменим тип данных на Datetime."
   ]
  },
  {
   "cell_type": "code",
   "execution_count": 34,
   "metadata": {},
   "outputs": [
    {
     "data": {
      "text/plain": [
       "count         149396\n",
       "unique           365\n",
       "top       2018-12-31\n",
       "freq            1057\n",
       "Name: session_date, dtype: object"
      ]
     },
     "execution_count": 34,
     "metadata": {},
     "output_type": "execute_result"
    }
   ],
   "source": [
    "internet['session_date'].describe()"
   ]
  },
  {
   "cell_type": "markdown",
   "metadata": {},
   "source": [
    "365 уникальных значений из 365 дней"
   ]
  },
  {
   "cell_type": "code",
   "execution_count": 35,
   "metadata": {},
   "outputs": [
    {
     "data": {
      "text/plain": [
       "count                  149396\n",
       "unique                    365\n",
       "top       2018-12-31 00:00:00\n",
       "freq                     1057\n",
       "first     2018-01-01 00:00:00\n",
       "last      2018-12-31 00:00:00\n",
       "Name: session_date, dtype: object"
      ]
     },
     "execution_count": 35,
     "metadata": {},
     "output_type": "execute_result"
    }
   ],
   "source": [
    "internet['session_date'] = pd.to_datetime(internet['session_date'], format='%Y-%m-%d')\n",
    "internet['session_date'].describe()"
   ]
  },
  {
   "cell_type": "code",
   "execution_count": 36,
   "metadata": {},
   "outputs": [
    {
     "name": "stdout",
     "output_type": "stream",
     "text": [
      "<class 'pandas.core.frame.DataFrame'>\n",
      "RangeIndex: 149396 entries, 0 to 149395\n",
      "Data columns (total 4 columns):\n",
      "id              149396 non-null object\n",
      "mb_used         149396 non-null float64\n",
      "session_date    149396 non-null datetime64[ns]\n",
      "user_id         149396 non-null int64\n",
      "dtypes: datetime64[ns](1), float64(1), int64(1), object(1)\n",
      "memory usage: 4.6+ MB\n"
     ]
    }
   ],
   "source": [
    "internet.info()"
   ]
  },
  {
   "cell_type": "markdown",
   "metadata": {},
   "source": [
    "Рассмотрим столбец `mb_used`, округлим в большую сторону по правилу оператора и изменим тип данных на целочисленный"
   ]
  },
  {
   "cell_type": "code",
   "execution_count": 37,
   "metadata": {},
   "outputs": [
    {
     "data": {
      "text/plain": [
       "count    149396.000000\n",
       "mean        370.192426\n",
       "std         278.300951\n",
       "min           0.000000\n",
       "25%         138.187500\n",
       "50%         348.015000\n",
       "75%         559.552500\n",
       "max        1724.830000\n",
       "Name: mb_used, dtype: float64"
      ]
     },
     "execution_count": 37,
     "metadata": {},
     "output_type": "execute_result"
    }
   ],
   "source": [
    "internet['mb_used'].describe()"
   ]
  },
  {
   "cell_type": "markdown",
   "metadata": {},
   "source": [
    "Выбросов нет. Объем используемой памяти от 0 до 1724 МБ (0 МБ - это скорее всего сорванные сессии)"
   ]
  },
  {
   "cell_type": "markdown",
   "metadata": {},
   "source": [
    "Рассмотрим столбец `user_id`"
   ]
  },
  {
   "cell_type": "code",
   "execution_count": 38,
   "metadata": {},
   "outputs": [
    {
     "data": {
      "text/plain": [
       "1496    834\n",
       "1227    812\n",
       "1204    789\n",
       "1240    764\n",
       "1251    759\n",
       "       ... \n",
       "1151     35\n",
       "1467     27\n",
       "1343     26\n",
       "1192     22\n",
       "1399      8\n",
       "Name: user_id, Length: 497, dtype: int64"
      ]
     },
     "execution_count": 38,
     "metadata": {},
     "output_type": "execute_result"
    }
   ],
   "source": [
    "internet['user_id'].value_counts()"
   ]
  },
  {
   "cell_type": "markdown",
   "metadata": {},
   "source": [
    "497 уникальных значений. Всего 3 человека не пользовались интернетом совсем"
   ]
  },
  {
   "cell_type": "markdown",
   "metadata": {},
   "source": [
    "Рассмотрим таблицу снова"
   ]
  },
  {
   "cell_type": "code",
   "execution_count": 39,
   "metadata": {},
   "outputs": [
    {
     "name": "stdout",
     "output_type": "stream",
     "text": [
      "<class 'pandas.core.frame.DataFrame'>\n",
      "RangeIndex: 149396 entries, 0 to 149395\n",
      "Data columns (total 4 columns):\n",
      "id              149396 non-null object\n",
      "mb_used         149396 non-null float64\n",
      "session_date    149396 non-null datetime64[ns]\n",
      "user_id         149396 non-null int64\n",
      "dtypes: datetime64[ns](1), float64(1), int64(1), object(1)\n",
      "memory usage: 4.6+ MB\n"
     ]
    }
   ],
   "source": [
    "internet.info()"
   ]
  },
  {
   "cell_type": "markdown",
   "metadata": {},
   "source": [
    "#### 2.5. Таблица `tariffs`"
   ]
  },
  {
   "cell_type": "code",
   "execution_count": 40,
   "metadata": {},
   "outputs": [
    {
     "name": "stdout",
     "output_type": "stream",
     "text": [
      "<class 'pandas.core.frame.DataFrame'>\n",
      "RangeIndex: 2 entries, 0 to 1\n",
      "Data columns (total 8 columns):\n",
      "messages_included        2 non-null int64\n",
      "mb_per_month_included    2 non-null int64\n",
      "minutes_included         2 non-null int64\n",
      "rub_monthly_fee          2 non-null int64\n",
      "rub_per_gb               2 non-null int64\n",
      "rub_per_message          2 non-null int64\n",
      "rub_per_minute           2 non-null int64\n",
      "tariff_name              2 non-null object\n",
      "dtypes: int64(7), object(1)\n",
      "memory usage: 256.0+ bytes\n"
     ]
    },
    {
     "data": {
      "text/html": [
       "<div>\n",
       "<style scoped>\n",
       "    .dataframe tbody tr th:only-of-type {\n",
       "        vertical-align: middle;\n",
       "    }\n",
       "\n",
       "    .dataframe tbody tr th {\n",
       "        vertical-align: top;\n",
       "    }\n",
       "\n",
       "    .dataframe thead th {\n",
       "        text-align: right;\n",
       "    }\n",
       "</style>\n",
       "<table border=\"1\" class=\"dataframe\">\n",
       "  <thead>\n",
       "    <tr style=\"text-align: right;\">\n",
       "      <th></th>\n",
       "      <th>messages_included</th>\n",
       "      <th>mb_per_month_included</th>\n",
       "      <th>minutes_included</th>\n",
       "      <th>rub_monthly_fee</th>\n",
       "      <th>rub_per_gb</th>\n",
       "      <th>rub_per_message</th>\n",
       "      <th>rub_per_minute</th>\n",
       "      <th>tariff_name</th>\n",
       "    </tr>\n",
       "  </thead>\n",
       "  <tbody>\n",
       "    <tr>\n",
       "      <td>0</td>\n",
       "      <td>50</td>\n",
       "      <td>15360</td>\n",
       "      <td>500</td>\n",
       "      <td>550</td>\n",
       "      <td>200</td>\n",
       "      <td>3</td>\n",
       "      <td>3</td>\n",
       "      <td>smart</td>\n",
       "    </tr>\n",
       "    <tr>\n",
       "      <td>1</td>\n",
       "      <td>1000</td>\n",
       "      <td>30720</td>\n",
       "      <td>3000</td>\n",
       "      <td>1950</td>\n",
       "      <td>150</td>\n",
       "      <td>1</td>\n",
       "      <td>1</td>\n",
       "      <td>ultra</td>\n",
       "    </tr>\n",
       "  </tbody>\n",
       "</table>\n",
       "</div>"
      ],
      "text/plain": [
       "   messages_included  mb_per_month_included  minutes_included  \\\n",
       "0                 50                  15360               500   \n",
       "1               1000                  30720              3000   \n",
       "\n",
       "   rub_monthly_fee  rub_per_gb  rub_per_message  rub_per_minute tariff_name  \n",
       "0              550         200                3               3       smart  \n",
       "1             1950         150                1               1       ultra  "
      ]
     },
     "metadata": {},
     "output_type": "display_data"
    }
   ],
   "source": [
    "tariffs.info()\n",
    "display(tariffs)"
   ]
  },
  {
   "cell_type": "markdown",
   "metadata": {},
   "source": [
    "Таблица в порядке"
   ]
  },
  {
   "cell_type": "markdown",
   "metadata": {},
   "source": [
    "**Вывод**\n",
    "\n",
    "Данные изначально в хорошем состоянии. Изменены типы в столбцах с датами на Datetime, округлены данные с длительностью звонков и объемом трафика в большую сторону и изменены типы данных на целочисленные. Дубликатов не было. В данных были найдены звонки и интернет-сессии с нулевой продолжительностью и трафиком в 0 МБ. Скорее всего это не ошибка: нулями обозначены пропущенные звонки и сорванные сессии. Удалять их не будем."
   ]
  },
  {
   "cell_type": "markdown",
   "metadata": {},
   "source": [
    "## Шаг 3. Подготовка данных по пользователям"
   ]
  },
  {
   "cell_type": "markdown",
   "metadata": {},
   "source": [
    "Посчитаем для каждого пользователя:\n",
    "\n",
    "- количество сделанных звонков и израсходованных минут разговора по месяцам;\n",
    "- количество отправленных сообщений по месяцам;\n",
    "- объем израсходованного интернет-трафика по месяцам;\n",
    "- помесячную выручку с каждого пользователя (вычтите бесплатный лимит из суммарного количества звонков, сообщений и интернет-трафика; остаток умножьте на значение из тарифного плана; прибавьте абонентскую плату, соответствующую тарифному плану)."
   ]
  },
  {
   "cell_type": "markdown",
   "metadata": {},
   "source": [
    "Добавим в каждую таблицу столбец с месяцем для группировки по месяцам."
   ]
  },
  {
   "cell_type": "code",
   "execution_count": 41,
   "metadata": {},
   "outputs": [],
   "source": [
    "calls['month'] = pd.DatetimeIndex(calls['call_date']).month\n",
    "messages['month'] = pd.DatetimeIndex(messages['message_date']).month\n",
    "internet['month'] = pd.DatetimeIndex(internet['session_date']).month"
   ]
  },
  {
   "cell_type": "markdown",
   "metadata": {},
   "source": [
    "Сгруппируем таблицы по user_id и month и для интернета округлим сумму интернет-трафика за месяц в большую сторону до целых гигабайт"
   ]
  },
  {
   "cell_type": "code",
   "execution_count": 42,
   "metadata": {},
   "outputs": [
    {
     "data": {
      "text/html": [
       "<div>\n",
       "<style scoped>\n",
       "    .dataframe tbody tr th:only-of-type {\n",
       "        vertical-align: middle;\n",
       "    }\n",
       "\n",
       "    .dataframe tbody tr th {\n",
       "        vertical-align: top;\n",
       "    }\n",
       "\n",
       "    .dataframe thead th {\n",
       "        text-align: right;\n",
       "    }\n",
       "</style>\n",
       "<table border=\"1\" class=\"dataframe\">\n",
       "  <thead>\n",
       "    <tr style=\"text-align: right;\">\n",
       "      <th></th>\n",
       "      <th>user_id</th>\n",
       "      <th>month</th>\n",
       "      <th>calls</th>\n",
       "      <th>duration</th>\n",
       "    </tr>\n",
       "  </thead>\n",
       "  <tbody>\n",
       "    <tr>\n",
       "      <td>0</td>\n",
       "      <td>1000</td>\n",
       "      <td>5</td>\n",
       "      <td>22</td>\n",
       "      <td>159</td>\n",
       "    </tr>\n",
       "    <tr>\n",
       "      <td>1</td>\n",
       "      <td>1000</td>\n",
       "      <td>6</td>\n",
       "      <td>43</td>\n",
       "      <td>172</td>\n",
       "    </tr>\n",
       "    <tr>\n",
       "      <td>2</td>\n",
       "      <td>1000</td>\n",
       "      <td>7</td>\n",
       "      <td>47</td>\n",
       "      <td>340</td>\n",
       "    </tr>\n",
       "    <tr>\n",
       "      <td>3</td>\n",
       "      <td>1000</td>\n",
       "      <td>8</td>\n",
       "      <td>52</td>\n",
       "      <td>408</td>\n",
       "    </tr>\n",
       "    <tr>\n",
       "      <td>4</td>\n",
       "      <td>1000</td>\n",
       "      <td>9</td>\n",
       "      <td>58</td>\n",
       "      <td>466</td>\n",
       "    </tr>\n",
       "    <tr>\n",
       "      <td>5</td>\n",
       "      <td>1000</td>\n",
       "      <td>10</td>\n",
       "      <td>57</td>\n",
       "      <td>350</td>\n",
       "    </tr>\n",
       "    <tr>\n",
       "      <td>6</td>\n",
       "      <td>1000</td>\n",
       "      <td>11</td>\n",
       "      <td>43</td>\n",
       "      <td>338</td>\n",
       "    </tr>\n",
       "    <tr>\n",
       "      <td>7</td>\n",
       "      <td>1000</td>\n",
       "      <td>12</td>\n",
       "      <td>46</td>\n",
       "      <td>333</td>\n",
       "    </tr>\n",
       "    <tr>\n",
       "      <td>8</td>\n",
       "      <td>1001</td>\n",
       "      <td>11</td>\n",
       "      <td>59</td>\n",
       "      <td>430</td>\n",
       "    </tr>\n",
       "    <tr>\n",
       "      <td>9</td>\n",
       "      <td>1001</td>\n",
       "      <td>12</td>\n",
       "      <td>63</td>\n",
       "      <td>414</td>\n",
       "    </tr>\n",
       "  </tbody>\n",
       "</table>\n",
       "</div>"
      ],
      "text/plain": [
       "   user_id  month  calls  duration\n",
       "0     1000      5     22       159\n",
       "1     1000      6     43       172\n",
       "2     1000      7     47       340\n",
       "3     1000      8     52       408\n",
       "4     1000      9     58       466\n",
       "5     1000     10     57       350\n",
       "6     1000     11     43       338\n",
       "7     1000     12     46       333\n",
       "8     1001     11     59       430\n",
       "9     1001     12     63       414"
      ]
     },
     "metadata": {},
     "output_type": "display_data"
    },
    {
     "data": {
      "text/html": [
       "<div>\n",
       "<style scoped>\n",
       "    .dataframe tbody tr th:only-of-type {\n",
       "        vertical-align: middle;\n",
       "    }\n",
       "\n",
       "    .dataframe tbody tr th {\n",
       "        vertical-align: top;\n",
       "    }\n",
       "\n",
       "    .dataframe thead th {\n",
       "        text-align: right;\n",
       "    }\n",
       "</style>\n",
       "<table border=\"1\" class=\"dataframe\">\n",
       "  <thead>\n",
       "    <tr style=\"text-align: right;\">\n",
       "      <th></th>\n",
       "      <th>user_id</th>\n",
       "      <th>month</th>\n",
       "      <th>messages</th>\n",
       "    </tr>\n",
       "  </thead>\n",
       "  <tbody>\n",
       "    <tr>\n",
       "      <td>0</td>\n",
       "      <td>1000</td>\n",
       "      <td>5</td>\n",
       "      <td>22</td>\n",
       "    </tr>\n",
       "    <tr>\n",
       "      <td>1</td>\n",
       "      <td>1000</td>\n",
       "      <td>6</td>\n",
       "      <td>60</td>\n",
       "    </tr>\n",
       "    <tr>\n",
       "      <td>2</td>\n",
       "      <td>1000</td>\n",
       "      <td>7</td>\n",
       "      <td>75</td>\n",
       "    </tr>\n",
       "    <tr>\n",
       "      <td>3</td>\n",
       "      <td>1000</td>\n",
       "      <td>8</td>\n",
       "      <td>81</td>\n",
       "    </tr>\n",
       "    <tr>\n",
       "      <td>4</td>\n",
       "      <td>1000</td>\n",
       "      <td>9</td>\n",
       "      <td>57</td>\n",
       "    </tr>\n",
       "    <tr>\n",
       "      <td>5</td>\n",
       "      <td>1000</td>\n",
       "      <td>10</td>\n",
       "      <td>73</td>\n",
       "    </tr>\n",
       "    <tr>\n",
       "      <td>6</td>\n",
       "      <td>1000</td>\n",
       "      <td>11</td>\n",
       "      <td>58</td>\n",
       "    </tr>\n",
       "    <tr>\n",
       "      <td>7</td>\n",
       "      <td>1000</td>\n",
       "      <td>12</td>\n",
       "      <td>70</td>\n",
       "    </tr>\n",
       "    <tr>\n",
       "      <td>8</td>\n",
       "      <td>1002</td>\n",
       "      <td>6</td>\n",
       "      <td>4</td>\n",
       "    </tr>\n",
       "    <tr>\n",
       "      <td>9</td>\n",
       "      <td>1002</td>\n",
       "      <td>7</td>\n",
       "      <td>11</td>\n",
       "    </tr>\n",
       "  </tbody>\n",
       "</table>\n",
       "</div>"
      ],
      "text/plain": [
       "   user_id  month  messages\n",
       "0     1000      5        22\n",
       "1     1000      6        60\n",
       "2     1000      7        75\n",
       "3     1000      8        81\n",
       "4     1000      9        57\n",
       "5     1000     10        73\n",
       "6     1000     11        58\n",
       "7     1000     12        70\n",
       "8     1002      6         4\n",
       "9     1002      7        11"
      ]
     },
     "metadata": {},
     "output_type": "display_data"
    },
    {
     "data": {
      "text/html": [
       "<div>\n",
       "<style scoped>\n",
       "    .dataframe tbody tr th:only-of-type {\n",
       "        vertical-align: middle;\n",
       "    }\n",
       "\n",
       "    .dataframe tbody tr th {\n",
       "        vertical-align: top;\n",
       "    }\n",
       "\n",
       "    .dataframe thead th {\n",
       "        text-align: right;\n",
       "    }\n",
       "</style>\n",
       "<table border=\"1\" class=\"dataframe\">\n",
       "  <thead>\n",
       "    <tr style=\"text-align: right;\">\n",
       "      <th></th>\n",
       "      <th>user_id</th>\n",
       "      <th>month</th>\n",
       "      <th>mb</th>\n",
       "    </tr>\n",
       "  </thead>\n",
       "  <tbody>\n",
       "    <tr>\n",
       "      <td>0</td>\n",
       "      <td>1000</td>\n",
       "      <td>5</td>\n",
       "      <td>3072</td>\n",
       "    </tr>\n",
       "    <tr>\n",
       "      <td>1</td>\n",
       "      <td>1000</td>\n",
       "      <td>6</td>\n",
       "      <td>23552</td>\n",
       "    </tr>\n",
       "    <tr>\n",
       "      <td>2</td>\n",
       "      <td>1000</td>\n",
       "      <td>7</td>\n",
       "      <td>14336</td>\n",
       "    </tr>\n",
       "    <tr>\n",
       "      <td>3</td>\n",
       "      <td>1000</td>\n",
       "      <td>8</td>\n",
       "      <td>14336</td>\n",
       "    </tr>\n",
       "    <tr>\n",
       "      <td>4</td>\n",
       "      <td>1000</td>\n",
       "      <td>9</td>\n",
       "      <td>15360</td>\n",
       "    </tr>\n",
       "    <tr>\n",
       "      <td>5</td>\n",
       "      <td>1000</td>\n",
       "      <td>10</td>\n",
       "      <td>15360</td>\n",
       "    </tr>\n",
       "    <tr>\n",
       "      <td>6</td>\n",
       "      <td>1000</td>\n",
       "      <td>11</td>\n",
       "      <td>15360</td>\n",
       "    </tr>\n",
       "    <tr>\n",
       "      <td>7</td>\n",
       "      <td>1000</td>\n",
       "      <td>12</td>\n",
       "      <td>10240</td>\n",
       "    </tr>\n",
       "    <tr>\n",
       "      <td>8</td>\n",
       "      <td>1001</td>\n",
       "      <td>11</td>\n",
       "      <td>18432</td>\n",
       "    </tr>\n",
       "    <tr>\n",
       "      <td>9</td>\n",
       "      <td>1001</td>\n",
       "      <td>12</td>\n",
       "      <td>14336</td>\n",
       "    </tr>\n",
       "  </tbody>\n",
       "</table>\n",
       "</div>"
      ],
      "text/plain": [
       "   user_id  month     mb\n",
       "0     1000      5   3072\n",
       "1     1000      6  23552\n",
       "2     1000      7  14336\n",
       "3     1000      8  14336\n",
       "4     1000      9  15360\n",
       "5     1000     10  15360\n",
       "6     1000     11  15360\n",
       "7     1000     12  10240\n",
       "8     1001     11  18432\n",
       "9     1001     12  14336"
      ]
     },
     "metadata": {},
     "output_type": "display_data"
    }
   ],
   "source": [
    "grouped_calls = calls.groupby(['user_id', 'month'])['duration'].agg(['count','sum']).reset_index()\n",
    "grouped_calls.columns = ['user_id', 'month', 'calls', 'duration']\n",
    "\n",
    "grouped_messages = messages.groupby(['user_id', 'month'])['id'].count().reset_index()\n",
    "grouped_messages.columns = ['user_id', 'month', 'messages']\n",
    "\n",
    "grouped_internet = internet.groupby(['user_id', 'month'])['mb_used'].sum().reset_index()\n",
    "grouped_internet.columns = ['user_id', 'month', 'mb']\n",
    "grouped_internet['mb'] = (grouped_internet['mb']/1024).apply(math.ceil).astype(int)\n",
    "grouped_internet['mb'] = grouped_internet['mb']*1024\n",
    "\n",
    "display(grouped_calls.head(10))\n",
    "display(grouped_messages.head(10))\n",
    "display(grouped_internet.head(10))"
   ]
  },
  {
   "cell_type": "markdown",
   "metadata": {},
   "source": [
    "Создадим из трех таблиц одну с помощью метода merge"
   ]
  },
  {
   "cell_type": "code",
   "execution_count": 43,
   "metadata": {},
   "outputs": [
    {
     "data": {
      "text/html": [
       "<div>\n",
       "<style scoped>\n",
       "    .dataframe tbody tr th:only-of-type {\n",
       "        vertical-align: middle;\n",
       "    }\n",
       "\n",
       "    .dataframe tbody tr th {\n",
       "        vertical-align: top;\n",
       "    }\n",
       "\n",
       "    .dataframe thead th {\n",
       "        text-align: right;\n",
       "    }\n",
       "</style>\n",
       "<table border=\"1\" class=\"dataframe\">\n",
       "  <thead>\n",
       "    <tr style=\"text-align: right;\">\n",
       "      <th></th>\n",
       "      <th>user_id</th>\n",
       "      <th>month</th>\n",
       "      <th>calls</th>\n",
       "      <th>duration</th>\n",
       "      <th>messages</th>\n",
       "      <th>mb</th>\n",
       "      <th>city</th>\n",
       "      <th>tariff</th>\n",
       "    </tr>\n",
       "  </thead>\n",
       "  <tbody>\n",
       "    <tr>\n",
       "      <td>0</td>\n",
       "      <td>1000</td>\n",
       "      <td>5.0</td>\n",
       "      <td>22.0</td>\n",
       "      <td>159.0</td>\n",
       "      <td>22.0</td>\n",
       "      <td>3072.0</td>\n",
       "      <td>Краснодар</td>\n",
       "      <td>ultra</td>\n",
       "    </tr>\n",
       "    <tr>\n",
       "      <td>1</td>\n",
       "      <td>1000</td>\n",
       "      <td>6.0</td>\n",
       "      <td>43.0</td>\n",
       "      <td>172.0</td>\n",
       "      <td>60.0</td>\n",
       "      <td>23552.0</td>\n",
       "      <td>Краснодар</td>\n",
       "      <td>ultra</td>\n",
       "    </tr>\n",
       "    <tr>\n",
       "      <td>2</td>\n",
       "      <td>1000</td>\n",
       "      <td>7.0</td>\n",
       "      <td>47.0</td>\n",
       "      <td>340.0</td>\n",
       "      <td>75.0</td>\n",
       "      <td>14336.0</td>\n",
       "      <td>Краснодар</td>\n",
       "      <td>ultra</td>\n",
       "    </tr>\n",
       "    <tr>\n",
       "      <td>3</td>\n",
       "      <td>1000</td>\n",
       "      <td>8.0</td>\n",
       "      <td>52.0</td>\n",
       "      <td>408.0</td>\n",
       "      <td>81.0</td>\n",
       "      <td>14336.0</td>\n",
       "      <td>Краснодар</td>\n",
       "      <td>ultra</td>\n",
       "    </tr>\n",
       "    <tr>\n",
       "      <td>4</td>\n",
       "      <td>1000</td>\n",
       "      <td>9.0</td>\n",
       "      <td>58.0</td>\n",
       "      <td>466.0</td>\n",
       "      <td>57.0</td>\n",
       "      <td>15360.0</td>\n",
       "      <td>Краснодар</td>\n",
       "      <td>ultra</td>\n",
       "    </tr>\n",
       "    <tr>\n",
       "      <td>5</td>\n",
       "      <td>1000</td>\n",
       "      <td>10.0</td>\n",
       "      <td>57.0</td>\n",
       "      <td>350.0</td>\n",
       "      <td>73.0</td>\n",
       "      <td>15360.0</td>\n",
       "      <td>Краснодар</td>\n",
       "      <td>ultra</td>\n",
       "    </tr>\n",
       "    <tr>\n",
       "      <td>6</td>\n",
       "      <td>1000</td>\n",
       "      <td>11.0</td>\n",
       "      <td>43.0</td>\n",
       "      <td>338.0</td>\n",
       "      <td>58.0</td>\n",
       "      <td>15360.0</td>\n",
       "      <td>Краснодар</td>\n",
       "      <td>ultra</td>\n",
       "    </tr>\n",
       "    <tr>\n",
       "      <td>7</td>\n",
       "      <td>1000</td>\n",
       "      <td>12.0</td>\n",
       "      <td>46.0</td>\n",
       "      <td>333.0</td>\n",
       "      <td>70.0</td>\n",
       "      <td>10240.0</td>\n",
       "      <td>Краснодар</td>\n",
       "      <td>ultra</td>\n",
       "    </tr>\n",
       "    <tr>\n",
       "      <td>8</td>\n",
       "      <td>1001</td>\n",
       "      <td>11.0</td>\n",
       "      <td>59.0</td>\n",
       "      <td>430.0</td>\n",
       "      <td>NaN</td>\n",
       "      <td>18432.0</td>\n",
       "      <td>Москва</td>\n",
       "      <td>smart</td>\n",
       "    </tr>\n",
       "    <tr>\n",
       "      <td>9</td>\n",
       "      <td>1001</td>\n",
       "      <td>12.0</td>\n",
       "      <td>63.0</td>\n",
       "      <td>414.0</td>\n",
       "      <td>NaN</td>\n",
       "      <td>14336.0</td>\n",
       "      <td>Москва</td>\n",
       "      <td>smart</td>\n",
       "    </tr>\n",
       "  </tbody>\n",
       "</table>\n",
       "</div>"
      ],
      "text/plain": [
       "   user_id  month  calls  duration  messages       mb       city tariff\n",
       "0     1000    5.0   22.0     159.0      22.0   3072.0  Краснодар  ultra\n",
       "1     1000    6.0   43.0     172.0      60.0  23552.0  Краснодар  ultra\n",
       "2     1000    7.0   47.0     340.0      75.0  14336.0  Краснодар  ultra\n",
       "3     1000    8.0   52.0     408.0      81.0  14336.0  Краснодар  ultra\n",
       "4     1000    9.0   58.0     466.0      57.0  15360.0  Краснодар  ultra\n",
       "5     1000   10.0   57.0     350.0      73.0  15360.0  Краснодар  ultra\n",
       "6     1000   11.0   43.0     338.0      58.0  15360.0  Краснодар  ultra\n",
       "7     1000   12.0   46.0     333.0      70.0  10240.0  Краснодар  ultra\n",
       "8     1001   11.0   59.0     430.0       NaN  18432.0     Москва  smart\n",
       "9     1001   12.0   63.0     414.0       NaN  14336.0     Москва  smart"
      ]
     },
     "execution_count": 43,
     "metadata": {},
     "output_type": "execute_result"
    }
   ],
   "source": [
    "abonents_ex = users[['user_id', 'city', 'tariff']]\n",
    "abonents = pd.merge(grouped_calls, grouped_messages, how='outer', on=['user_id', 'month']) # , on=['user_id', 'month']   inner\n",
    "abonents = pd.merge(abonents, grouped_internet, how='outer', on=['user_id', 'month']) # , on=['user_id', 'month']\n",
    "abonents = pd.merge(abonents, abonents_ex, how='outer', on=['user_id'])\n",
    "abonents.head(10)"
   ]
  },
  {
   "cell_type": "code",
   "execution_count": 44,
   "metadata": {},
   "outputs": [
    {
     "data": {
      "text/plain": [
       "500"
      ]
     },
     "execution_count": 44,
     "metadata": {},
     "output_type": "execute_result"
    }
   ],
   "source": [
    "len(abonents['user_id'].unique())"
   ]
  },
  {
   "cell_type": "markdown",
   "metadata": {},
   "source": [
    "Всего 500 абонентов, все на месте"
   ]
  },
  {
   "cell_type": "markdown",
   "metadata": {},
   "source": [
    "Пропуски в таблице"
   ]
  },
  {
   "cell_type": "code",
   "execution_count": 45,
   "metadata": {},
   "outputs": [
    {
     "data": {
      "text/plain": [
       "user_id       0\n",
       "month         2\n",
       "calls        42\n",
       "duration     42\n",
       "messages    499\n",
       "mb           13\n",
       "city          0\n",
       "tariff        0\n",
       "dtype: int64"
      ]
     },
     "execution_count": 45,
     "metadata": {},
     "output_type": "execute_result"
    }
   ],
   "source": [
    "abonents.isna().sum()"
   ]
  },
  {
   "cell_type": "markdown",
   "metadata": {},
   "source": [
    "Рассмотрим пропуски в столбце `month` поподробнее"
   ]
  },
  {
   "cell_type": "code",
   "execution_count": 46,
   "metadata": {},
   "outputs": [
    {
     "data": {
      "text/html": [
       "<div>\n",
       "<style scoped>\n",
       "    .dataframe tbody tr th:only-of-type {\n",
       "        vertical-align: middle;\n",
       "    }\n",
       "\n",
       "    .dataframe tbody tr th {\n",
       "        vertical-align: top;\n",
       "    }\n",
       "\n",
       "    .dataframe thead th {\n",
       "        text-align: right;\n",
       "    }\n",
       "</style>\n",
       "<table border=\"1\" class=\"dataframe\">\n",
       "  <thead>\n",
       "    <tr style=\"text-align: right;\">\n",
       "      <th></th>\n",
       "      <th>user_id</th>\n",
       "      <th>month</th>\n",
       "      <th>calls</th>\n",
       "      <th>duration</th>\n",
       "      <th>messages</th>\n",
       "      <th>mb</th>\n",
       "      <th>city</th>\n",
       "      <th>tariff</th>\n",
       "    </tr>\n",
       "  </thead>\n",
       "  <tbody>\n",
       "    <tr>\n",
       "      <td>3214</td>\n",
       "      <td>1128</td>\n",
       "      <td>NaN</td>\n",
       "      <td>NaN</td>\n",
       "      <td>NaN</td>\n",
       "      <td>NaN</td>\n",
       "      <td>NaN</td>\n",
       "      <td>Волжский</td>\n",
       "      <td>ultra</td>\n",
       "    </tr>\n",
       "    <tr>\n",
       "      <td>3215</td>\n",
       "      <td>1371</td>\n",
       "      <td>NaN</td>\n",
       "      <td>NaN</td>\n",
       "      <td>NaN</td>\n",
       "      <td>NaN</td>\n",
       "      <td>NaN</td>\n",
       "      <td>Омск</td>\n",
       "      <td>smart</td>\n",
       "    </tr>\n",
       "  </tbody>\n",
       "</table>\n",
       "</div>"
      ],
      "text/plain": [
       "      user_id  month  calls  duration  messages  mb      city tariff\n",
       "3214     1128    NaN    NaN       NaN       NaN NaN  Волжский  ultra\n",
       "3215     1371    NaN    NaN       NaN       NaN NaN      Омск  smart"
      ]
     },
     "execution_count": 46,
     "metadata": {},
     "output_type": "execute_result"
    }
   ],
   "source": [
    "abonents[abonents['month'].isna()]"
   ]
  },
  {
   "cell_type": "code",
   "execution_count": 47,
   "metadata": {},
   "outputs": [
    {
     "data": {
      "text/html": [
       "<div>\n",
       "<style scoped>\n",
       "    .dataframe tbody tr th:only-of-type {\n",
       "        vertical-align: middle;\n",
       "    }\n",
       "\n",
       "    .dataframe tbody tr th {\n",
       "        vertical-align: top;\n",
       "    }\n",
       "\n",
       "    .dataframe thead th {\n",
       "        text-align: right;\n",
       "    }\n",
       "</style>\n",
       "<table border=\"1\" class=\"dataframe\">\n",
       "  <thead>\n",
       "    <tr style=\"text-align: right;\">\n",
       "      <th></th>\n",
       "      <th>user_id</th>\n",
       "      <th>age</th>\n",
       "      <th>churn_date</th>\n",
       "      <th>city</th>\n",
       "      <th>first_name</th>\n",
       "      <th>last_name</th>\n",
       "      <th>reg_date</th>\n",
       "      <th>tariff</th>\n",
       "    </tr>\n",
       "  </thead>\n",
       "  <tbody>\n",
       "    <tr>\n",
       "      <td>128</td>\n",
       "      <td>1128</td>\n",
       "      <td>51</td>\n",
       "      <td>2018-12-23</td>\n",
       "      <td>Волжский</td>\n",
       "      <td>Ксения</td>\n",
       "      <td>Агаева</td>\n",
       "      <td>2018-12-15</td>\n",
       "      <td>ultra</td>\n",
       "    </tr>\n",
       "    <tr>\n",
       "      <td>371</td>\n",
       "      <td>1371</td>\n",
       "      <td>50</td>\n",
       "      <td>2018-12-30</td>\n",
       "      <td>Омск</td>\n",
       "      <td>Ириней</td>\n",
       "      <td>Трофимов</td>\n",
       "      <td>2018-12-25</td>\n",
       "      <td>smart</td>\n",
       "    </tr>\n",
       "  </tbody>\n",
       "</table>\n",
       "</div>"
      ],
      "text/plain": [
       "     user_id  age churn_date      city first_name last_name   reg_date tariff\n",
       "128     1128   51 2018-12-23  Волжский     Ксения    Агаева 2018-12-15  ultra\n",
       "371     1371   50 2018-12-30      Омск     Ириней  Трофимов 2018-12-25  smart"
      ]
     },
     "execution_count": 47,
     "metadata": {},
     "output_type": "execute_result"
    }
   ],
   "source": [
    "users[(users['user_id'] == 1128) | (users['user_id'] == 1371)]"
   ]
  },
  {
   "cell_type": "markdown",
   "metadata": {},
   "source": [
    "Эти абоненты подключились в декабре и они не писали СМС, не звонили и не пользовались интернетом. Будем считать при этом, что раз они подключились, то абонентскую плату за тариф они все равно заплатили."
   ]
  },
  {
   "cell_type": "markdown",
   "metadata": {},
   "source": [
    "Пропуски во всех других столбцах можно также заполнить нулями, так как пропуски возникли там, где не было звонков, СМС и использование интернет-трафика"
   ]
  },
  {
   "cell_type": "code",
   "execution_count": 48,
   "metadata": {},
   "outputs": [
    {
     "data": {
      "text/plain": [
       "user_id     0\n",
       "month       0\n",
       "calls       0\n",
       "duration    0\n",
       "messages    0\n",
       "mb          0\n",
       "city        0\n",
       "tariff      0\n",
       "dtype: int64"
      ]
     },
     "execution_count": 48,
     "metadata": {},
     "output_type": "execute_result"
    }
   ],
   "source": [
    "abonents[['calls', 'duration', 'messages', 'mb']] = abonents[['calls', 'duration', 'messages', 'mb']].fillna(0)\n",
    "abonents['month'] = abonents['month'].fillna(12)\n",
    "abonents.isna().sum()"
   ]
  },
  {
   "cell_type": "markdown",
   "metadata": {},
   "source": [
    "Теперь создадим столбец `gain`, в который запишем помесячную выручку с каждого пользователя. Для этого создадим функцию, которая будет производить расчет"
   ]
  },
  {
   "cell_type": "code",
   "execution_count": 49,
   "metadata": {},
   "outputs": [],
   "source": [
    "def income_month(row):\n",
    "    \"\"\"\n",
    "    Вычисление помесячного заработка в зависимости от тарифа\n",
    "    \"\"\"\n",
    "    if row['tariff'] == 'smart':\n",
    "        \n",
    "        gain_from_calls = (row['duration'] - tariffs.loc[0,'minutes_included']) * tariffs.loc[0,'rub_per_minute']\n",
    "        if gain_from_calls < 0 :\n",
    "            gain_from_calls = 0\n",
    "        \n",
    "        gain_from_message = (row['messages'] - tariffs.loc[0,'messages_included']) * tariffs.loc[0,'rub_per_message']\n",
    "        if gain_from_message < 0 :\n",
    "            gain_from_message = 0\n",
    "       \n",
    "        gain_from_internet  = math.ceil((row['mb'] - tariffs.loc[0,'mb_per_month_included'])/1024) * tariffs.loc[0,'rub_per_gb'] \n",
    "        if gain_from_internet < 0 :\n",
    "            gain_from_internet = 0\n",
    "             \n",
    "        gain = gain_from_calls + gain_from_message + gain_from_internet + tariffs.loc[0,'rub_monthly_fee']\n",
    "        \n",
    "    elif row['tariff'] == 'ultra':\n",
    "        \n",
    "        gain_from_calls = (row['duration'] - tariffs.loc[1,'minutes_included']) * tariffs.loc[1,'rub_per_minute']\n",
    "        if gain_from_calls < 0 :\n",
    "            gain_from_calls = 0\n",
    "        \n",
    "        gain_from_message = (row['messages'] - tariffs.loc[1,'messages_included']) * tariffs.loc[1,'rub_per_message']\n",
    "        if gain_from_message < 0 :\n",
    "            gain_from_message = 0\n",
    "       \n",
    "        gain_from_internet  = math.ceil((row['mb'] - tariffs.loc[1,'mb_per_month_included'])/1024) * tariffs.loc[1,'rub_per_gb'] \n",
    "        if gain_from_internet < 0 :\n",
    "            gain_from_internet = 0\n",
    "             \n",
    "        gain = gain_from_calls + gain_from_message + gain_from_internet + tariffs.loc[1,'rub_monthly_fee']\n",
    "    return gain"
   ]
  },
  {
   "cell_type": "code",
   "execution_count": 50,
   "metadata": {},
   "outputs": [],
   "source": [
    "abonents['gain'] = abonents.apply(income_month, axis=1)"
   ]
  },
  {
   "cell_type": "code",
   "execution_count": 51,
   "metadata": {},
   "outputs": [
    {
     "data": {
      "text/html": [
       "<div>\n",
       "<style scoped>\n",
       "    .dataframe tbody tr th:only-of-type {\n",
       "        vertical-align: middle;\n",
       "    }\n",
       "\n",
       "    .dataframe tbody tr th {\n",
       "        vertical-align: top;\n",
       "    }\n",
       "\n",
       "    .dataframe thead th {\n",
       "        text-align: right;\n",
       "    }\n",
       "</style>\n",
       "<table border=\"1\" class=\"dataframe\">\n",
       "  <thead>\n",
       "    <tr style=\"text-align: right;\">\n",
       "      <th></th>\n",
       "      <th>user_id</th>\n",
       "      <th>month</th>\n",
       "      <th>calls</th>\n",
       "      <th>duration</th>\n",
       "      <th>messages</th>\n",
       "      <th>mb</th>\n",
       "      <th>city</th>\n",
       "      <th>tariff</th>\n",
       "      <th>gain</th>\n",
       "    </tr>\n",
       "  </thead>\n",
       "  <tbody>\n",
       "    <tr>\n",
       "      <td>0</td>\n",
       "      <td>1000</td>\n",
       "      <td>5.0</td>\n",
       "      <td>22.0</td>\n",
       "      <td>159.0</td>\n",
       "      <td>22.0</td>\n",
       "      <td>3072.0</td>\n",
       "      <td>Краснодар</td>\n",
       "      <td>ultra</td>\n",
       "      <td>1950.0</td>\n",
       "    </tr>\n",
       "    <tr>\n",
       "      <td>1</td>\n",
       "      <td>1000</td>\n",
       "      <td>6.0</td>\n",
       "      <td>43.0</td>\n",
       "      <td>172.0</td>\n",
       "      <td>60.0</td>\n",
       "      <td>23552.0</td>\n",
       "      <td>Краснодар</td>\n",
       "      <td>ultra</td>\n",
       "      <td>1950.0</td>\n",
       "    </tr>\n",
       "    <tr>\n",
       "      <td>2</td>\n",
       "      <td>1000</td>\n",
       "      <td>7.0</td>\n",
       "      <td>47.0</td>\n",
       "      <td>340.0</td>\n",
       "      <td>75.0</td>\n",
       "      <td>14336.0</td>\n",
       "      <td>Краснодар</td>\n",
       "      <td>ultra</td>\n",
       "      <td>1950.0</td>\n",
       "    </tr>\n",
       "    <tr>\n",
       "      <td>3</td>\n",
       "      <td>1000</td>\n",
       "      <td>8.0</td>\n",
       "      <td>52.0</td>\n",
       "      <td>408.0</td>\n",
       "      <td>81.0</td>\n",
       "      <td>14336.0</td>\n",
       "      <td>Краснодар</td>\n",
       "      <td>ultra</td>\n",
       "      <td>1950.0</td>\n",
       "    </tr>\n",
       "    <tr>\n",
       "      <td>4</td>\n",
       "      <td>1000</td>\n",
       "      <td>9.0</td>\n",
       "      <td>58.0</td>\n",
       "      <td>466.0</td>\n",
       "      <td>57.0</td>\n",
       "      <td>15360.0</td>\n",
       "      <td>Краснодар</td>\n",
       "      <td>ultra</td>\n",
       "      <td>1950.0</td>\n",
       "    </tr>\n",
       "    <tr>\n",
       "      <td>5</td>\n",
       "      <td>1000</td>\n",
       "      <td>10.0</td>\n",
       "      <td>57.0</td>\n",
       "      <td>350.0</td>\n",
       "      <td>73.0</td>\n",
       "      <td>15360.0</td>\n",
       "      <td>Краснодар</td>\n",
       "      <td>ultra</td>\n",
       "      <td>1950.0</td>\n",
       "    </tr>\n",
       "    <tr>\n",
       "      <td>6</td>\n",
       "      <td>1000</td>\n",
       "      <td>11.0</td>\n",
       "      <td>43.0</td>\n",
       "      <td>338.0</td>\n",
       "      <td>58.0</td>\n",
       "      <td>15360.0</td>\n",
       "      <td>Краснодар</td>\n",
       "      <td>ultra</td>\n",
       "      <td>1950.0</td>\n",
       "    </tr>\n",
       "    <tr>\n",
       "      <td>7</td>\n",
       "      <td>1000</td>\n",
       "      <td>12.0</td>\n",
       "      <td>46.0</td>\n",
       "      <td>333.0</td>\n",
       "      <td>70.0</td>\n",
       "      <td>10240.0</td>\n",
       "      <td>Краснодар</td>\n",
       "      <td>ultra</td>\n",
       "      <td>1950.0</td>\n",
       "    </tr>\n",
       "    <tr>\n",
       "      <td>8</td>\n",
       "      <td>1001</td>\n",
       "      <td>11.0</td>\n",
       "      <td>59.0</td>\n",
       "      <td>430.0</td>\n",
       "      <td>0.0</td>\n",
       "      <td>18432.0</td>\n",
       "      <td>Москва</td>\n",
       "      <td>smart</td>\n",
       "      <td>1150.0</td>\n",
       "    </tr>\n",
       "    <tr>\n",
       "      <td>9</td>\n",
       "      <td>1001</td>\n",
       "      <td>12.0</td>\n",
       "      <td>63.0</td>\n",
       "      <td>414.0</td>\n",
       "      <td>0.0</td>\n",
       "      <td>14336.0</td>\n",
       "      <td>Москва</td>\n",
       "      <td>smart</td>\n",
       "      <td>550.0</td>\n",
       "    </tr>\n",
       "  </tbody>\n",
       "</table>\n",
       "</div>"
      ],
      "text/plain": [
       "   user_id  month  calls  duration  messages       mb       city tariff  \\\n",
       "0     1000    5.0   22.0     159.0      22.0   3072.0  Краснодар  ultra   \n",
       "1     1000    6.0   43.0     172.0      60.0  23552.0  Краснодар  ultra   \n",
       "2     1000    7.0   47.0     340.0      75.0  14336.0  Краснодар  ultra   \n",
       "3     1000    8.0   52.0     408.0      81.0  14336.0  Краснодар  ultra   \n",
       "4     1000    9.0   58.0     466.0      57.0  15360.0  Краснодар  ultra   \n",
       "5     1000   10.0   57.0     350.0      73.0  15360.0  Краснодар  ultra   \n",
       "6     1000   11.0   43.0     338.0      58.0  15360.0  Краснодар  ultra   \n",
       "7     1000   12.0   46.0     333.0      70.0  10240.0  Краснодар  ultra   \n",
       "8     1001   11.0   59.0     430.0       0.0  18432.0     Москва  smart   \n",
       "9     1001   12.0   63.0     414.0       0.0  14336.0     Москва  smart   \n",
       "\n",
       "     gain  \n",
       "0  1950.0  \n",
       "1  1950.0  \n",
       "2  1950.0  \n",
       "3  1950.0  \n",
       "4  1950.0  \n",
       "5  1950.0  \n",
       "6  1950.0  \n",
       "7  1950.0  \n",
       "8  1150.0  \n",
       "9   550.0  "
      ]
     },
     "execution_count": 51,
     "metadata": {},
     "output_type": "execute_result"
    }
   ],
   "source": [
    "abonents.head(10)"
   ]
  },
  {
   "cell_type": "markdown",
   "metadata": {},
   "source": [
    "**Вывод**\n",
    "\n",
    "Для каждого пользователя определили количество использованных минут Мб и сообщений по месяцам и определили помесячную выручку с каждого пользователя. Подготовлены все данные для анализа"
   ]
  },
  {
   "cell_type": "markdown",
   "metadata": {},
   "source": [
    "## Шаг 4. Анализ данных"
   ]
  },
  {
   "cell_type": "markdown",
   "metadata": {},
   "source": [
    "Определим общие показатели пользователей по месяцам для каждого тарифа"
   ]
  },
  {
   "cell_type": "code",
   "execution_count": 52,
   "metadata": {},
   "outputs": [
    {
     "data": {
      "text/html": [
       "<div>\n",
       "<style scoped>\n",
       "    .dataframe tbody tr th:only-of-type {\n",
       "        vertical-align: middle;\n",
       "    }\n",
       "\n",
       "    .dataframe tbody tr th {\n",
       "        vertical-align: top;\n",
       "    }\n",
       "\n",
       "    .dataframe thead th {\n",
       "        text-align: right;\n",
       "    }\n",
       "</style>\n",
       "<table border=\"1\" class=\"dataframe\">\n",
       "  <thead>\n",
       "    <tr style=\"text-align: right;\">\n",
       "      <th></th>\n",
       "      <th>tariff</th>\n",
       "      <th>month</th>\n",
       "      <th>duration</th>\n",
       "      <th>messages</th>\n",
       "      <th>mb</th>\n",
       "      <th>gain</th>\n",
       "    </tr>\n",
       "  </thead>\n",
       "  <tbody>\n",
       "    <tr>\n",
       "      <td>0</td>\n",
       "      <td>smart</td>\n",
       "      <td>1.0</td>\n",
       "      <td>6931.0</td>\n",
       "      <td>620.0</td>\n",
       "      <td>304128.0</td>\n",
       "      <td>24525.0</td>\n",
       "    </tr>\n",
       "    <tr>\n",
       "      <td>1</td>\n",
       "      <td>smart</td>\n",
       "      <td>2.0</td>\n",
       "      <td>17324.0</td>\n",
       "      <td>1397.0</td>\n",
       "      <td>703488.0</td>\n",
       "      <td>48001.0</td>\n",
       "    </tr>\n",
       "    <tr>\n",
       "      <td>2</td>\n",
       "      <td>smart</td>\n",
       "      <td>3.0</td>\n",
       "      <td>30034.0</td>\n",
       "      <td>2453.0</td>\n",
       "      <td>1201152.0</td>\n",
       "      <td>89676.0</td>\n",
       "    </tr>\n",
       "    <tr>\n",
       "      <td>3</td>\n",
       "      <td>smart</td>\n",
       "      <td>4.0</td>\n",
       "      <td>41119.0</td>\n",
       "      <td>3443.0</td>\n",
       "      <td>1562624.0</td>\n",
       "      <td>107866.0</td>\n",
       "    </tr>\n",
       "    <tr>\n",
       "      <td>4</td>\n",
       "      <td>smart</td>\n",
       "      <td>5.0</td>\n",
       "      <td>54618.0</td>\n",
       "      <td>4762.0</td>\n",
       "      <td>2296832.0</td>\n",
       "      <td>168849.0</td>\n",
       "    </tr>\n",
       "    <tr>\n",
       "      <td>5</td>\n",
       "      <td>smart</td>\n",
       "      <td>6.0</td>\n",
       "      <td>64885.0</td>\n",
       "      <td>5478.0</td>\n",
       "      <td>2678784.0</td>\n",
       "      <td>197459.0</td>\n",
       "    </tr>\n",
       "    <tr>\n",
       "      <td>6</td>\n",
       "      <td>smart</td>\n",
       "      <td>7.0</td>\n",
       "      <td>82079.0</td>\n",
       "      <td>6784.0</td>\n",
       "      <td>3267584.0</td>\n",
       "      <td>246014.0</td>\n",
       "    </tr>\n",
       "    <tr>\n",
       "      <td>7</td>\n",
       "      <td>smart</td>\n",
       "      <td>8.0</td>\n",
       "      <td>99045.0</td>\n",
       "      <td>7905.0</td>\n",
       "      <td>4027392.0</td>\n",
       "      <td>310340.0</td>\n",
       "    </tr>\n",
       "    <tr>\n",
       "      <td>8</td>\n",
       "      <td>smart</td>\n",
       "      <td>9.0</td>\n",
       "      <td>111439.0</td>\n",
       "      <td>8746.0</td>\n",
       "      <td>4364288.0</td>\n",
       "      <td>324986.0</td>\n",
       "    </tr>\n",
       "    <tr>\n",
       "      <td>9</td>\n",
       "      <td>smart</td>\n",
       "      <td>10.0</td>\n",
       "      <td>125284.0</td>\n",
       "      <td>9927.0</td>\n",
       "      <td>5082112.0</td>\n",
       "      <td>401267.0</td>\n",
       "    </tr>\n",
       "  </tbody>\n",
       "</table>\n",
       "</div>"
      ],
      "text/plain": [
       "  tariff  month  duration  messages         mb      gain\n",
       "0  smart    1.0    6931.0     620.0   304128.0   24525.0\n",
       "1  smart    2.0   17324.0    1397.0   703488.0   48001.0\n",
       "2  smart    3.0   30034.0    2453.0  1201152.0   89676.0\n",
       "3  smart    4.0   41119.0    3443.0  1562624.0  107866.0\n",
       "4  smart    5.0   54618.0    4762.0  2296832.0  168849.0\n",
       "5  smart    6.0   64885.0    5478.0  2678784.0  197459.0\n",
       "6  smart    7.0   82079.0    6784.0  3267584.0  246014.0\n",
       "7  smart    8.0   99045.0    7905.0  4027392.0  310340.0\n",
       "8  smart    9.0  111439.0    8746.0  4364288.0  324986.0\n",
       "9  smart   10.0  125284.0    9927.0  5082112.0  401267.0"
      ]
     },
     "execution_count": 52,
     "metadata": {},
     "output_type": "execute_result"
    }
   ],
   "source": [
    "abonent_tarriff = abonents.groupby(['tariff', 'month'])['duration', 'messages', 'mb', 'gain'].sum().reset_index()\n",
    "abonent_tarriff.head(10)"
   ]
  },
  {
   "cell_type": "markdown",
   "metadata": {},
   "source": [
    "Разобьем таблицу на две для разных тарифов для удобства построения графиков"
   ]
  },
  {
   "cell_type": "code",
   "execution_count": 53,
   "metadata": {},
   "outputs": [],
   "source": [
    "smart_clients = abonent_tarriff[abonent_tarriff['tariff']==\"smart\"]\n",
    "ultra_clients = abonent_tarriff[abonent_tarriff['tariff']==\"ultra\"].reset_index(drop=True)"
   ]
  },
  {
   "cell_type": "markdown",
   "metadata": {},
   "source": [
    "Число пользователей разных тарифов"
   ]
  },
  {
   "cell_type": "code",
   "execution_count": 54,
   "metadata": {},
   "outputs": [
    {
     "data": {
      "text/plain": [
       "smart    351\n",
       "ultra    149\n",
       "Name: tariff, dtype: int64"
      ]
     },
     "execution_count": 54,
     "metadata": {},
     "output_type": "execute_result"
    }
   ],
   "source": [
    "users['tariff'].value_counts()"
   ]
  },
  {
   "cell_type": "markdown",
   "metadata": {},
   "source": [
    "Построим столбчатые диаграммы для длительности разговоров, количества сообщений, МБ и выручки за месяц."
   ]
  },
  {
   "cell_type": "code",
   "execution_count": 55,
   "metadata": {},
   "outputs": [
    {
     "data": {
      "image/png": "[encoded data removed]",
      "text/plain": [
       "<Figure size 864x360 with 1 Axes>"
      ]
     },
     "metadata": {
      "needs_background": "light"
     },
     "output_type": "display_data"
    },
    {
     "data": {
      "image/png": "[encoded data removed]",
      "text/plain": [
       "<Figure size 864x360 with 1 Axes>"
      ]
     },
     "metadata": {
      "needs_background": "light"
     },
     "output_type": "display_data"
    },
    {
     "data": {
      "image/png": "[encoded data removed]",
      "text/plain": [
       "<Figure size 864x360 with 1 Axes>"
      ]
     },
     "metadata": {
      "needs_background": "light"
     },
     "output_type": "display_data"
    },
    {
     "data": {
      "image/png": "[encoded data removed]",
      "text/plain": [
       "<Figure size 864x360 with 1 Axes>"
      ]
     },
     "metadata": {
      "needs_background": "light"
     },
     "output_type": "display_data"
    }
   ],
   "source": [
    "dict = {0 : 'минут',\n",
    "       1 : 'сообщений',\n",
    "       2 : 'мегабайт',\n",
    "       3 : 'выручки'}\n",
    "i = 0\n",
    "for param in ['duration', 'messages', 'mb', 'gain']:\n",
    "    plt.figure(figsize=(12, 5))\n",
    "    plt.bar(smart_clients['month'], smart_clients[param], label='smart', color='g', width=0.5)\n",
    "    plt.bar(ultra_clients['month'], ultra_clients[param], label='ultra', color='b', width=0.5)\n",
    "\n",
    "    plt.xlabel('month')\n",
    "    plt.ylabel(param)\n",
    "    plt.grid()\n",
    "    plt.title(f'Кол-во {dict[i]} всех клиентов по месяцам для тарифов')\n",
    "    plt.legend()\n",
    "    plt.show();\n",
    "    i+=1"
   ]
  },
  {
   "cell_type": "markdown",
   "metadata": {},
   "source": [
    "По графикам видно, что в абсолютном выражении общий расход у тарифа \"smart\", однако пользователей тарифа \"ultra\" в два раза меньше, чем пользователей тарифа \"smart\". Для оценки и выбора наиболее прибыльного тарифа надо посчитать усредненные показатели прибыли на клиента за каждый месяц."
   ]
  },
  {
   "cell_type": "markdown",
   "metadata": {},
   "source": [
    "Сгруппируем по месяцам и тарифам новую таблицу с медианными значениями и сразу разделим по разным тарифам"
   ]
  },
  {
   "cell_type": "code",
   "execution_count": 56,
   "metadata": {},
   "outputs": [
    {
     "data": {
      "text/html": [
       "<div>\n",
       "<style scoped>\n",
       "    .dataframe tbody tr th:only-of-type {\n",
       "        vertical-align: middle;\n",
       "    }\n",
       "\n",
       "    .dataframe tbody tr th {\n",
       "        vertical-align: top;\n",
       "    }\n",
       "\n",
       "    .dataframe thead th {\n",
       "        text-align: right;\n",
       "    }\n",
       "</style>\n",
       "<table border=\"1\" class=\"dataframe\">\n",
       "  <thead>\n",
       "    <tr style=\"text-align: right;\">\n",
       "      <th></th>\n",
       "      <th>tariff</th>\n",
       "      <th>month</th>\n",
       "      <th>duration</th>\n",
       "      <th>messages</th>\n",
       "      <th>mb</th>\n",
       "      <th>gain</th>\n",
       "    </tr>\n",
       "  </thead>\n",
       "  <tbody>\n",
       "    <tr>\n",
       "      <td>0</td>\n",
       "      <td>smart</td>\n",
       "      <td>1.0</td>\n",
       "      <td>162.5</td>\n",
       "      <td>15.0</td>\n",
       "      <td>7168.0</td>\n",
       "      <td>550.0</td>\n",
       "    </tr>\n",
       "    <tr>\n",
       "      <td>1</td>\n",
       "      <td>smart</td>\n",
       "      <td>2.0</td>\n",
       "      <td>258.0</td>\n",
       "      <td>20.0</td>\n",
       "      <td>13312.0</td>\n",
       "      <td>550.0</td>\n",
       "    </tr>\n",
       "    <tr>\n",
       "      <td>2</td>\n",
       "      <td>smart</td>\n",
       "      <td>3.0</td>\n",
       "      <td>409.0</td>\n",
       "      <td>23.0</td>\n",
       "      <td>16384.0</td>\n",
       "      <td>886.0</td>\n",
       "    </tr>\n",
       "    <tr>\n",
       "      <td>3</td>\n",
       "      <td>smart</td>\n",
       "      <td>4.0</td>\n",
       "      <td>368.5</td>\n",
       "      <td>28.0</td>\n",
       "      <td>14336.0</td>\n",
       "      <td>620.5</td>\n",
       "    </tr>\n",
       "    <tr>\n",
       "      <td>4</td>\n",
       "      <td>smart</td>\n",
       "      <td>5.0</td>\n",
       "      <td>433.0</td>\n",
       "      <td>30.0</td>\n",
       "      <td>16384.0</td>\n",
       "      <td>986.0</td>\n",
       "    </tr>\n",
       "    <tr>\n",
       "      <td>5</td>\n",
       "      <td>smart</td>\n",
       "      <td>6.0</td>\n",
       "      <td>400.0</td>\n",
       "      <td>28.0</td>\n",
       "      <td>16384.0</td>\n",
       "      <td>950.0</td>\n",
       "    </tr>\n",
       "    <tr>\n",
       "      <td>6</td>\n",
       "      <td>smart</td>\n",
       "      <td>7.0</td>\n",
       "      <td>414.0</td>\n",
       "      <td>29.0</td>\n",
       "      <td>16384.0</td>\n",
       "      <td>981.0</td>\n",
       "    </tr>\n",
       "    <tr>\n",
       "      <td>7</td>\n",
       "      <td>smart</td>\n",
       "      <td>8.0</td>\n",
       "      <td>432.0</td>\n",
       "      <td>27.0</td>\n",
       "      <td>17408.0</td>\n",
       "      <td>1079.0</td>\n",
       "    </tr>\n",
       "    <tr>\n",
       "      <td>8</td>\n",
       "      <td>smart</td>\n",
       "      <td>9.0</td>\n",
       "      <td>435.0</td>\n",
       "      <td>30.0</td>\n",
       "      <td>16384.0</td>\n",
       "      <td>958.5</td>\n",
       "    </tr>\n",
       "    <tr>\n",
       "      <td>9</td>\n",
       "      <td>smart</td>\n",
       "      <td>10.0</td>\n",
       "      <td>427.5</td>\n",
       "      <td>30.0</td>\n",
       "      <td>17408.0</td>\n",
       "      <td>1150.0</td>\n",
       "    </tr>\n",
       "    <tr>\n",
       "      <td>10</td>\n",
       "      <td>smart</td>\n",
       "      <td>11.0</td>\n",
       "      <td>428.5</td>\n",
       "      <td>28.0</td>\n",
       "      <td>17408.0</td>\n",
       "      <td>1150.0</td>\n",
       "    </tr>\n",
       "    <tr>\n",
       "      <td>11</td>\n",
       "      <td>smart</td>\n",
       "      <td>12.0</td>\n",
       "      <td>471.0</td>\n",
       "      <td>29.0</td>\n",
       "      <td>18432.0</td>\n",
       "      <td>1273.5</td>\n",
       "    </tr>\n",
       "    <tr>\n",
       "      <td>12</td>\n",
       "      <td>ultra</td>\n",
       "      <td>1.0</td>\n",
       "      <td>382.0</td>\n",
       "      <td>32.0</td>\n",
       "      <td>15360.0</td>\n",
       "      <td>1950.0</td>\n",
       "    </tr>\n",
       "    <tr>\n",
       "      <td>13</td>\n",
       "      <td>ultra</td>\n",
       "      <td>2.0</td>\n",
       "      <td>168.0</td>\n",
       "      <td>5.5</td>\n",
       "      <td>7680.0</td>\n",
       "      <td>1950.0</td>\n",
       "    </tr>\n",
       "    <tr>\n",
       "      <td>14</td>\n",
       "      <td>ultra</td>\n",
       "      <td>3.0</td>\n",
       "      <td>403.0</td>\n",
       "      <td>20.0</td>\n",
       "      <td>18432.0</td>\n",
       "      <td>1950.0</td>\n",
       "    </tr>\n",
       "    <tr>\n",
       "      <td>15</td>\n",
       "      <td>ultra</td>\n",
       "      <td>4.0</td>\n",
       "      <td>453.0</td>\n",
       "      <td>17.0</td>\n",
       "      <td>17408.0</td>\n",
       "      <td>1950.0</td>\n",
       "    </tr>\n",
       "    <tr>\n",
       "      <td>16</td>\n",
       "      <td>ultra</td>\n",
       "      <td>5.0</td>\n",
       "      <td>519.0</td>\n",
       "      <td>25.0</td>\n",
       "      <td>19456.0</td>\n",
       "      <td>1950.0</td>\n",
       "    </tr>\n",
       "    <tr>\n",
       "      <td>17</td>\n",
       "      <td>ultra</td>\n",
       "      <td>6.0</td>\n",
       "      <td>479.0</td>\n",
       "      <td>27.5</td>\n",
       "      <td>19968.0</td>\n",
       "      <td>1950.0</td>\n",
       "    </tr>\n",
       "    <tr>\n",
       "      <td>18</td>\n",
       "      <td>ultra</td>\n",
       "      <td>7.0</td>\n",
       "      <td>542.0</td>\n",
       "      <td>38.0</td>\n",
       "      <td>20480.0</td>\n",
       "      <td>1950.0</td>\n",
       "    </tr>\n",
       "    <tr>\n",
       "      <td>19</td>\n",
       "      <td>ultra</td>\n",
       "      <td>8.0</td>\n",
       "      <td>500.0</td>\n",
       "      <td>40.0</td>\n",
       "      <td>19456.0</td>\n",
       "      <td>1950.0</td>\n",
       "    </tr>\n",
       "    <tr>\n",
       "      <td>20</td>\n",
       "      <td>ultra</td>\n",
       "      <td>9.0</td>\n",
       "      <td>520.0</td>\n",
       "      <td>43.0</td>\n",
       "      <td>20480.0</td>\n",
       "      <td>1950.0</td>\n",
       "    </tr>\n",
       "    <tr>\n",
       "      <td>21</td>\n",
       "      <td>ultra</td>\n",
       "      <td>10.0</td>\n",
       "      <td>533.0</td>\n",
       "      <td>49.0</td>\n",
       "      <td>20480.0</td>\n",
       "      <td>1950.0</td>\n",
       "    </tr>\n",
       "    <tr>\n",
       "      <td>22</td>\n",
       "      <td>ultra</td>\n",
       "      <td>11.0</td>\n",
       "      <td>546.0</td>\n",
       "      <td>43.0</td>\n",
       "      <td>18944.0</td>\n",
       "      <td>1950.0</td>\n",
       "    </tr>\n",
       "    <tr>\n",
       "      <td>23</td>\n",
       "      <td>ultra</td>\n",
       "      <td>12.0</td>\n",
       "      <td>582.5</td>\n",
       "      <td>50.5</td>\n",
       "      <td>22528.0</td>\n",
       "      <td>1950.0</td>\n",
       "    </tr>\n",
       "  </tbody>\n",
       "</table>\n",
       "</div>"
      ],
      "text/plain": [
       "   tariff  month  duration  messages       mb    gain\n",
       "0   smart    1.0     162.5      15.0   7168.0   550.0\n",
       "1   smart    2.0     258.0      20.0  13312.0   550.0\n",
       "2   smart    3.0     409.0      23.0  16384.0   886.0\n",
       "3   smart    4.0     368.5      28.0  14336.0   620.5\n",
       "4   smart    5.0     433.0      30.0  16384.0   986.0\n",
       "5   smart    6.0     400.0      28.0  16384.0   950.0\n",
       "6   smart    7.0     414.0      29.0  16384.0   981.0\n",
       "7   smart    8.0     432.0      27.0  17408.0  1079.0\n",
       "8   smart    9.0     435.0      30.0  16384.0   958.5\n",
       "9   smart   10.0     427.5      30.0  17408.0  1150.0\n",
       "10  smart   11.0     428.5      28.0  17408.0  1150.0\n",
       "11  smart   12.0     471.0      29.0  18432.0  1273.5\n",
       "12  ultra    1.0     382.0      32.0  15360.0  1950.0\n",
       "13  ultra    2.0     168.0       5.5   7680.0  1950.0\n",
       "14  ultra    3.0     403.0      20.0  18432.0  1950.0\n",
       "15  ultra    4.0     453.0      17.0  17408.0  1950.0\n",
       "16  ultra    5.0     519.0      25.0  19456.0  1950.0\n",
       "17  ultra    6.0     479.0      27.5  19968.0  1950.0\n",
       "18  ultra    7.0     542.0      38.0  20480.0  1950.0\n",
       "19  ultra    8.0     500.0      40.0  19456.0  1950.0\n",
       "20  ultra    9.0     520.0      43.0  20480.0  1950.0\n",
       "21  ultra   10.0     533.0      49.0  20480.0  1950.0\n",
       "22  ultra   11.0     546.0      43.0  18944.0  1950.0\n",
       "23  ultra   12.0     582.5      50.5  22528.0  1950.0"
      ]
     },
     "metadata": {},
     "output_type": "display_data"
    }
   ],
   "source": [
    "median_abonent_tarriff = abonents.groupby(['tariff', 'month'])['duration', 'messages', 'mb', 'gain'].median().reset_index()\n",
    "display(median_abonent_tarriff)"
   ]
  },
  {
   "cell_type": "code",
   "execution_count": 57,
   "metadata": {},
   "outputs": [],
   "source": [
    "median_smart_clients = median_abonent_tarriff[median_abonent_tarriff['tariff']==\"smart\"]\n",
    "median_ultra_clients = median_abonent_tarriff[median_abonent_tarriff['tariff']==\"ultra\"].reset_index(drop=True)"
   ]
  },
  {
   "cell_type": "code",
   "execution_count": 58,
   "metadata": {},
   "outputs": [
    {
     "data": {
      "image/png": "[encoded data removed]",
      "text/plain": [
       "<Figure size 864x360 with 1 Axes>"
      ]
     },
     "metadata": {
      "needs_background": "light"
     },
     "output_type": "display_data"
    },
    {
     "data": {
      "image/png": "[encoded data removed]",
      "text/plain": [
       "<Figure size 864x360 with 1 Axes>"
      ]
     },
     "metadata": {
      "needs_background": "light"
     },
     "output_type": "display_data"
    },
    {
     "data": {
      "image/png": "[encoded data removed]",
      "text/plain": [
       "<Figure size 864x360 with 1 Axes>"
      ]
     },
     "metadata": {
      "needs_background": "light"
     },
     "output_type": "display_data"
    },
    {
     "data": {
      "image/png": "[encoded data removed]",
      "text/plain": [
       "<Figure size 864x360 with 1 Axes>"
      ]
     },
     "metadata": {
      "needs_background": "light"
     },
     "output_type": "display_data"
    }
   ],
   "source": [
    "dict = {0 : 'минут',\n",
    "       1 : 'сообщений',\n",
    "       2 : 'мегабайт',\n",
    "       3 : 'выручки'}\n",
    "i = 0\n",
    "for param in ['duration', 'messages', 'mb', 'gain']:\n",
    "    plt.figure(figsize=(12, 5))\n",
    "    plt.bar(median_smart_clients['month']-0.15, median_smart_clients[param], label='smart', color='g', width=0.3)\n",
    "    plt.bar(median_ultra_clients['month']+0.15, median_ultra_clients[param], label='ultra', color='b', width=0.3)\n",
    "    \n",
    "    if param == 'duration':\n",
    "        porog_smart=500\n",
    "        porog_ultra=3000\n",
    "    elif param == 'messages':\n",
    "        porog_smart=50\n",
    "        porog_ultra=1000\n",
    "    elif param == 'mb':\n",
    "        porog_smart=15360\n",
    "        porog_ultra=30720\n",
    "    else:\n",
    "        porog_smart=550\n",
    "        porog_ultra=1950\n",
    "    \n",
    "    plt.axhline(y=porog_smart, label='Порог для smart', color='r')\n",
    "    #plt.axhline(y=porog_ultra, label='Порог для smart', color='r')\n",
    "    plt.xlabel('month')\n",
    "    plt.ylabel(param)\n",
    "    plt.grid()\n",
    "    plt.title(f'Медианное кол-во {dict[i]} всех клиентов по месяцам для тарифов')\n",
    "    plt.legend()\n",
    "    plt.show();\n",
    "    i+=1"
   ]
  },
  {
   "cell_type": "markdown",
   "metadata": {},
   "source": [
    "Медианные значения за год"
   ]
  },
  {
   "cell_type": "code",
   "execution_count": 59,
   "metadata": {},
   "outputs": [
    {
     "name": "stdout",
     "output_type": "stream",
     "text": [
      "Кол-во минут: smart = 421    ultra = 510\n",
      "Кол-во сообщений: smart = 28    ultra = 35\n",
      "Кол-во мегабайт: smart = 16384    ultra = 19456\n",
      "Кол-во выручки: smart = 970    ultra = 1950\n"
     ]
    }
   ],
   "source": [
    "i = 0\n",
    "for param in ['duration', 'messages', 'mb', 'gain']:\n",
    "    print(f'Кол-во {dict[i]}: smart = {round(median_smart_clients[param].median())}    ultra = {round(median_ultra_clients[param].median())}')\n",
    "    i += 1"
   ]
  },
  {
   "cell_type": "markdown",
   "metadata": {},
   "source": [
    "Построим гистограммы распределения клиентов по объемам услуг"
   ]
  },
  {
   "cell_type": "code",
   "execution_count": 60,
   "metadata": {},
   "outputs": [
    {
     "data": {
      "image/png": "[encoded data removed]",
      "text/plain": [
       "<Figure size 1008x360 with 1 Axes>"
      ]
     },
     "metadata": {
      "needs_background": "light"
     },
     "output_type": "display_data"
    },
    {
     "data": {
      "image/png": "[encoded data removed]",
      "text/plain": [
       "<Figure size 1008x360 with 1 Axes>"
      ]
     },
     "metadata": {
      "needs_background": "light"
     },
     "output_type": "display_data"
    },
    {
     "data": {
      "image/png": "[encoded data removed]",
      "text/plain": [
       "<Figure size 1008x360 with 1 Axes>"
      ]
     },
     "metadata": {
      "needs_background": "light"
     },
     "output_type": "display_data"
    },
    {
     "data": {
      "image/png": "[encoded data removed]",
      "text/plain": [
       "<Figure size 1008x360 with 1 Axes>"
      ]
     },
     "metadata": {
      "needs_background": "light"
     },
     "output_type": "display_data"
    }
   ],
   "source": [
    "i = 0\n",
    "for param in ['duration', 'messages', 'mb', 'gain']:\n",
    "    plt.figure(figsize=(14, 5))\n",
    "    \n",
    "    plt.hist(abonents.loc[abonents['tariff'] == \"smart\", param], label='smart', color='g', alpha=0.65, bins = 50)\n",
    "    plt.hist(abonents.loc[abonents['tariff'] == \"ultra\", param], label='ultra', color='r', alpha=0.35, bins = 50)\n",
    "    \n",
    "    plt.ylabel('Число клиентов в разных месяцах')\n",
    "    plt.xlabel(param)\n",
    "    plt.grid()\n",
    "    plt.title(f'Распределение клиентов по объему услуг для обоих тарифов')\n",
    "    plt.legend()\n",
    "    plt.show();"
   ]
  },
  {
   "cell_type": "markdown",
   "metadata": {},
   "source": [
    "Посчитаем среднее количество дисперсию и стандартное отклонение для каждого тарифа. Создадим для этого отдельный датафрейм."
   ]
  },
  {
   "cell_type": "code",
   "execution_count": 61,
   "metadata": {},
   "outputs": [],
   "source": [
    "smart_abonents = abonents[abonents['tariff']==\"smart\"]\n",
    "ultra_abonents = abonents[abonents['tariff']==\"ultra\"].reset_index(drop=True)"
   ]
  },
  {
   "cell_type": "code",
   "execution_count": 62,
   "metadata": {},
   "outputs": [
    {
     "data": {
      "text/html": [
       "<div>\n",
       "<style scoped>\n",
       "    .dataframe tbody tr th:only-of-type {\n",
       "        vertical-align: middle;\n",
       "    }\n",
       "\n",
       "    .dataframe tbody tr th {\n",
       "        vertical-align: top;\n",
       "    }\n",
       "\n",
       "    .dataframe thead th {\n",
       "        text-align: right;\n",
       "    }\n",
       "</style>\n",
       "<table border=\"1\" class=\"dataframe\">\n",
       "  <thead>\n",
       "    <tr style=\"text-align: right;\">\n",
       "      <th></th>\n",
       "      <th>tariff</th>\n",
       "      <th>parameter</th>\n",
       "      <th>median</th>\n",
       "      <th>mean</th>\n",
       "      <th>var</th>\n",
       "      <th>std</th>\n",
       "    </tr>\n",
       "  </thead>\n",
       "  <tbody>\n",
       "    <tr>\n",
       "      <td>0</td>\n",
       "      <td>smart</td>\n",
       "      <td>duration</td>\n",
       "      <td>421.5</td>\n",
       "      <td>417.7</td>\n",
       "      <td>36281.4</td>\n",
       "      <td>190.5</td>\n",
       "    </tr>\n",
       "    <tr>\n",
       "      <td>1</td>\n",
       "      <td>ultra</td>\n",
       "      <td>duration</td>\n",
       "      <td>518</td>\n",
       "      <td>526.1</td>\n",
       "      <td>101052</td>\n",
       "      <td>317.9</td>\n",
       "    </tr>\n",
       "    <tr>\n",
       "      <td>2</td>\n",
       "      <td>smart</td>\n",
       "      <td>messages</td>\n",
       "      <td>28</td>\n",
       "      <td>33.4</td>\n",
       "      <td>797</td>\n",
       "      <td>28.2</td>\n",
       "    </tr>\n",
       "    <tr>\n",
       "      <td>3</td>\n",
       "      <td>ultra</td>\n",
       "      <td>messages</td>\n",
       "      <td>38</td>\n",
       "      <td>49.3</td>\n",
       "      <td>2285.4</td>\n",
       "      <td>47.8</td>\n",
       "    </tr>\n",
       "    <tr>\n",
       "      <td>4</td>\n",
       "      <td>smart</td>\n",
       "      <td>mb</td>\n",
       "      <td>17408</td>\n",
       "      <td>16713.2</td>\n",
       "      <td>3.47429e+07</td>\n",
       "      <td>5894.3</td>\n",
       "    </tr>\n",
       "    <tr>\n",
       "      <td>5</td>\n",
       "      <td>ultra</td>\n",
       "      <td>mb</td>\n",
       "      <td>19456</td>\n",
       "      <td>19942</td>\n",
       "      <td>1.02109e+08</td>\n",
       "      <td>10104.9</td>\n",
       "    </tr>\n",
       "    <tr>\n",
       "      <td>6</td>\n",
       "      <td>smart</td>\n",
       "      <td>gain</td>\n",
       "      <td>1021</td>\n",
       "      <td>1289.6</td>\n",
       "      <td>669731</td>\n",
       "      <td>818.4</td>\n",
       "    </tr>\n",
       "    <tr>\n",
       "      <td>7</td>\n",
       "      <td>ultra</td>\n",
       "      <td>gain</td>\n",
       "      <td>1950</td>\n",
       "      <td>2070</td>\n",
       "      <td>141388</td>\n",
       "      <td>376</td>\n",
       "    </tr>\n",
       "  </tbody>\n",
       "</table>\n",
       "</div>"
      ],
      "text/plain": [
       "  tariff parameter median     mean          var      std\n",
       "0  smart  duration  421.5    417.7      36281.4    190.5\n",
       "1  ultra  duration    518    526.1       101052    317.9\n",
       "2  smart  messages     28     33.4          797     28.2\n",
       "3  ultra  messages     38     49.3       2285.4     47.8\n",
       "4  smart        mb  17408  16713.2  3.47429e+07   5894.3\n",
       "5  ultra        mb  19456    19942  1.02109e+08  10104.9\n",
       "6  smart      gain   1021   1289.6       669731    818.4\n",
       "7  ultra      gain   1950     2070       141388      376"
      ]
     },
     "execution_count": 62,
     "metadata": {},
     "output_type": "execute_result"
    }
   ],
   "source": [
    "stat = pd.DataFrame(columns = ['tariff', 'parameter', 'median', 'mean', 'var', 'std'])\n",
    "\n",
    "ind = 0\n",
    "names = ['smart', 'ultra']\n",
    "for param in ['duration', 'messages', 'mb', 'gain']:\n",
    "    i = 0\n",
    "    for df in [smart_abonents, ultra_abonents]:\n",
    "        stat.loc[ind, 'parameter'] = param\n",
    "        stat.loc[ind, 'median'] = round(df[param].median(),1)\n",
    "        stat.loc[ind, 'mean'] = round(df[param].mean(),1)\n",
    "        stat.loc[ind, 'var'] = round(np.var(df[param], ddof=1),1)\n",
    "        stat.loc[ind, 'std'] = round(np.std(df[param], ddof=1),1)\n",
    "        stat.loc[ind, 'tariff'] = names[i]\n",
    "        ind +=1\n",
    "        i +=1\n",
    "stat"
   ]
  },
  {
   "cell_type": "markdown",
   "metadata": {},
   "source": [
    "В последнем столбце для тарифа ultra медианная выручка по всем месяцам одинаковая, равная абонентской плате, что говорит о том, что пользователи тарифа редко платят за доп. услуги."
   ]
  },
  {
   "cell_type": "markdown",
   "metadata": {},
   "source": [
    "Также можно заметить, что стандартное отклонение у сообщений довольно большие, что связано с тем, что существует большое количество пользователей, которые практически не отправляют сообщения, что видно по гистограмме, распределение получается очень растянутым."
   ]
  },
  {
   "cell_type": "markdown",
   "metadata": {},
   "source": [
    "**Вывод**\n",
    "\n",
    "В тарифе smart больщая часть пользователей укладывается в пределы тарифа, медианное значение по всем месяцам ниже предела в 500 минут. В тарифе ultra медианное значение значительно ниже предела в 3000 минут. Общее число израсходованных минут, сообщений и МБ растет на протяжении всего года из-за увеличения числа пользователей в течении года.\n",
    "\n",
    "Можно сделать вывод также о том, что в нынешнее время очень мало людей пользуются СМС-сообщениями. Это связано с повсеместным расспространением мессенджеров, которые значительно удобнее СМС. Абоненты обоих тарифов вполне себе укладываются в свои пределы. В среднем абоненты обоих тарифов укладываются даже в 50 сообщений.\n",
    "\n",
    "Если рассматривать интернет, то пользователи тарифа smart довольно часто докупают дополнительные Гб. Медианное значение использованных Мб около 16073 МБ. Медианное значение для тарифа ultra - 18831 МБ. если также рассмотреть медианные значения по месяцам, то оно колеблется от 11 до 23 ГБ. Предел в 30 ГБ довольно редко превышается.\n",
    "\n",
    "Если рассмотреть графики по выручке можно заметить следующие закономерности:\n",
    "- Пользователи тарифа ultra в большинстве случаев не выходит за пределы тарифа и платят только абонентскую плату;\n",
    "- Пользователи тарифа smart наоборот довольно часто переплачивают за доп. функции (в основном за счет интернета).\n",
    "\n",
    "Пользователи тарифа ultra значительно недоиспользуют свой тариф и за счёт этого переплачивают деньги. Для оператора этот тариф выгоднее, однако мало кто согласится на него переходить за счет высокой абонентской платы и избыточного объема услуг."
   ]
  },
  {
   "cell_type": "markdown",
   "metadata": {},
   "source": [
    "## Шаг 5. Проверка гипотез"
   ]
  },
  {
   "cell_type": "markdown",
   "metadata": {},
   "source": [
    "Гипотезы:\n",
    "- средняя выручка пользователей тарифов «Ультра» и «Смарт» различаются;\n",
    "- средняя выручка пользователей из Москвы отличается от выручки пользователей из других регионов."
   ]
  },
  {
   "cell_type": "code",
   "execution_count": 63,
   "metadata": {},
   "outputs": [],
   "source": [
    "smart_gain = abonents[abonents['tariff'] == 'smart']['gain'].values\n",
    "ultra_gain = abonents[abonents['tariff'] == 'ultra']['gain'].values"
   ]
  },
  {
   "cell_type": "markdown",
   "metadata": {},
   "source": [
    "Дисперсии для smart и ultra"
   ]
  },
  {
   "cell_type": "code",
   "execution_count": 64,
   "metadata": {},
   "outputs": [
    {
     "name": "stdout",
     "output_type": "stream",
     "text": [
      "Дисперсия тарифа smart 669430.4361979931\n",
      "Дисперсия тарифа ultra 141244.31956107615\n"
     ]
    }
   ],
   "source": [
    "print('Дисперсия тарифа smart', np.var(smart_gain))\n",
    "print('Дисперсия тарифа ultra', np.var(ultra_gain))"
   ]
  },
  {
   "cell_type": "markdown",
   "metadata": {},
   "source": [
    "Дисперсии довольно сильно отличаются друг от друга."
   ]
  },
  {
   "cell_type": "markdown",
   "metadata": {},
   "source": [
    "- Нулевая гипотеза H0 - средняя выручка пользователей тарифов «Ультра» и «Смарт» равны;\n",
    "- Альтернативная гипотеза H1 - средняя выручка пользователей тарифов «Ультра» и «Смарт» различается."
   ]
  },
  {
   "cell_type": "code",
   "execution_count": 65,
   "metadata": {},
   "outputs": [
    {
     "name": "stdout",
     "output_type": "stream",
     "text": [
      "p-значение: 1.927011394420941e-250\n",
      "Отвергаем нулевую гипотезу\n"
     ]
    }
   ],
   "source": [
    "alpha = 0.05\n",
    "results = st.ttest_ind(smart_gain, ultra_gain, equal_var = False)\n",
    "print('p-значение:', results.pvalue)\n",
    "\n",
    "if (results.pvalue < alpha):\n",
    "    print(\"Отвергаем нулевую гипотезу\")\n",
    "else:\n",
    "    print(\"Не получилось отвергнуть нулевую гипотезу\")"
   ]
  },
  {
   "cell_type": "markdown",
   "metadata": {},
   "source": [
    "**Вывод**\n",
    "\n",
    "Вероятность получить такую разницу между средними выборок при равенстве средних генеральных совокупностей практически равна нулю. Нулевую гипотезу можно отвергнуть. То есть гипотеза № 1 подтверждается и можно утверждать, что средняя выручка пользователей тарифов \"Ультра\" и «Смарт» различаются."
   ]
  },
  {
   "cell_type": "markdown",
   "metadata": {},
   "source": [
    "Выделим отдельно абонентов из Москвы и остальных городов"
   ]
  },
  {
   "cell_type": "code",
   "execution_count": 66,
   "metadata": {},
   "outputs": [],
   "source": [
    "moscow_gain = abonents[abonents['city'] == \"Москва\"]['gain'].values\n",
    "other_gain = abonents[abonents['city'] != \"Москва\"]['gain'].values"
   ]
  },
  {
   "cell_type": "markdown",
   "metadata": {},
   "source": [
    "Для этих выборок дисперсии можно считать равными"
   ]
  },
  {
   "cell_type": "markdown",
   "metadata": {},
   "source": [
    "- Нулевая гипотеза H0 - средняя выручка пользователей из Москвы и из других городов равны;\n",
    "- Альтернативная гипотеза H1 - средняя выручка пользователей из Москвы и из других городов различается."
   ]
  },
  {
   "cell_type": "code",
   "execution_count": 67,
   "metadata": {},
   "outputs": [
    {
     "name": "stdout",
     "output_type": "stream",
     "text": [
      "p-значение: 0.5400751614511182\n",
      "Не получилось отвергнуть нулевую гипотезу\n"
     ]
    }
   ],
   "source": [
    "results = st.ttest_ind(moscow_gain, other_gain, equal_var = True)\n",
    "\n",
    "print('p-значение:', results.pvalue)\n",
    "\n",
    "if (results.pvalue < alpha):\n",
    "    print(\"Отвергаем нулевую гипотезу\")\n",
    "else:\n",
    "    print(\"Не получилось отвергнуть нулевую гипотезу\")"
   ]
  },
  {
   "cell_type": "markdown",
   "metadata": {},
   "source": [
    "Вероятность равенства средних генеральных совокупностей высокое, поэтому нулевую гипотезу нельзя отвергать. Гипотеза № 2 не подтверждается"
   ]
  },
  {
   "cell_type": "markdown",
   "metadata": {},
   "source": [
    "## Шаг 6. Общий вывод"
   ]
  },
  {
   "cell_type": "markdown",
   "metadata": {},
   "source": [
    "Данные изначально были в порядке, поэтому в процессе предобработки были изменены типы данных только для дат. Данные были корректны и дубликатов не было.\n",
    "\n",
    "Были рассмотрены данные по объемам услуг. Определено сколько минут разговора, сколько сообщений и какой объём интернет-трафика требуется пользователям каждого тарифа в месяц. Оценены средние значения, дисперсии и стандартные отклонения. Построены гистограммы.\n",
    "\n",
    "В процессы анализа были определены следующие закономерности:\n",
    "\n",
    "- В тарифе smart больщая часть пользователей укладывается в пределы тарифа, медианное значение по всем месяцам ниже предела в 500 минут. В тарифе ultra медианное значение значительно ниже предела в 3000 минут. Общее число израсходованных минут, сообщений и МБ растет на протяжении всего года из-за увеличения числа пользователей в течении года.\n",
    "\n",
    "- Можно сделать вывод также о том, что в нынешнее время очень мало людей пользуются СМС-сообщениями. Это связано с повсеместным расспространением мессенджеров, которые значительно удобнее СМС. Абоненты обоих тарифов вполне себе укладываются в свои пределы. В среднем абоненты обоих тарифов укладываются даже в 50 сообщений.\n",
    "\n",
    "- Если рассматривать интернет, то пользователи тарифа smart довольно часто докупают дополнительные Гб. Медианное значение использованных Мб около 16073 МБ. Медианное значение для тарифа ultra - 18831 МБ. если также рассмотреть медианные значения по месяцам, то оно колеблется от 11 до 23 ГБ. Предел в 30 ГБ довольно редко превышается.\n",
    "\n",
    "Если рассмотреть графики по выручке можно заметить следующие закономерности:\n",
    "- Пользователи тарифа ultra в большинстве случаев не выходит за пределы тарифа и платят только абонентскую плату;\n",
    "- Пользователи тарифа smart наоборот довольно часто переплачивают за доп. функции (в основном за счет интернета).\n",
    "\n",
    "Пользователи тарифа ultra значительно недоиспользуют свой тариф и за счёт этого переплачивают деньги. Для оператора этот тариф выгоднее, однако мало кто согласится на него переходить за счет высокой абонентской платы и избыточного объема услуг.\n",
    "\n",
    "Были проверены две гипотезы:\n",
    "\n",
    "- средняя выручка пользователей тарифов «Ультра» и «Смарт» различаются;\n",
    "- средняя выручка пользователей из Москвы отличается от выручки пользователей из других регионов.\n",
    "\n",
    "Первая гипотеза подтвердилась, а вторая - нет.\n",
    "\n",
    "Так как цель исследования - это определение наиболее прибыльного тарифа, попробуем ответить на этот вопрос. Если рассмотреть столбчатые диаграммы по общим доходам, то видно, что в общем тариф смарт приносит больше прибыли, чем ультра. Это объясняется большей привлекательностью этого тарифа в глазах среднего пользователя, так как пределы этого тарифа более близки к средним месячным потребностям пользователей (кроме интернета). По тарифу ультра можно сказать, что пользователи переплачивают за лишний объем услуг и редко превышают пакетный объем услуг, отсюда и меньшая его привлекательность в глазах пользователей. Предлагаю сосредоточить усилия на тарифе смарт, так как в перспективе он позволит привлечь гораздо больше пользователей, чем ультра, а при сохраняющейся тенденции к увеличению среднемесячного потребления услуг приведет и к увеличению выручке за счет продажи дополнительных услуг пользователям"
   ]
  }
 ],
 "metadata": {
  "ExecuteTimeLog": [
   {
    "duration": 654,
    "start_time": "2021-12-15T19:11:20.320Z"
   },
   {
    "duration": 2177,
    "start_time": "2021-12-15T19:12:07.302Z"
   },
   {
    "duration": 152,
    "start_time": "2021-12-15T19:12:24.079Z"
   },
   {
    "duration": 382,
    "start_time": "2021-12-15T19:17:33.037Z"
   },
   {
    "duration": 140,
    "start_time": "2021-12-15T19:20:05.820Z"
   },
   {
    "duration": 121,
    "start_time": "2021-12-15T19:20:08.112Z"
   },
   {
    "duration": 528,
    "start_time": "2021-12-15T19:20:14.620Z"
   },
   {
    "duration": 150,
    "start_time": "2021-12-15T19:20:15.150Z"
   },
   {
    "duration": 118,
    "start_time": "2021-12-15T19:20:15.301Z"
   },
   {
    "duration": 82,
    "start_time": "2021-12-15T19:20:15.421Z"
   },
   {
    "duration": 20,
    "start_time": "2021-12-15T19:20:15.504Z"
   },
   {
    "duration": 33,
    "start_time": "2021-12-15T19:20:15.525Z"
   },
   {
    "duration": 118,
    "start_time": "2021-12-15T19:20:57.176Z"
   },
   {
    "duration": 33,
    "start_time": "2021-12-15T19:41:18.877Z"
   },
   {
    "duration": 16,
    "start_time": "2021-12-15T19:41:27.383Z"
   },
   {
    "duration": 20,
    "start_time": "2021-12-15T19:49:20.311Z"
   },
   {
    "duration": 7,
    "start_time": "2021-12-15T19:49:59.169Z"
   },
   {
    "duration": 6,
    "start_time": "2021-12-15T19:50:22.269Z"
   },
   {
    "duration": 1091,
    "start_time": "2021-12-25T18:12:04.664Z"
   },
   {
    "duration": 632,
    "start_time": "2021-12-25T18:12:06.619Z"
   },
   {
    "duration": 531,
    "start_time": "2021-12-25T18:12:39.036Z"
   },
   {
    "duration": 747,
    "start_time": "2021-12-25T18:17:13.940Z"
   },
   {
    "duration": 548,
    "start_time": "2021-12-25T18:18:10.028Z"
   },
   {
    "duration": 514,
    "start_time": "2021-12-25T18:18:20.371Z"
   },
   {
    "duration": 587,
    "start_time": "2021-12-25T18:19:12.340Z"
   },
   {
    "duration": 4,
    "start_time": "2021-12-25T18:19:30.273Z"
   },
   {
    "duration": 629,
    "start_time": "2021-12-25T18:19:31.686Z"
   },
   {
    "duration": 614,
    "start_time": "2021-12-25T18:20:17.495Z"
   },
   {
    "duration": 17,
    "start_time": "2021-12-25T21:56:56.328Z"
   },
   {
    "duration": 14,
    "start_time": "2021-12-25T21:57:20.391Z"
   },
   {
    "duration": 22,
    "start_time": "2021-12-25T21:59:36.366Z"
   },
   {
    "duration": 5,
    "start_time": "2021-12-25T22:01:31.952Z"
   },
   {
    "duration": 7,
    "start_time": "2021-12-25T22:01:48.500Z"
   },
   {
    "duration": 8,
    "start_time": "2021-12-25T22:02:59.894Z"
   },
   {
    "duration": 8,
    "start_time": "2021-12-25T22:05:33.510Z"
   },
   {
    "duration": 7,
    "start_time": "2021-12-25T22:08:00.906Z"
   },
   {
    "duration": 5,
    "start_time": "2021-12-25T22:09:18.055Z"
   },
   {
    "duration": 5,
    "start_time": "2021-12-25T22:11:28.537Z"
   },
   {
    "duration": 20,
    "start_time": "2021-12-25T22:12:00.481Z"
   },
   {
    "duration": 11,
    "start_time": "2021-12-25T22:12:12.056Z"
   },
   {
    "duration": 7,
    "start_time": "2021-12-25T22:13:25.898Z"
   },
   {
    "duration": 4,
    "start_time": "2021-12-25T22:14:29.582Z"
   },
   {
    "duration": 12,
    "start_time": "2021-12-25T22:17:59.557Z"
   },
   {
    "duration": 224,
    "start_time": "2021-12-25T22:19:30.874Z"
   },
   {
    "duration": 6,
    "start_time": "2021-12-25T22:19:37.002Z"
   },
   {
    "duration": 13,
    "start_time": "2021-12-25T22:20:36.203Z"
   },
   {
    "duration": 7,
    "start_time": "2021-12-25T22:20:51.820Z"
   },
   {
    "duration": 6,
    "start_time": "2021-12-25T22:25:51.312Z"
   },
   {
    "duration": 35,
    "start_time": "2021-12-25T22:35:24.446Z"
   },
   {
    "duration": 28,
    "start_time": "2021-12-25T22:35:33.906Z"
   },
   {
    "duration": 62,
    "start_time": "2021-12-25T22:35:52.278Z"
   },
   {
    "duration": 60,
    "start_time": "2021-12-25T22:36:07.352Z"
   },
   {
    "duration": 279,
    "start_time": "2021-12-25T22:39:55.602Z"
   },
   {
    "duration": 34,
    "start_time": "2021-12-25T22:42:48.556Z"
   },
   {
    "duration": 38,
    "start_time": "2021-12-25T22:44:17.611Z"
   },
   {
    "duration": 15,
    "start_time": "2021-12-25T22:47:00.705Z"
   },
   {
    "duration": 212,
    "start_time": "2021-12-25T22:53:10.705Z"
   },
   {
    "duration": 4,
    "start_time": "2021-12-25T22:53:20.673Z"
   },
   {
    "duration": 71,
    "start_time": "2021-12-25T22:53:33.895Z"
   },
   {
    "duration": 6,
    "start_time": "2021-12-25T22:55:45.654Z"
   },
   {
    "duration": 9,
    "start_time": "2021-12-25T22:57:18.595Z"
   },
   {
    "duration": 6,
    "start_time": "2021-12-25T22:57:56.370Z"
   },
   {
    "duration": 236,
    "start_time": "2021-12-25T22:58:06.966Z"
   },
   {
    "duration": 7,
    "start_time": "2021-12-25T22:58:57.650Z"
   },
   {
    "duration": 15,
    "start_time": "2021-12-25T22:59:36.922Z"
   },
   {
    "duration": 9,
    "start_time": "2021-12-25T23:00:17.003Z"
   },
   {
    "duration": 73,
    "start_time": "2021-12-25T23:02:28.684Z"
   },
   {
    "duration": 6,
    "start_time": "2021-12-25T23:02:56.193Z"
   },
   {
    "duration": 26,
    "start_time": "2021-12-25T23:03:17.852Z"
   },
   {
    "duration": 22,
    "start_time": "2021-12-25T23:04:39.978Z"
   },
   {
    "duration": 20,
    "start_time": "2021-12-25T23:04:52.974Z"
   },
   {
    "duration": 141,
    "start_time": "2021-12-25T23:08:19.903Z"
   },
   {
    "duration": 13,
    "start_time": "2021-12-25T23:10:22.983Z"
   },
   {
    "duration": 20,
    "start_time": "2021-12-25T23:10:32.471Z"
   },
   {
    "duration": 29,
    "start_time": "2021-12-25T23:12:34.153Z"
   },
   {
    "duration": 13,
    "start_time": "2021-12-25T23:12:50.725Z"
   },
   {
    "duration": 15,
    "start_time": "2021-12-25T23:13:08.868Z"
   },
   {
    "duration": 6,
    "start_time": "2021-12-25T23:14:47.112Z"
   },
   {
    "duration": 11,
    "start_time": "2021-12-25T23:17:23.429Z"
   },
   {
    "duration": 48,
    "start_time": "2021-12-25T23:19:15.817Z"
   },
   {
    "duration": 125,
    "start_time": "2021-12-25T23:21:01.329Z"
   },
   {
    "duration": 22,
    "start_time": "2021-12-25T23:22:41.876Z"
   },
   {
    "duration": 76,
    "start_time": "2021-12-25T23:23:02.647Z"
   },
   {
    "duration": 30,
    "start_time": "2021-12-25T23:23:28.005Z"
   },
   {
    "duration": 13,
    "start_time": "2021-12-25T23:23:39.801Z"
   },
   {
    "duration": 13,
    "start_time": "2021-12-25T23:29:41.685Z"
   },
   {
    "duration": 55,
    "start_time": "2021-12-25T23:33:41.988Z"
   },
   {
    "duration": 8,
    "start_time": "2021-12-25T23:35:01.931Z"
   },
   {
    "duration": 14,
    "start_time": "2021-12-25T23:37:04.379Z"
   },
   {
    "duration": 13,
    "start_time": "2021-12-25T23:37:52.277Z"
   },
   {
    "duration": 12,
    "start_time": "2021-12-25T23:38:05.600Z"
   },
   {
    "duration": 11,
    "start_time": "2021-12-25T23:38:16.780Z"
   },
   {
    "duration": 931,
    "start_time": "2021-12-31T14:01:40.387Z"
   },
   {
    "duration": 488,
    "start_time": "2021-12-31T14:01:41.319Z"
   },
   {
    "duration": 30,
    "start_time": "2021-12-31T14:01:41.809Z"
   },
   {
    "duration": 4,
    "start_time": "2021-12-31T14:01:41.840Z"
   },
   {
    "duration": 7,
    "start_time": "2021-12-31T14:01:41.845Z"
   },
   {
    "duration": 6,
    "start_time": "2021-12-31T14:01:41.853Z"
   },
   {
    "duration": 6,
    "start_time": "2021-12-31T14:01:41.861Z"
   },
   {
    "duration": 17,
    "start_time": "2021-12-31T14:01:41.869Z"
   },
   {
    "duration": 4,
    "start_time": "2021-12-31T14:01:41.888Z"
   },
   {
    "duration": 36,
    "start_time": "2021-12-31T14:01:41.893Z"
   },
   {
    "duration": 3,
    "start_time": "2021-12-31T14:01:41.930Z"
   },
   {
    "duration": 6,
    "start_time": "2021-12-31T14:01:41.935Z"
   },
   {
    "duration": 10,
    "start_time": "2021-12-31T14:01:41.943Z"
   },
   {
    "duration": 7,
    "start_time": "2021-12-31T14:01:41.954Z"
   },
   {
    "duration": 4,
    "start_time": "2021-12-31T14:01:41.962Z"
   },
   {
    "duration": 7,
    "start_time": "2021-12-31T14:01:41.968Z"
   },
   {
    "duration": 77,
    "start_time": "2021-12-31T14:01:41.977Z"
   },
   {
    "duration": 179,
    "start_time": "2021-12-31T14:01:42.056Z"
   },
   {
    "duration": 25,
    "start_time": "2021-12-31T14:01:42.237Z"
   },
   {
    "duration": 37,
    "start_time": "2021-12-31T14:01:42.263Z"
   },
   {
    "duration": 36,
    "start_time": "2021-12-31T14:01:42.302Z"
   },
   {
    "duration": 60,
    "start_time": "2021-12-31T14:01:42.340Z"
   },
   {
    "duration": 7,
    "start_time": "2021-12-31T14:01:42.403Z"
   },
   {
    "duration": 15,
    "start_time": "2021-12-31T14:01:42.427Z"
   },
   {
    "duration": 16,
    "start_time": "2021-12-31T14:01:42.443Z"
   },
   {
    "duration": 90,
    "start_time": "2021-12-31T14:01:42.460Z"
   },
   {
    "duration": 17,
    "start_time": "2021-12-31T14:01:42.551Z"
   },
   {
    "duration": 23,
    "start_time": "2021-12-31T14:01:42.569Z"
   },
   {
    "duration": 10,
    "start_time": "2021-12-31T14:01:42.593Z"
   },
   {
    "duration": 24,
    "start_time": "2021-12-31T14:01:42.604Z"
   },
   {
    "duration": 11,
    "start_time": "2021-12-31T14:01:42.629Z"
   },
   {
    "duration": 36,
    "start_time": "2021-12-31T14:01:42.642Z"
   },
   {
    "duration": 100,
    "start_time": "2021-12-31T14:01:42.680Z"
   },
   {
    "duration": 19,
    "start_time": "2021-12-31T14:01:42.781Z"
   },
   {
    "duration": 41,
    "start_time": "2021-12-31T14:01:42.801Z"
   },
   {
    "duration": 10,
    "start_time": "2021-12-31T14:01:42.844Z"
   },
   {
    "duration": 11,
    "start_time": "2021-12-31T14:01:42.855Z"
   },
   {
    "duration": 62,
    "start_time": "2021-12-31T14:01:42.868Z"
   },
   {
    "duration": 6,
    "start_time": "2021-12-31T14:01:42.931Z"
   },
   {
    "duration": 11,
    "start_time": "2021-12-31T14:01:42.938Z"
   },
   {
    "duration": 8,
    "start_time": "2021-12-31T14:01:42.950Z"
   },
   {
    "duration": 43,
    "start_time": "2021-12-31T14:01:42.960Z"
   },
   {
    "duration": 57,
    "start_time": "2021-12-31T14:04:50.642Z"
   },
   {
    "duration": 4,
    "start_time": "2021-12-31T14:11:26.060Z"
   },
   {
    "duration": 347,
    "start_time": "2021-12-31T14:12:56.753Z"
   },
   {
    "duration": 266,
    "start_time": "2021-12-31T14:13:38.185Z"
   },
   {
    "duration": 25,
    "start_time": "2021-12-31T14:14:31.848Z"
   },
   {
    "duration": 24,
    "start_time": "2021-12-31T14:14:42.658Z"
   },
   {
    "duration": 341,
    "start_time": "2021-12-31T14:15:17.923Z"
   },
   {
    "duration": 4,
    "start_time": "2021-12-31T14:15:30.728Z"
   },
   {
    "duration": 5,
    "start_time": "2021-12-31T22:17:51.553Z"
   },
   {
    "duration": 9,
    "start_time": "2021-12-31T22:24:54.429Z"
   },
   {
    "duration": 264,
    "start_time": "2021-12-31T22:25:33.444Z"
   },
   {
    "duration": 9,
    "start_time": "2021-12-31T22:25:59.433Z"
   },
   {
    "duration": 10,
    "start_time": "2021-12-31T22:26:31.982Z"
   },
   {
    "duration": 9,
    "start_time": "2021-12-31T22:27:24.174Z"
   },
   {
    "duration": 10,
    "start_time": "2021-12-31T22:31:26.067Z"
   },
   {
    "duration": 307,
    "start_time": "2021-12-31T22:31:57.714Z"
   },
   {
    "duration": 7,
    "start_time": "2021-12-31T22:32:33.423Z"
   },
   {
    "duration": 6,
    "start_time": "2021-12-31T22:45:01.670Z"
   },
   {
    "duration": 550,
    "start_time": "2021-12-31T22:45:05.107Z"
   },
   {
    "duration": 6,
    "start_time": "2021-12-31T22:45:50.456Z"
   },
   {
    "duration": 597,
    "start_time": "2021-12-31T22:45:54.715Z"
   },
   {
    "duration": 6,
    "start_time": "2021-12-31T22:46:41.013Z"
   },
   {
    "duration": 260,
    "start_time": "2021-12-31T22:46:43.760Z"
   },
   {
    "duration": 11,
    "start_time": "2021-12-31T22:46:59.289Z"
   },
   {
    "duration": 15,
    "start_time": "2022-01-01T21:13:03.163Z"
   },
   {
    "duration": 5,
    "start_time": "2022-01-02T12:20:10.655Z"
   },
   {
    "duration": 10,
    "start_time": "2022-01-02T12:20:15.785Z"
   },
   {
    "duration": 9,
    "start_time": "2022-01-02T12:20:25.763Z"
   },
   {
    "duration": 941,
    "start_time": "2022-01-02T12:26:37.474Z"
   },
   {
    "duration": 1016,
    "start_time": "2022-01-02T12:26:50.999Z"
   },
   {
    "duration": 971,
    "start_time": "2022-01-02T12:27:05.667Z"
   },
   {
    "duration": 930,
    "start_time": "2022-01-02T12:27:19.624Z"
   },
   {
    "duration": 5,
    "start_time": "2022-01-02T12:28:34.622Z"
   },
   {
    "duration": 9,
    "start_time": "2022-01-02T13:41:17.200Z"
   },
   {
    "duration": 11,
    "start_time": "2022-01-02T13:41:44.573Z"
   },
   {
    "duration": 4,
    "start_time": "2022-01-02T13:42:07.746Z"
   },
   {
    "duration": 13,
    "start_time": "2022-01-02T13:42:09.989Z"
   },
   {
    "duration": 5,
    "start_time": "2022-01-02T13:42:12.031Z"
   },
   {
    "duration": 1538,
    "start_time": "2022-01-02T13:49:11.302Z"
   },
   {
    "duration": 884,
    "start_time": "2022-01-02T13:49:52.176Z"
   },
   {
    "duration": 1041,
    "start_time": "2022-01-02T13:50:43.165Z"
   },
   {
    "duration": 16,
    "start_time": "2022-01-02T13:51:15.355Z"
   },
   {
    "duration": 279,
    "start_time": "2022-01-02T13:52:14.374Z"
   },
   {
    "duration": 914,
    "start_time": "2022-01-02T13:52:34.901Z"
   },
   {
    "duration": 693,
    "start_time": "2022-01-02T13:54:18.529Z"
   },
   {
    "duration": 1417,
    "start_time": "2022-01-02T13:54:38.322Z"
   },
   {
    "duration": 1005,
    "start_time": "2022-01-02T13:55:03.777Z"
   },
   {
    "duration": 1161,
    "start_time": "2022-01-02T13:55:23.471Z"
   },
   {
    "duration": 913,
    "start_time": "2022-01-02T13:55:37.760Z"
   },
   {
    "duration": 1085,
    "start_time": "2022-01-02T13:55:55.374Z"
   },
   {
    "duration": 285,
    "start_time": "2022-01-02T13:58:17.519Z"
   },
   {
    "duration": 296,
    "start_time": "2022-01-02T13:58:48.928Z"
   },
   {
    "duration": 912,
    "start_time": "2022-01-02T14:00:37.865Z"
   },
   {
    "duration": 1126,
    "start_time": "2022-01-02T14:01:02.882Z"
   },
   {
    "duration": 922,
    "start_time": "2022-01-02T14:01:17.100Z"
   },
   {
    "duration": 13,
    "start_time": "2022-01-02T14:01:38.929Z"
   },
   {
    "duration": 14,
    "start_time": "2022-01-02T14:01:52.917Z"
   },
   {
    "duration": 1440,
    "start_time": "2022-01-02T14:07:02.481Z"
   },
   {
    "duration": 1569,
    "start_time": "2022-01-02T14:07:38.944Z"
   },
   {
    "duration": 329,
    "start_time": "2022-01-02T14:09:01.311Z"
   },
   {
    "duration": 269,
    "start_time": "2022-01-02T14:09:08.293Z"
   },
   {
    "duration": 15,
    "start_time": "2022-01-02T14:09:11.155Z"
   },
   {
    "duration": 5,
    "start_time": "2022-01-02T14:09:13.353Z"
   },
   {
    "duration": 5,
    "start_time": "2022-01-02T14:09:16.623Z"
   },
   {
    "duration": 1464,
    "start_time": "2022-01-02T14:09:18.840Z"
   },
   {
    "duration": 291,
    "start_time": "2022-01-02T14:12:07.436Z"
   },
   {
    "duration": 284,
    "start_time": "2022-01-02T14:12:43.866Z"
   },
   {
    "duration": 6,
    "start_time": "2022-01-02T14:13:09.378Z"
   },
   {
    "duration": 1633,
    "start_time": "2022-01-02T14:21:30.165Z"
   },
   {
    "duration": 1643,
    "start_time": "2022-01-02T14:23:30.302Z"
   },
   {
    "duration": 310,
    "start_time": "2022-01-02T15:44:48.828Z"
   },
   {
    "duration": 40,
    "start_time": "2022-01-02T15:44:59.936Z"
   },
   {
    "duration": 29,
    "start_time": "2022-01-02T15:45:21.478Z"
   },
   {
    "duration": 29,
    "start_time": "2022-01-02T15:46:43.170Z"
   },
   {
    "duration": 30,
    "start_time": "2022-01-02T15:47:13.646Z"
   },
   {
    "duration": 34,
    "start_time": "2022-01-02T15:52:20.878Z"
   },
   {
    "duration": 6,
    "start_time": "2022-01-02T17:18:02.476Z"
   },
   {
    "duration": 3,
    "start_time": "2022-01-02T17:18:06.094Z"
   },
   {
    "duration": 5,
    "start_time": "2022-01-02T17:18:21.077Z"
   },
   {
    "duration": 4,
    "start_time": "2022-01-02T17:18:22.754Z"
   },
   {
    "duration": 4,
    "start_time": "2022-01-02T17:19:55.052Z"
   },
   {
    "duration": 4,
    "start_time": "2022-01-02T17:21:32.377Z"
   },
   {
    "duration": 289,
    "start_time": "2022-01-02T17:30:10.279Z"
   },
   {
    "duration": 5,
    "start_time": "2022-01-02T17:30:33.692Z"
   },
   {
    "duration": 8201,
    "start_time": "2022-01-02T17:35:12.815Z"
   },
   {
    "duration": 6,
    "start_time": "2022-01-02T17:35:35.108Z"
   },
   {
    "duration": 6,
    "start_time": "2022-01-02T17:35:38.918Z"
   },
   {
    "duration": 4,
    "start_time": "2022-01-02T17:39:06.723Z"
   },
   {
    "duration": 1011,
    "start_time": "2022-01-02T17:55:51.581Z"
   },
   {
    "duration": 498,
    "start_time": "2022-01-02T17:55:52.593Z"
   },
   {
    "duration": 35,
    "start_time": "2022-01-02T17:55:53.093Z"
   },
   {
    "duration": 4,
    "start_time": "2022-01-02T17:55:53.129Z"
   },
   {
    "duration": 7,
    "start_time": "2022-01-02T17:55:53.135Z"
   },
   {
    "duration": 7,
    "start_time": "2022-01-02T17:55:53.143Z"
   },
   {
    "duration": 7,
    "start_time": "2022-01-02T17:55:53.152Z"
   },
   {
    "duration": 17,
    "start_time": "2022-01-02T17:55:53.161Z"
   },
   {
    "duration": 5,
    "start_time": "2022-01-02T17:55:53.180Z"
   },
   {
    "duration": 8,
    "start_time": "2022-01-02T17:55:53.186Z"
   },
   {
    "duration": 34,
    "start_time": "2022-01-02T17:55:53.195Z"
   },
   {
    "duration": 7,
    "start_time": "2022-01-02T17:55:53.230Z"
   },
   {
    "duration": 10,
    "start_time": "2022-01-02T17:55:53.239Z"
   },
   {
    "duration": 7,
    "start_time": "2022-01-02T17:55:53.251Z"
   },
   {
    "duration": 7,
    "start_time": "2022-01-02T17:55:53.260Z"
   },
   {
    "duration": 6,
    "start_time": "2022-01-02T17:55:53.268Z"
   },
   {
    "duration": 76,
    "start_time": "2022-01-02T17:55:53.275Z"
   },
   {
    "duration": 210,
    "start_time": "2022-01-02T17:55:53.352Z"
   },
   {
    "duration": 45,
    "start_time": "2022-01-02T17:55:53.563Z"
   },
   {
    "duration": 71,
    "start_time": "2022-01-02T17:55:53.610Z"
   },
   {
    "duration": 17,
    "start_time": "2022-01-02T17:55:53.682Z"
   },
   {
    "duration": 122,
    "start_time": "2022-01-02T17:55:53.700Z"
   },
   {
    "duration": 9,
    "start_time": "2022-01-02T17:55:53.830Z"
   },
   {
    "duration": 23,
    "start_time": "2022-01-02T17:55:53.841Z"
   },
   {
    "duration": 25,
    "start_time": "2022-01-02T17:55:53.866Z"
   },
   {
    "duration": 136,
    "start_time": "2022-01-02T17:55:53.893Z"
   },
   {
    "duration": 30,
    "start_time": "2022-01-02T17:55:54.031Z"
   },
   {
    "duration": 25,
    "start_time": "2022-01-02T17:55:54.062Z"
   },
   {
    "duration": 9,
    "start_time": "2022-01-02T17:55:54.088Z"
   },
   {
    "duration": 28,
    "start_time": "2022-01-02T17:55:54.099Z"
   },
   {
    "duration": 9,
    "start_time": "2022-01-02T17:55:54.129Z"
   },
   {
    "duration": 37,
    "start_time": "2022-01-02T17:55:54.139Z"
   },
   {
    "duration": 113,
    "start_time": "2022-01-02T17:55:54.177Z"
   },
   {
    "duration": 35,
    "start_time": "2022-01-02T17:55:54.292Z"
   },
   {
    "duration": 29,
    "start_time": "2022-01-02T17:55:54.329Z"
   },
   {
    "duration": 11,
    "start_time": "2022-01-02T17:55:54.359Z"
   },
   {
    "duration": 12,
    "start_time": "2022-01-02T17:55:54.371Z"
   },
   {
    "duration": 90,
    "start_time": "2022-01-02T17:55:54.385Z"
   },
   {
    "duration": 6,
    "start_time": "2022-01-02T17:55:54.476Z"
   },
   {
    "duration": 13,
    "start_time": "2022-01-02T17:55:54.483Z"
   },
   {
    "duration": 30,
    "start_time": "2022-01-02T17:55:54.497Z"
   },
   {
    "duration": 44,
    "start_time": "2022-01-02T17:55:54.529Z"
   },
   {
    "duration": 65,
    "start_time": "2022-01-02T17:55:54.574Z"
   },
   {
    "duration": 32,
    "start_time": "2022-01-02T17:55:54.641Z"
   },
   {
    "duration": 5,
    "start_time": "2022-01-02T17:55:54.674Z"
   },
   {
    "duration": 8,
    "start_time": "2022-01-02T17:55:54.680Z"
   },
   {
    "duration": 39,
    "start_time": "2022-01-02T17:55:54.689Z"
   },
   {
    "duration": 13,
    "start_time": "2022-01-02T17:55:54.730Z"
   },
   {
    "duration": 9,
    "start_time": "2022-01-02T17:55:54.745Z"
   },
   {
    "duration": 8,
    "start_time": "2022-01-02T17:55:54.756Z"
   },
   {
    "duration": 446,
    "start_time": "2022-01-02T17:55:54.765Z"
   },
   {
    "duration": 16,
    "start_time": "2022-01-02T17:55:55.212Z"
   },
   {
    "duration": 14,
    "start_time": "2022-01-02T17:55:55.230Z"
   },
   {
    "duration": 5,
    "start_time": "2022-01-02T17:55:55.246Z"
   },
   {
    "duration": 8,
    "start_time": "2022-01-02T17:55:55.252Z"
   },
   {
    "duration": 1039,
    "start_time": "2022-01-02T17:55:55.262Z"
   },
   {
    "duration": 362,
    "start_time": "2022-01-02T17:55:56.302Z"
   },
   {
    "duration": 560,
    "start_time": "2022-01-02T17:55:56.106Z"
   },
   {
    "duration": 555,
    "start_time": "2022-01-02T17:55:56.111Z"
   },
   {
    "duration": 544,
    "start_time": "2022-01-02T17:55:56.123Z"
   },
   {
    "duration": 542,
    "start_time": "2022-01-02T17:55:56.126Z"
   },
   {
    "duration": 537,
    "start_time": "2022-01-02T17:55:56.132Z"
   },
   {
    "duration": 533,
    "start_time": "2022-01-02T17:55:56.136Z"
   },
   {
    "duration": 530,
    "start_time": "2022-01-02T17:55:56.140Z"
   },
   {
    "duration": 528,
    "start_time": "2022-01-02T17:55:56.143Z"
   },
   {
    "duration": 522,
    "start_time": "2022-01-02T17:55:56.149Z"
   },
   {
    "duration": 518,
    "start_time": "2022-01-02T17:55:56.154Z"
   },
   {
    "duration": 1019,
    "start_time": "2022-01-02T17:56:26.881Z"
   },
   {
    "duration": 699,
    "start_time": "2022-01-02T17:56:27.903Z"
   },
   {
    "duration": 38,
    "start_time": "2022-01-02T17:56:28.604Z"
   },
   {
    "duration": 6,
    "start_time": "2022-01-02T17:56:28.644Z"
   },
   {
    "duration": 10,
    "start_time": "2022-01-02T17:56:28.651Z"
   },
   {
    "duration": 10,
    "start_time": "2022-01-02T17:56:28.662Z"
   },
   {
    "duration": 7,
    "start_time": "2022-01-02T17:56:28.673Z"
   },
   {
    "duration": 17,
    "start_time": "2022-01-02T17:56:28.682Z"
   },
   {
    "duration": 29,
    "start_time": "2022-01-02T17:56:28.701Z"
   },
   {
    "duration": 8,
    "start_time": "2022-01-02T17:56:28.732Z"
   },
   {
    "duration": 7,
    "start_time": "2022-01-02T17:56:28.741Z"
   },
   {
    "duration": 8,
    "start_time": "2022-01-02T17:56:28.749Z"
   },
   {
    "duration": 12,
    "start_time": "2022-01-02T17:56:28.759Z"
   },
   {
    "duration": 8,
    "start_time": "2022-01-02T17:56:28.772Z"
   },
   {
    "duration": 6,
    "start_time": "2022-01-02T17:56:28.782Z"
   },
   {
    "duration": 7,
    "start_time": "2022-01-02T17:56:28.789Z"
   },
   {
    "duration": 67,
    "start_time": "2022-01-02T17:56:28.798Z"
   },
   {
    "duration": 229,
    "start_time": "2022-01-02T17:56:28.867Z"
   },
   {
    "duration": 39,
    "start_time": "2022-01-02T17:56:29.098Z"
   },
   {
    "duration": 55,
    "start_time": "2022-01-02T17:56:29.139Z"
   },
   {
    "duration": 17,
    "start_time": "2022-01-02T17:56:29.196Z"
   },
   {
    "duration": 113,
    "start_time": "2022-01-02T17:56:29.227Z"
   },
   {
    "duration": 8,
    "start_time": "2022-01-02T17:56:29.345Z"
   },
   {
    "duration": 23,
    "start_time": "2022-01-02T17:56:29.356Z"
   },
   {
    "duration": 47,
    "start_time": "2022-01-02T17:56:29.380Z"
   },
   {
    "duration": 122,
    "start_time": "2022-01-02T17:56:29.429Z"
   },
   {
    "duration": 30,
    "start_time": "2022-01-02T17:56:29.553Z"
   },
   {
    "duration": 21,
    "start_time": "2022-01-02T17:56:29.585Z"
   },
   {
    "duration": 26,
    "start_time": "2022-01-02T17:56:29.607Z"
   },
   {
    "duration": 8,
    "start_time": "2022-01-02T17:56:29.635Z"
   },
   {
    "duration": 17,
    "start_time": "2022-01-02T17:56:29.645Z"
   },
   {
    "duration": 49,
    "start_time": "2022-01-02T17:56:29.663Z"
   },
   {
    "duration": 85,
    "start_time": "2022-01-02T17:56:29.713Z"
   },
   {
    "duration": 30,
    "start_time": "2022-01-02T17:56:29.799Z"
   },
   {
    "duration": 34,
    "start_time": "2022-01-02T17:56:29.831Z"
   },
   {
    "duration": 10,
    "start_time": "2022-01-02T17:56:29.867Z"
   },
   {
    "duration": 29,
    "start_time": "2022-01-02T17:56:29.878Z"
   },
   {
    "duration": 45,
    "start_time": "2022-01-02T17:56:29.909Z"
   },
   {
    "duration": 5,
    "start_time": "2022-01-02T17:56:29.956Z"
   },
   {
    "duration": 22,
    "start_time": "2022-01-02T17:56:29.962Z"
   },
   {
    "duration": 15,
    "start_time": "2022-01-02T17:56:29.985Z"
   },
   {
    "duration": 55,
    "start_time": "2022-01-02T17:56:30.002Z"
   },
   {
    "duration": 55,
    "start_time": "2022-01-02T17:56:30.058Z"
   },
   {
    "duration": 32,
    "start_time": "2022-01-02T17:56:30.115Z"
   },
   {
    "duration": 4,
    "start_time": "2022-01-02T17:56:30.148Z"
   },
   {
    "duration": 24,
    "start_time": "2022-01-02T17:56:30.153Z"
   },
   {
    "duration": 13,
    "start_time": "2022-01-02T17:56:30.178Z"
   },
   {
    "duration": 22,
    "start_time": "2022-01-02T17:56:30.193Z"
   },
   {
    "duration": 15,
    "start_time": "2022-01-02T17:56:30.217Z"
   },
   {
    "duration": 9,
    "start_time": "2022-01-02T17:56:30.234Z"
   },
   {
    "duration": 294,
    "start_time": "2022-01-02T17:56:30.245Z"
   },
   {
    "duration": 10,
    "start_time": "2022-01-02T17:56:30.541Z"
   },
   {
    "duration": 16,
    "start_time": "2022-01-02T17:56:30.553Z"
   },
   {
    "duration": 4,
    "start_time": "2022-01-02T17:56:30.570Z"
   },
   {
    "duration": 13,
    "start_time": "2022-01-02T17:56:30.576Z"
   },
   {
    "duration": 934,
    "start_time": "2022-01-02T17:56:30.590Z"
   },
   {
    "duration": 15,
    "start_time": "2022-01-02T17:56:31.527Z"
   },
   {
    "duration": 5,
    "start_time": "2022-01-02T17:56:31.543Z"
   },
   {
    "duration": 1688,
    "start_time": "2022-01-02T17:56:31.549Z"
   },
   {
    "duration": 7,
    "start_time": "2022-01-02T17:56:33.238Z"
   },
   {
    "duration": 1570,
    "start_time": "2022-01-02T17:56:33.248Z"
   },
   {
    "duration": 38,
    "start_time": "2022-01-02T17:56:34.820Z"
   },
   {
    "duration": 5,
    "start_time": "2022-01-02T17:56:34.859Z"
   },
   {
    "duration": 7,
    "start_time": "2022-01-02T17:56:34.866Z"
   },
   {
    "duration": 9,
    "start_time": "2022-01-02T17:56:34.874Z"
   },
   {
    "duration": 6,
    "start_time": "2022-01-02T17:56:34.885Z"
   },
   {
    "duration": 5,
    "start_time": "2022-01-02T17:56:34.892Z"
   },
   {
    "duration": 932,
    "start_time": "2022-01-04T07:25:56.256Z"
   },
   {
    "duration": 494,
    "start_time": "2022-01-04T07:25:57.190Z"
   },
   {
    "duration": 14,
    "start_time": "2022-01-04T07:25:57.687Z"
   },
   {
    "duration": 27,
    "start_time": "2022-01-04T07:25:57.702Z"
   },
   {
    "duration": 7,
    "start_time": "2022-01-04T07:25:57.730Z"
   },
   {
    "duration": 8,
    "start_time": "2022-01-04T07:25:57.738Z"
   },
   {
    "duration": 7,
    "start_time": "2022-01-04T07:25:57.748Z"
   },
   {
    "duration": 26,
    "start_time": "2022-01-04T07:25:57.758Z"
   },
   {
    "duration": 7,
    "start_time": "2022-01-04T07:25:57.785Z"
   },
   {
    "duration": 9,
    "start_time": "2022-01-04T07:25:57.794Z"
   },
   {
    "duration": 5,
    "start_time": "2022-01-04T07:25:57.805Z"
   },
   {
    "duration": 19,
    "start_time": "2022-01-04T07:25:57.811Z"
   },
   {
    "duration": 10,
    "start_time": "2022-01-04T07:25:57.832Z"
   },
   {
    "duration": 9,
    "start_time": "2022-01-04T07:25:57.843Z"
   },
   {
    "duration": 6,
    "start_time": "2022-01-04T07:25:57.853Z"
   },
   {
    "duration": 7,
    "start_time": "2022-01-04T07:25:57.860Z"
   },
   {
    "duration": 71,
    "start_time": "2022-01-04T07:25:57.868Z"
   },
   {
    "duration": 202,
    "start_time": "2022-01-04T07:25:57.941Z"
   },
   {
    "duration": 27,
    "start_time": "2022-01-04T07:25:58.145Z"
   },
   {
    "duration": 38,
    "start_time": "2022-01-04T07:25:58.173Z"
   },
   {
    "duration": 12,
    "start_time": "2022-01-04T07:25:58.227Z"
   },
   {
    "duration": 61,
    "start_time": "2022-01-04T07:25:58.242Z"
   },
   {
    "duration": 23,
    "start_time": "2022-01-04T07:25:58.305Z"
   },
   {
    "duration": 15,
    "start_time": "2022-01-04T07:25:58.330Z"
   },
   {
    "duration": 17,
    "start_time": "2022-01-04T07:25:58.346Z"
   },
   {
    "duration": 98,
    "start_time": "2022-01-04T07:25:58.364Z"
   },
   {
    "duration": 18,
    "start_time": "2022-01-04T07:25:58.464Z"
   },
   {
    "duration": 23,
    "start_time": "2022-01-04T07:25:58.484Z"
   },
   {
    "duration": 25,
    "start_time": "2022-01-04T07:25:58.509Z"
   },
   {
    "duration": 6,
    "start_time": "2022-01-04T07:25:58.536Z"
   },
   {
    "duration": 10,
    "start_time": "2022-01-04T07:25:58.543Z"
   },
   {
    "duration": 35,
    "start_time": "2022-01-04T07:25:58.554Z"
   },
   {
    "duration": 105,
    "start_time": "2022-01-04T07:25:58.591Z"
   },
   {
    "duration": 31,
    "start_time": "2022-01-04T07:25:58.697Z"
   },
   {
    "duration": 25,
    "start_time": "2022-01-04T07:25:58.729Z"
   },
   {
    "duration": 10,
    "start_time": "2022-01-04T07:25:58.756Z"
   },
   {
    "duration": 11,
    "start_time": "2022-01-04T07:25:58.767Z"
   },
   {
    "duration": 64,
    "start_time": "2022-01-04T07:25:58.779Z"
   },
   {
    "duration": 7,
    "start_time": "2022-01-04T07:25:58.845Z"
   },
   {
    "duration": 11,
    "start_time": "2022-01-04T07:25:58.854Z"
   },
   {
    "duration": 8,
    "start_time": "2022-01-04T07:25:58.866Z"
   },
   {
    "duration": 61,
    "start_time": "2022-01-04T07:25:58.876Z"
   },
   {
    "duration": 53,
    "start_time": "2022-01-04T07:25:58.939Z"
   },
   {
    "duration": 39,
    "start_time": "2022-01-04T07:25:58.993Z"
   },
   {
    "duration": 3,
    "start_time": "2022-01-04T07:25:59.034Z"
   },
   {
    "duration": 7,
    "start_time": "2022-01-04T07:25:59.038Z"
   },
   {
    "duration": 10,
    "start_time": "2022-01-04T07:25:59.047Z"
   },
   {
    "duration": 17,
    "start_time": "2022-01-04T07:25:59.059Z"
   },
   {
    "duration": 14,
    "start_time": "2022-01-04T07:25:59.078Z"
   },
   {
    "duration": 7,
    "start_time": "2022-01-04T07:25:59.094Z"
   },
   {
    "duration": 341,
    "start_time": "2022-01-04T07:25:59.103Z"
   },
   {
    "duration": 10,
    "start_time": "2022-01-04T07:25:59.446Z"
   },
   {
    "duration": 15,
    "start_time": "2022-01-04T07:25:59.458Z"
   },
   {
    "duration": 4,
    "start_time": "2022-01-04T07:25:59.474Z"
   },
   {
    "duration": 9,
    "start_time": "2022-01-04T07:25:59.479Z"
   },
   {
    "duration": 929,
    "start_time": "2022-01-04T07:25:59.489Z"
   },
   {
    "duration": 20,
    "start_time": "2022-01-04T07:26:00.419Z"
   },
   {
    "duration": 4,
    "start_time": "2022-01-04T07:26:00.440Z"
   },
   {
    "duration": 1394,
    "start_time": "2022-01-04T07:26:00.445Z"
   },
   {
    "duration": 6,
    "start_time": "2022-01-04T07:26:01.840Z"
   },
   {
    "duration": 1548,
    "start_time": "2022-01-04T07:26:01.848Z"
   },
   {
    "duration": 41,
    "start_time": "2022-01-04T07:26:03.398Z"
   },
   {
    "duration": 4,
    "start_time": "2022-01-04T07:26:03.441Z"
   },
   {
    "duration": 5,
    "start_time": "2022-01-04T07:26:03.447Z"
   },
   {
    "duration": 5,
    "start_time": "2022-01-04T07:26:03.453Z"
   },
   {
    "duration": 6,
    "start_time": "2022-01-04T07:26:03.460Z"
   },
   {
    "duration": 3,
    "start_time": "2022-01-04T07:26:03.470Z"
   },
   {
    "duration": 9,
    "start_time": "2022-01-04T07:46:13.059Z"
   },
   {
    "duration": 207,
    "start_time": "2022-01-04T09:11:10.669Z"
   },
   {
    "duration": 1091,
    "start_time": "2022-01-04T09:11:20.178Z"
   },
   {
    "duration": 622,
    "start_time": "2022-01-04T09:11:21.271Z"
   },
   {
    "duration": 18,
    "start_time": "2022-01-04T09:11:21.895Z"
   },
   {
    "duration": 6,
    "start_time": "2022-01-04T09:11:21.915Z"
   },
   {
    "duration": 8,
    "start_time": "2022-01-04T09:11:21.923Z"
   },
   {
    "duration": 8,
    "start_time": "2022-01-04T09:11:21.933Z"
   },
   {
    "duration": 9,
    "start_time": "2022-01-04T09:11:21.943Z"
   },
   {
    "duration": 18,
    "start_time": "2022-01-04T09:11:21.991Z"
   },
   {
    "duration": 7,
    "start_time": "2022-01-04T09:11:22.011Z"
   },
   {
    "duration": 10,
    "start_time": "2022-01-04T09:11:22.020Z"
   },
   {
    "duration": 9,
    "start_time": "2022-01-04T09:11:22.032Z"
   },
   {
    "duration": 8,
    "start_time": "2022-01-04T09:11:22.042Z"
   },
   {
    "duration": 46,
    "start_time": "2022-01-04T09:11:22.052Z"
   },
   {
    "duration": 7,
    "start_time": "2022-01-04T09:11:22.100Z"
   },
   {
    "duration": 8,
    "start_time": "2022-01-04T09:11:22.109Z"
   },
   {
    "duration": 8,
    "start_time": "2022-01-04T09:11:22.119Z"
   },
   {
    "duration": 80,
    "start_time": "2022-01-04T09:11:22.129Z"
   },
   {
    "duration": 275,
    "start_time": "2022-01-04T09:11:22.211Z"
   },
   {
    "duration": 28,
    "start_time": "2022-01-04T09:11:22.488Z"
   },
   {
    "duration": 44,
    "start_time": "2022-01-04T09:11:22.518Z"
   },
   {
    "duration": 36,
    "start_time": "2022-01-04T09:11:22.564Z"
   },
   {
    "duration": 70,
    "start_time": "2022-01-04T09:11:22.602Z"
   },
   {
    "duration": 20,
    "start_time": "2022-01-04T09:11:22.675Z"
   },
   {
    "duration": 19,
    "start_time": "2022-01-04T09:11:22.697Z"
   },
   {
    "duration": 18,
    "start_time": "2022-01-04T09:11:22.718Z"
   },
   {
    "duration": 124,
    "start_time": "2022-01-04T09:11:22.738Z"
   },
   {
    "duration": 30,
    "start_time": "2022-01-04T09:11:22.864Z"
   },
   {
    "duration": 24,
    "start_time": "2022-01-04T09:11:22.896Z"
   },
   {
    "duration": 10,
    "start_time": "2022-01-04T09:11:22.922Z"
   },
   {
    "duration": 6,
    "start_time": "2022-01-04T09:11:22.934Z"
   },
   {
    "duration": 9,
    "start_time": "2022-01-04T09:11:22.942Z"
   },
   {
    "duration": 74,
    "start_time": "2022-01-04T09:11:22.953Z"
   },
   {
    "duration": 146,
    "start_time": "2022-01-04T09:11:23.029Z"
   },
   {
    "duration": 31,
    "start_time": "2022-01-04T09:11:23.177Z"
   },
   {
    "duration": 30,
    "start_time": "2022-01-04T09:11:23.210Z"
   },
   {
    "duration": 12,
    "start_time": "2022-01-04T09:11:23.242Z"
   },
   {
    "duration": 47,
    "start_time": "2022-01-04T09:11:23.256Z"
   },
   {
    "duration": 52,
    "start_time": "2022-01-04T09:11:23.304Z"
   },
   {
    "duration": 35,
    "start_time": "2022-01-04T09:11:23.358Z"
   },
   {
    "duration": 14,
    "start_time": "2022-01-04T09:11:23.394Z"
   },
   {
    "duration": 10,
    "start_time": "2022-01-04T09:11:23.409Z"
   },
   {
    "duration": 71,
    "start_time": "2022-01-04T09:11:23.421Z"
   },
   {
    "duration": 60,
    "start_time": "2022-01-04T09:11:23.494Z"
   },
   {
    "duration": 46,
    "start_time": "2022-01-04T09:11:23.555Z"
   },
   {
    "duration": 4,
    "start_time": "2022-01-04T09:11:23.602Z"
   },
   {
    "duration": 9,
    "start_time": "2022-01-04T09:11:23.607Z"
   },
   {
    "duration": 13,
    "start_time": "2022-01-04T09:11:23.617Z"
   },
   {
    "duration": 11,
    "start_time": "2022-01-04T09:11:23.632Z"
   },
   {
    "duration": 10,
    "start_time": "2022-01-04T09:11:23.645Z"
   },
   {
    "duration": 6,
    "start_time": "2022-01-04T09:11:23.657Z"
   },
   {
    "duration": 318,
    "start_time": "2022-01-04T09:11:23.664Z"
   },
   {
    "duration": 17,
    "start_time": "2022-01-04T09:11:23.984Z"
   },
   {
    "duration": 25,
    "start_time": "2022-01-04T09:11:24.003Z"
   },
   {
    "duration": 40,
    "start_time": "2022-01-04T09:11:24.030Z"
   },
   {
    "duration": 26,
    "start_time": "2022-01-04T09:11:24.072Z"
   },
   {
    "duration": 1127,
    "start_time": "2022-01-04T09:11:24.100Z"
   },
   {
    "duration": 17,
    "start_time": "2022-01-04T09:11:25.229Z"
   },
   {
    "duration": 17,
    "start_time": "2022-01-04T09:11:25.247Z"
   },
   {
    "duration": 1813,
    "start_time": "2022-01-04T09:11:25.266Z"
   },
   {
    "duration": 14,
    "start_time": "2022-01-04T09:11:27.081Z"
   },
   {
    "duration": 2029,
    "start_time": "2022-01-04T09:11:27.097Z"
   },
   {
    "duration": 39,
    "start_time": "2022-01-04T09:11:29.128Z"
   },
   {
    "duration": 26,
    "start_time": "2022-01-04T09:11:29.170Z"
   },
   {
    "duration": 36,
    "start_time": "2022-01-04T09:11:29.197Z"
   },
   {
    "duration": 22,
    "start_time": "2022-01-04T09:11:29.236Z"
   },
   {
    "duration": 35,
    "start_time": "2022-01-04T09:11:29.260Z"
   },
   {
    "duration": 17,
    "start_time": "2022-01-04T09:11:29.297Z"
   },
   {
    "duration": 1008,
    "start_time": "2022-01-04T10:14:55.367Z"
   },
   {
    "duration": 574,
    "start_time": "2022-01-04T10:14:56.376Z"
   },
   {
    "duration": 17,
    "start_time": "2022-01-04T10:14:56.952Z"
   },
   {
    "duration": 4,
    "start_time": "2022-01-04T10:14:56.992Z"
   },
   {
    "duration": 8,
    "start_time": "2022-01-04T10:14:56.998Z"
   },
   {
    "duration": 7,
    "start_time": "2022-01-04T10:14:57.007Z"
   },
   {
    "duration": 8,
    "start_time": "2022-01-04T10:14:57.016Z"
   },
   {
    "duration": 17,
    "start_time": "2022-01-04T10:14:57.026Z"
   },
   {
    "duration": 6,
    "start_time": "2022-01-04T10:14:57.045Z"
   },
   {
    "duration": 8,
    "start_time": "2022-01-04T10:14:57.092Z"
   },
   {
    "duration": 5,
    "start_time": "2022-01-04T10:14:57.102Z"
   },
   {
    "duration": 8,
    "start_time": "2022-01-04T10:14:57.109Z"
   },
   {
    "duration": 13,
    "start_time": "2022-01-04T10:14:57.119Z"
   },
   {
    "duration": 8,
    "start_time": "2022-01-04T10:14:57.133Z"
   },
   {
    "duration": 7,
    "start_time": "2022-01-04T10:14:57.143Z"
   },
   {
    "duration": 40,
    "start_time": "2022-01-04T10:14:57.151Z"
   },
   {
    "duration": 54,
    "start_time": "2022-01-04T10:14:57.193Z"
   },
   {
    "duration": 253,
    "start_time": "2022-01-04T10:14:57.249Z"
   },
   {
    "duration": 29,
    "start_time": "2022-01-04T10:14:57.503Z"
   },
   {
    "duration": 59,
    "start_time": "2022-01-04T10:14:57.533Z"
   },
   {
    "duration": 16,
    "start_time": "2022-01-04T10:14:57.593Z"
   },
   {
    "duration": 86,
    "start_time": "2022-01-04T10:14:57.610Z"
   },
   {
    "duration": 8,
    "start_time": "2022-01-04T10:14:57.699Z"
   },
   {
    "duration": 18,
    "start_time": "2022-01-04T10:14:57.710Z"
   },
   {
    "duration": 18,
    "start_time": "2022-01-04T10:14:57.730Z"
   },
   {
    "duration": 125,
    "start_time": "2022-01-04T10:14:57.750Z"
   },
   {
    "duration": 32,
    "start_time": "2022-01-04T10:14:57.877Z"
   },
   {
    "duration": 25,
    "start_time": "2022-01-04T10:14:57.910Z"
   },
   {
    "duration": 10,
    "start_time": "2022-01-04T10:14:57.936Z"
   },
   {
    "duration": 8,
    "start_time": "2022-01-04T10:14:57.948Z"
   },
   {
    "duration": 33,
    "start_time": "2022-01-04T10:14:57.958Z"
   },
   {
    "duration": 43,
    "start_time": "2022-01-04T10:14:57.993Z"
   },
   {
    "duration": 137,
    "start_time": "2022-01-04T10:14:58.037Z"
   },
   {
    "duration": 34,
    "start_time": "2022-01-04T10:14:58.175Z"
   },
   {
    "duration": 33,
    "start_time": "2022-01-04T10:14:58.211Z"
   },
   {
    "duration": 12,
    "start_time": "2022-01-04T10:14:58.245Z"
   },
   {
    "duration": 38,
    "start_time": "2022-01-04T10:14:58.259Z"
   },
   {
    "duration": 7,
    "start_time": "2022-01-04T10:14:58.298Z"
   },
   {
    "duration": 12,
    "start_time": "2022-01-04T10:14:58.306Z"
   },
   {
    "duration": 9,
    "start_time": "2022-01-04T10:14:58.319Z"
   },
   {
    "duration": 74,
    "start_time": "2022-01-04T10:14:58.330Z"
   },
   {
    "duration": 61,
    "start_time": "2022-01-04T10:14:58.405Z"
   },
   {
    "duration": 41,
    "start_time": "2022-01-04T10:14:58.467Z"
   },
   {
    "duration": 4,
    "start_time": "2022-01-04T10:14:58.510Z"
   },
   {
    "duration": 20,
    "start_time": "2022-01-04T10:14:58.515Z"
   },
   {
    "duration": 17,
    "start_time": "2022-01-04T10:14:58.537Z"
   },
   {
    "duration": 47,
    "start_time": "2022-01-04T10:14:58.556Z"
   },
   {
    "duration": 12,
    "start_time": "2022-01-04T10:14:58.605Z"
   },
   {
    "duration": 7,
    "start_time": "2022-01-04T10:14:58.618Z"
   },
   {
    "duration": 312,
    "start_time": "2022-01-04T10:14:58.627Z"
   },
   {
    "duration": 12,
    "start_time": "2022-01-04T10:14:58.941Z"
   },
   {
    "duration": 16,
    "start_time": "2022-01-04T10:14:58.955Z"
   },
   {
    "duration": 21,
    "start_time": "2022-01-04T10:14:58.973Z"
   },
   {
    "duration": 10,
    "start_time": "2022-01-04T10:14:58.995Z"
   },
   {
    "duration": 1145,
    "start_time": "2022-01-04T10:14:59.007Z"
   },
   {
    "duration": 18,
    "start_time": "2022-01-04T10:15:00.153Z"
   },
   {
    "duration": 19,
    "start_time": "2022-01-04T10:15:00.173Z"
   },
   {
    "duration": 1630,
    "start_time": "2022-01-04T10:15:00.194Z"
   },
   {
    "duration": 7,
    "start_time": "2022-01-04T10:15:01.826Z"
   },
   {
    "duration": 1917,
    "start_time": "2022-01-04T10:15:01.835Z"
   },
   {
    "duration": 46,
    "start_time": "2022-01-04T10:15:03.753Z"
   },
   {
    "duration": 5,
    "start_time": "2022-01-04T10:15:03.801Z"
   },
   {
    "duration": 4,
    "start_time": "2022-01-04T10:15:03.807Z"
   },
   {
    "duration": 6,
    "start_time": "2022-01-04T10:15:03.812Z"
   },
   {
    "duration": 7,
    "start_time": "2022-01-04T10:15:03.819Z"
   },
   {
    "duration": 5,
    "start_time": "2022-01-04T10:15:03.828Z"
   },
   {
    "duration": 58,
    "start_time": "2022-01-04T10:16:40.519Z"
   },
   {
    "duration": 955,
    "start_time": "2022-01-04T10:16:46.215Z"
   },
   {
    "duration": 590,
    "start_time": "2022-01-04T10:16:47.172Z"
   },
   {
    "duration": 43,
    "start_time": "2022-01-04T10:16:47.765Z"
   },
   {
    "duration": 5,
    "start_time": "2022-01-04T10:16:47.810Z"
   },
   {
    "duration": 15,
    "start_time": "2022-01-04T10:16:47.817Z"
   },
   {
    "duration": 8,
    "start_time": "2022-01-04T10:16:47.834Z"
   },
   {
    "duration": 6,
    "start_time": "2022-01-04T10:16:47.843Z"
   },
   {
    "duration": 54,
    "start_time": "2022-01-04T10:16:47.851Z"
   },
   {
    "duration": 5,
    "start_time": "2022-01-04T10:16:47.907Z"
   },
   {
    "duration": 8,
    "start_time": "2022-01-04T10:16:47.914Z"
   },
   {
    "duration": 6,
    "start_time": "2022-01-04T10:16:47.924Z"
   },
   {
    "duration": 9,
    "start_time": "2022-01-04T10:16:47.931Z"
   },
   {
    "duration": 12,
    "start_time": "2022-01-04T10:16:47.941Z"
   },
   {
    "duration": 7,
    "start_time": "2022-01-04T10:16:47.955Z"
   },
   {
    "duration": 5,
    "start_time": "2022-01-04T10:16:47.992Z"
   },
   {
    "duration": 9,
    "start_time": "2022-01-04T10:16:47.999Z"
   },
   {
    "duration": 51,
    "start_time": "2022-01-04T10:16:48.010Z"
   },
   {
    "duration": 277,
    "start_time": "2022-01-04T10:16:48.063Z"
   },
   {
    "duration": 26,
    "start_time": "2022-01-04T10:16:48.342Z"
   },
   {
    "duration": 60,
    "start_time": "2022-01-04T10:16:48.370Z"
   },
   {
    "duration": 16,
    "start_time": "2022-01-04T10:16:48.432Z"
   },
   {
    "duration": 90,
    "start_time": "2022-01-04T10:16:48.450Z"
   },
   {
    "duration": 10,
    "start_time": "2022-01-04T10:16:48.545Z"
   },
   {
    "duration": 34,
    "start_time": "2022-01-04T10:16:48.557Z"
   },
   {
    "duration": 17,
    "start_time": "2022-01-04T10:16:48.593Z"
   },
   {
    "duration": 118,
    "start_time": "2022-01-04T10:16:48.612Z"
   },
   {
    "duration": 19,
    "start_time": "2022-01-04T10:16:48.732Z"
   },
   {
    "duration": 39,
    "start_time": "2022-01-04T10:16:48.753Z"
   },
   {
    "duration": 10,
    "start_time": "2022-01-04T10:16:48.794Z"
   },
   {
    "duration": 8,
    "start_time": "2022-01-04T10:16:48.805Z"
   },
   {
    "duration": 10,
    "start_time": "2022-01-04T10:16:48.814Z"
   },
   {
    "duration": 69,
    "start_time": "2022-01-04T10:16:48.826Z"
   },
   {
    "duration": 114,
    "start_time": "2022-01-04T10:16:48.897Z"
   },
   {
    "duration": 21,
    "start_time": "2022-01-04T10:16:49.013Z"
   },
   {
    "duration": 35,
    "start_time": "2022-01-04T10:16:49.036Z"
   },
   {
    "duration": 24,
    "start_time": "2022-01-04T10:16:49.072Z"
   },
   {
    "duration": 16,
    "start_time": "2022-01-04T10:16:49.097Z"
   },
   {
    "duration": 6,
    "start_time": "2022-01-04T10:16:49.115Z"
   },
   {
    "duration": 20,
    "start_time": "2022-01-04T10:16:49.122Z"
   },
   {
    "duration": 33,
    "start_time": "2022-01-04T10:16:49.143Z"
   },
   {
    "duration": 68,
    "start_time": "2022-01-04T10:16:49.178Z"
   },
   {
    "duration": 60,
    "start_time": "2022-01-04T10:16:49.248Z"
   },
   {
    "duration": 26,
    "start_time": "2022-01-04T10:16:49.309Z"
   },
   {
    "duration": 4,
    "start_time": "2022-01-04T10:16:49.336Z"
   },
   {
    "duration": 19,
    "start_time": "2022-01-04T10:16:49.341Z"
   },
   {
    "duration": 12,
    "start_time": "2022-01-04T10:16:49.362Z"
   },
   {
    "duration": 23,
    "start_time": "2022-01-04T10:16:49.376Z"
   },
   {
    "duration": 21,
    "start_time": "2022-01-04T10:16:49.401Z"
   },
   {
    "duration": 6,
    "start_time": "2022-01-04T10:16:49.424Z"
   },
   {
    "duration": 296,
    "start_time": "2022-01-04T10:16:49.432Z"
   },
   {
    "duration": 13,
    "start_time": "2022-01-04T10:16:49.730Z"
   },
   {
    "duration": 17,
    "start_time": "2022-01-04T10:16:49.745Z"
   },
   {
    "duration": 5,
    "start_time": "2022-01-04T10:16:49.764Z"
   },
   {
    "duration": 23,
    "start_time": "2022-01-04T10:16:49.770Z"
   },
   {
    "duration": 1124,
    "start_time": "2022-01-04T10:16:49.795Z"
   },
   {
    "duration": 17,
    "start_time": "2022-01-04T10:16:50.921Z"
   },
   {
    "duration": 5,
    "start_time": "2022-01-04T10:16:50.939Z"
   },
   {
    "duration": 1665,
    "start_time": "2022-01-04T10:16:50.946Z"
   },
   {
    "duration": 6,
    "start_time": "2022-01-04T10:16:52.613Z"
   },
   {
    "duration": 1874,
    "start_time": "2022-01-04T10:16:52.620Z"
   },
   {
    "duration": 38,
    "start_time": "2022-01-04T10:16:54.495Z"
   },
   {
    "duration": 5,
    "start_time": "2022-01-04T10:16:54.534Z"
   },
   {
    "duration": 5,
    "start_time": "2022-01-04T10:16:54.541Z"
   },
   {
    "duration": 8,
    "start_time": "2022-01-04T10:16:54.548Z"
   },
   {
    "duration": 7,
    "start_time": "2022-01-04T10:16:54.557Z"
   },
   {
    "duration": 28,
    "start_time": "2022-01-04T10:16:54.566Z"
   },
   {
    "duration": 59,
    "start_time": "2022-01-04T10:18:58.323Z"
   },
   {
    "duration": 60,
    "start_time": "2022-01-04T10:19:12.675Z"
   },
   {
    "duration": 968,
    "start_time": "2022-01-04T10:19:27.003Z"
   },
   {
    "duration": 577,
    "start_time": "2022-01-04T10:19:27.973Z"
   },
   {
    "duration": 41,
    "start_time": "2022-01-04T10:19:28.552Z"
   },
   {
    "duration": 4,
    "start_time": "2022-01-04T10:19:28.595Z"
   },
   {
    "duration": 13,
    "start_time": "2022-01-04T10:19:28.601Z"
   },
   {
    "duration": 15,
    "start_time": "2022-01-04T10:19:28.616Z"
   },
   {
    "duration": 10,
    "start_time": "2022-01-04T10:19:28.632Z"
   },
   {
    "duration": 16,
    "start_time": "2022-01-04T10:19:28.645Z"
   },
   {
    "duration": 5,
    "start_time": "2022-01-04T10:19:28.663Z"
   },
   {
    "duration": 24,
    "start_time": "2022-01-04T10:19:28.670Z"
   },
   {
    "duration": 6,
    "start_time": "2022-01-04T10:19:28.696Z"
   },
   {
    "duration": 10,
    "start_time": "2022-01-04T10:19:28.704Z"
   },
   {
    "duration": 12,
    "start_time": "2022-01-04T10:19:28.715Z"
   },
   {
    "duration": 7,
    "start_time": "2022-01-04T10:19:28.729Z"
   },
   {
    "duration": 7,
    "start_time": "2022-01-04T10:19:28.737Z"
   },
   {
    "duration": 6,
    "start_time": "2022-01-04T10:19:28.745Z"
   },
   {
    "duration": 85,
    "start_time": "2022-01-04T10:19:28.753Z"
   },
   {
    "duration": 257,
    "start_time": "2022-01-04T10:19:28.840Z"
   },
   {
    "duration": 28,
    "start_time": "2022-01-04T10:19:29.098Z"
   },
   {
    "duration": 44,
    "start_time": "2022-01-04T10:19:29.128Z"
   },
   {
    "duration": 32,
    "start_time": "2022-01-04T10:19:29.173Z"
   },
   {
    "duration": 85,
    "start_time": "2022-01-04T10:19:29.206Z"
   },
   {
    "duration": 8,
    "start_time": "2022-01-04T10:19:29.295Z"
   },
   {
    "duration": 17,
    "start_time": "2022-01-04T10:19:29.305Z"
   },
   {
    "duration": 18,
    "start_time": "2022-01-04T10:19:29.324Z"
   },
   {
    "duration": 119,
    "start_time": "2022-01-04T10:19:29.344Z"
   },
   {
    "duration": 30,
    "start_time": "2022-01-04T10:19:29.465Z"
   },
   {
    "duration": 27,
    "start_time": "2022-01-04T10:19:29.497Z"
   },
   {
    "duration": 12,
    "start_time": "2022-01-04T10:19:29.526Z"
   },
   {
    "duration": 8,
    "start_time": "2022-01-04T10:19:29.540Z"
   },
   {
    "duration": 41,
    "start_time": "2022-01-04T10:19:29.550Z"
   },
   {
    "duration": 41,
    "start_time": "2022-01-04T10:19:29.593Z"
   },
   {
    "duration": 123,
    "start_time": "2022-01-04T10:19:29.635Z"
   },
   {
    "duration": 36,
    "start_time": "2022-01-04T10:19:29.760Z"
   },
   {
    "duration": 33,
    "start_time": "2022-01-04T10:19:29.798Z"
   },
   {
    "duration": 11,
    "start_time": "2022-01-04T10:19:29.833Z"
   },
   {
    "duration": 13,
    "start_time": "2022-01-04T10:19:29.846Z"
   },
   {
    "duration": 32,
    "start_time": "2022-01-04T10:19:29.861Z"
   },
   {
    "duration": 15,
    "start_time": "2022-01-04T10:19:29.894Z"
   },
   {
    "duration": 13,
    "start_time": "2022-01-04T10:19:29.911Z"
   },
   {
    "duration": 82,
    "start_time": "2022-01-04T10:19:29.926Z"
   },
   {
    "duration": 67,
    "start_time": "2022-01-04T10:19:30.011Z"
   },
   {
    "duration": 37,
    "start_time": "2022-01-04T10:19:30.080Z"
   },
   {
    "duration": 5,
    "start_time": "2022-01-04T10:19:30.119Z"
   },
   {
    "duration": 19,
    "start_time": "2022-01-04T10:19:30.126Z"
   },
   {
    "duration": 14,
    "start_time": "2022-01-04T10:19:30.147Z"
   },
   {
    "duration": 37,
    "start_time": "2022-01-04T10:19:30.163Z"
   },
   {
    "duration": 10,
    "start_time": "2022-01-04T10:19:30.201Z"
   },
   {
    "duration": 7,
    "start_time": "2022-01-04T10:19:30.213Z"
   },
   {
    "duration": 324,
    "start_time": "2022-01-04T10:19:30.222Z"
   },
   {
    "duration": 13,
    "start_time": "2022-01-04T10:19:30.548Z"
   },
   {
    "duration": 27,
    "start_time": "2022-01-04T10:19:30.562Z"
   },
   {
    "duration": 5,
    "start_time": "2022-01-04T10:19:30.592Z"
   },
   {
    "duration": 22,
    "start_time": "2022-01-04T10:19:30.598Z"
   },
   {
    "duration": 1223,
    "start_time": "2022-01-04T10:19:30.621Z"
   },
   {
    "duration": 18,
    "start_time": "2022-01-04T10:19:31.846Z"
   },
   {
    "duration": 5,
    "start_time": "2022-01-04T10:19:31.866Z"
   },
   {
    "duration": 1769,
    "start_time": "2022-01-04T10:19:31.873Z"
   },
   {
    "duration": 6,
    "start_time": "2022-01-04T10:19:33.644Z"
   },
   {
    "duration": 1951,
    "start_time": "2022-01-04T10:19:33.652Z"
   },
   {
    "duration": 40,
    "start_time": "2022-01-04T10:19:35.605Z"
   },
   {
    "duration": 7,
    "start_time": "2022-01-04T10:19:35.646Z"
   },
   {
    "duration": 12,
    "start_time": "2022-01-04T10:19:35.655Z"
   },
   {
    "duration": 26,
    "start_time": "2022-01-04T10:19:35.669Z"
   },
   {
    "duration": 10,
    "start_time": "2022-01-04T10:19:35.697Z"
   },
   {
    "duration": 8,
    "start_time": "2022-01-04T10:19:35.709Z"
   },
   {
    "duration": 60,
    "start_time": "2022-01-04T10:19:50.716Z"
   },
   {
    "duration": 1043,
    "start_time": "2022-01-04T10:30:29.250Z"
   },
   {
    "duration": 655,
    "start_time": "2022-01-04T10:30:30.295Z"
   },
   {
    "duration": 43,
    "start_time": "2022-01-04T10:30:30.952Z"
   },
   {
    "duration": 23,
    "start_time": "2022-01-04T10:30:30.998Z"
   },
   {
    "duration": 21,
    "start_time": "2022-01-04T10:30:31.023Z"
   },
   {
    "duration": 22,
    "start_time": "2022-01-04T10:30:31.046Z"
   },
   {
    "duration": 22,
    "start_time": "2022-01-04T10:30:31.070Z"
   },
   {
    "duration": 40,
    "start_time": "2022-01-04T10:30:31.096Z"
   },
   {
    "duration": 9,
    "start_time": "2022-01-04T10:30:31.139Z"
   },
   {
    "duration": 14,
    "start_time": "2022-01-04T10:30:31.150Z"
   },
   {
    "duration": 30,
    "start_time": "2022-01-04T10:30:31.167Z"
   },
   {
    "duration": 32,
    "start_time": "2022-01-04T10:30:31.199Z"
   },
   {
    "duration": 31,
    "start_time": "2022-01-04T10:30:31.233Z"
   },
   {
    "duration": 22,
    "start_time": "2022-01-04T10:30:31.266Z"
   },
   {
    "duration": 17,
    "start_time": "2022-01-04T10:30:31.290Z"
   },
   {
    "duration": 26,
    "start_time": "2022-01-04T10:30:31.309Z"
   },
   {
    "duration": 76,
    "start_time": "2022-01-04T10:30:31.337Z"
   },
   {
    "duration": 334,
    "start_time": "2022-01-04T10:30:31.415Z"
   },
   {
    "duration": 42,
    "start_time": "2022-01-04T10:30:31.750Z"
   },
   {
    "duration": 47,
    "start_time": "2022-01-04T10:30:31.793Z"
   },
   {
    "duration": 16,
    "start_time": "2022-01-04T10:30:31.842Z"
   },
   {
    "duration": 93,
    "start_time": "2022-01-04T10:30:31.859Z"
   },
   {
    "duration": 9,
    "start_time": "2022-01-04T10:30:31.956Z"
   },
   {
    "duration": 35,
    "start_time": "2022-01-04T10:30:31.967Z"
   },
   {
    "duration": 19,
    "start_time": "2022-01-04T10:30:32.004Z"
   },
   {
    "duration": 151,
    "start_time": "2022-01-04T10:30:32.025Z"
   },
   {
    "duration": 24,
    "start_time": "2022-01-04T10:30:32.178Z"
   },
   {
    "duration": 30,
    "start_time": "2022-01-04T10:30:32.204Z"
   },
   {
    "duration": 11,
    "start_time": "2022-01-04T10:30:32.235Z"
   },
   {
    "duration": 45,
    "start_time": "2022-01-04T10:30:32.248Z"
   },
   {
    "duration": 11,
    "start_time": "2022-01-04T10:30:32.294Z"
   },
   {
    "duration": 49,
    "start_time": "2022-01-04T10:30:32.307Z"
   },
   {
    "duration": 190,
    "start_time": "2022-01-04T10:30:32.358Z"
   },
   {
    "duration": 24,
    "start_time": "2022-01-04T10:30:32.550Z"
   },
   {
    "duration": 46,
    "start_time": "2022-01-04T10:30:32.576Z"
   },
   {
    "duration": 12,
    "start_time": "2022-01-04T10:30:32.624Z"
   },
   {
    "duration": 15,
    "start_time": "2022-01-04T10:30:32.638Z"
   },
   {
    "duration": 39,
    "start_time": "2022-01-04T10:30:32.655Z"
   },
   {
    "duration": 12,
    "start_time": "2022-01-04T10:30:32.696Z"
   },
   {
    "duration": 11,
    "start_time": "2022-01-04T10:30:32.710Z"
   },
   {
    "duration": 84,
    "start_time": "2022-01-04T10:30:32.723Z"
   },
   {
    "duration": 67,
    "start_time": "2022-01-04T10:30:32.809Z"
   },
   {
    "duration": 41,
    "start_time": "2022-01-04T10:30:32.877Z"
   },
   {
    "duration": 5,
    "start_time": "2022-01-04T10:30:32.920Z"
   },
   {
    "duration": 17,
    "start_time": "2022-01-04T10:30:32.926Z"
   },
   {
    "duration": 23,
    "start_time": "2022-01-04T10:30:32.945Z"
   },
   {
    "duration": 24,
    "start_time": "2022-01-04T10:30:32.969Z"
   },
   {
    "duration": 14,
    "start_time": "2022-01-04T10:30:32.995Z"
   },
   {
    "duration": 7,
    "start_time": "2022-01-04T10:30:33.010Z"
   },
   {
    "duration": 317,
    "start_time": "2022-01-04T10:30:33.019Z"
   },
   {
    "duration": 14,
    "start_time": "2022-01-04T10:30:33.337Z"
   },
   {
    "duration": 20,
    "start_time": "2022-01-04T10:30:33.352Z"
   },
   {
    "duration": 22,
    "start_time": "2022-01-04T10:30:33.373Z"
   },
   {
    "duration": 12,
    "start_time": "2022-01-04T10:30:33.396Z"
   },
   {
    "duration": 1178,
    "start_time": "2022-01-04T10:30:33.409Z"
   },
   {
    "duration": 18,
    "start_time": "2022-01-04T10:30:34.589Z"
   },
   {
    "duration": 6,
    "start_time": "2022-01-04T10:30:34.609Z"
   },
   {
    "duration": 1658,
    "start_time": "2022-01-04T10:30:34.616Z"
   },
   {
    "duration": 14,
    "start_time": "2022-01-04T10:30:36.277Z"
   },
   {
    "duration": 1898,
    "start_time": "2022-01-04T10:30:36.293Z"
   },
   {
    "duration": 35,
    "start_time": "2022-01-04T10:30:38.193Z"
   },
   {
    "duration": 5,
    "start_time": "2022-01-04T10:30:38.229Z"
   },
   {
    "duration": 5,
    "start_time": "2022-01-04T10:30:38.236Z"
   },
   {
    "duration": 7,
    "start_time": "2022-01-04T10:30:38.243Z"
   },
   {
    "duration": 8,
    "start_time": "2022-01-04T10:30:38.251Z"
   },
   {
    "duration": 32,
    "start_time": "2022-01-04T10:30:38.260Z"
   },
   {
    "duration": 7,
    "start_time": "2022-01-04T10:39:37.648Z"
   },
   {
    "duration": 978,
    "start_time": "2022-01-04T10:39:50.301Z"
   },
   {
    "duration": 585,
    "start_time": "2022-01-04T10:39:51.281Z"
   },
   {
    "duration": 18,
    "start_time": "2022-01-04T10:39:51.892Z"
   },
   {
    "duration": 5,
    "start_time": "2022-01-04T10:39:51.911Z"
   },
   {
    "duration": 8,
    "start_time": "2022-01-04T10:39:51.917Z"
   },
   {
    "duration": 7,
    "start_time": "2022-01-04T10:39:51.926Z"
   },
   {
    "duration": 7,
    "start_time": "2022-01-04T10:39:51.936Z"
   },
   {
    "duration": 59,
    "start_time": "2022-01-04T10:39:51.945Z"
   },
   {
    "duration": 7,
    "start_time": "2022-01-04T10:39:52.005Z"
   },
   {
    "duration": 12,
    "start_time": "2022-01-04T10:39:52.013Z"
   },
   {
    "duration": 8,
    "start_time": "2022-01-04T10:39:52.026Z"
   },
   {
    "duration": 10,
    "start_time": "2022-01-04T10:39:52.035Z"
   },
   {
    "duration": 12,
    "start_time": "2022-01-04T10:39:52.047Z"
   },
   {
    "duration": 34,
    "start_time": "2022-01-04T10:39:52.060Z"
   },
   {
    "duration": 10,
    "start_time": "2022-01-04T10:39:52.095Z"
   },
   {
    "duration": 8,
    "start_time": "2022-01-04T10:39:52.106Z"
   },
   {
    "duration": 53,
    "start_time": "2022-01-04T10:39:52.116Z"
   },
   {
    "duration": 283,
    "start_time": "2022-01-04T10:39:52.170Z"
   },
   {
    "duration": 41,
    "start_time": "2022-01-04T10:39:52.454Z"
   },
   {
    "duration": 44,
    "start_time": "2022-01-04T10:39:52.497Z"
   },
   {
    "duration": 15,
    "start_time": "2022-01-04T10:39:52.543Z"
   },
   {
    "duration": 90,
    "start_time": "2022-01-04T10:39:52.562Z"
   },
   {
    "duration": 7,
    "start_time": "2022-01-04T10:39:52.654Z"
   },
   {
    "duration": 34,
    "start_time": "2022-01-04T10:39:52.663Z"
   },
   {
    "duration": 19,
    "start_time": "2022-01-04T10:39:52.698Z"
   },
   {
    "duration": 110,
    "start_time": "2022-01-04T10:39:52.719Z"
   },
   {
    "duration": 18,
    "start_time": "2022-01-04T10:39:52.831Z"
   },
   {
    "duration": 44,
    "start_time": "2022-01-04T10:39:52.851Z"
   },
   {
    "duration": 10,
    "start_time": "2022-01-04T10:39:52.897Z"
   },
   {
    "duration": 6,
    "start_time": "2022-01-04T10:39:52.908Z"
   },
   {
    "duration": 9,
    "start_time": "2022-01-04T10:39:52.916Z"
   },
   {
    "duration": 70,
    "start_time": "2022-01-04T10:39:52.927Z"
   },
   {
    "duration": 144,
    "start_time": "2022-01-04T10:39:52.999Z"
   },
   {
    "duration": 21,
    "start_time": "2022-01-04T10:39:53.145Z"
   },
   {
    "duration": 39,
    "start_time": "2022-01-04T10:39:53.168Z"
   },
   {
    "duration": 12,
    "start_time": "2022-01-04T10:39:53.208Z"
   },
   {
    "duration": 12,
    "start_time": "2022-01-04T10:39:53.222Z"
   },
   {
    "duration": 6,
    "start_time": "2022-01-04T10:39:53.236Z"
   },
   {
    "duration": 10,
    "start_time": "2022-01-04T10:39:53.244Z"
   },
   {
    "duration": 44,
    "start_time": "2022-01-04T10:39:53.256Z"
   },
   {
    "duration": 50,
    "start_time": "2022-01-04T10:39:53.302Z"
   },
   {
    "duration": 82,
    "start_time": "2022-01-04T10:39:53.353Z"
   },
   {
    "duration": 26,
    "start_time": "2022-01-04T10:39:53.436Z"
   },
   {
    "duration": 27,
    "start_time": "2022-01-04T10:39:53.464Z"
   },
   {
    "duration": 6,
    "start_time": "2022-01-04T10:39:53.493Z"
   },
   {
    "duration": 11,
    "start_time": "2022-01-04T10:39:53.501Z"
   },
   {
    "duration": 14,
    "start_time": "2022-01-04T10:39:53.513Z"
   },
   {
    "duration": 12,
    "start_time": "2022-01-04T10:39:53.529Z"
   },
   {
    "duration": 6,
    "start_time": "2022-01-04T10:39:53.543Z"
   },
   {
    "duration": 322,
    "start_time": "2022-01-04T10:39:53.551Z"
   },
   {
    "duration": 17,
    "start_time": "2022-01-04T10:39:53.875Z"
   },
   {
    "duration": 15,
    "start_time": "2022-01-04T10:39:53.894Z"
   },
   {
    "duration": 5,
    "start_time": "2022-01-04T10:39:53.911Z"
   },
   {
    "duration": 8,
    "start_time": "2022-01-04T10:39:53.918Z"
   },
   {
    "duration": 1121,
    "start_time": "2022-01-04T10:39:53.927Z"
   },
   {
    "duration": 17,
    "start_time": "2022-01-04T10:39:55.050Z"
   },
   {
    "duration": 5,
    "start_time": "2022-01-04T10:39:55.069Z"
   },
   {
    "duration": 1634,
    "start_time": "2022-01-04T10:39:55.076Z"
   },
   {
    "duration": 6,
    "start_time": "2022-01-04T10:39:56.712Z"
   },
   {
    "duration": 1844,
    "start_time": "2022-01-04T10:39:56.720Z"
   },
   {
    "duration": 6,
    "start_time": "2022-01-04T10:39:58.566Z"
   },
   {
    "duration": 44,
    "start_time": "2022-01-04T10:39:58.573Z"
   },
   {
    "duration": 5,
    "start_time": "2022-01-04T10:39:58.619Z"
   },
   {
    "duration": 7,
    "start_time": "2022-01-04T10:39:58.625Z"
   },
   {
    "duration": 5,
    "start_time": "2022-01-04T10:39:58.634Z"
   },
   {
    "duration": 6,
    "start_time": "2022-01-04T10:39:58.640Z"
   },
   {
    "duration": 4,
    "start_time": "2022-01-04T10:39:58.650Z"
   }
  ],
  "celltoolbar": "Необработанный формат ячейки",
  "kernelspec": {
   "display_name": "Python 3 (ipykernel)",
   "language": "python",
   "name": "python3"
  },
  "language_info": {
   "codemirror_mode": {
    "name": "ipython",
    "version": 3
   },
   "file_extension": ".py",
   "mimetype": "text/x-python",
   "name": "python",
   "nbconvert_exporter": "python",
   "pygments_lexer": "ipython3",
   "version": "3.9.20"
  },
  "toc": {
   "base_numbering": 1,
   "nav_menu": {
    "height": "147px",
    "width": "234px"
   },
   "number_sections": false,
   "sideBar": true,
   "skip_h1_title": true,
   "title_cell": "Table of Contents",
   "title_sidebar": "Contents",
   "toc_cell": false,
   "toc_position": {
    "height": "calc(100% - 180px)",
    "left": "10px",
    "top": "150px",
    "width": "178.6px"
   },
   "toc_section_display": true,
   "toc_window_display": false
  }
 },
 "nbformat": 4,
 "nbformat_minor": 4
}
